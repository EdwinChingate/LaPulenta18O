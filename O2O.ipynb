{
 "cells": [
  {
   "cell_type": "code",
   "execution_count": 1,
   "id": "3926b738",
   "metadata": {
    "ExecuteTime": {
     "end_time": "2024-10-02T20:46:12.570274Z",
     "start_time": "2024-10-02T20:46:12.061063Z"
    }
   },
   "outputs": [],
   "source": [
    "import sys\n",
    "import os\n",
    "home=os.getcwd()\n",
    "sys.path.append(home+'/Functions')\n",
    "from O2OData import *"
   ]
  },
  {
   "cell_type": "code",
   "execution_count": 5,
   "id": "a68497d2",
   "metadata": {
    "ExecuteTime": {
     "end_time": "2024-10-02T20:50:56.968682Z",
     "start_time": "2024-10-02T20:50:56.920336Z"
    }
   },
   "outputs": [],
   "source": [
    "min_mz=80\n",
    "max_mz=1250\n",
    "minInt=1e4\n",
    "ML=1\n",
    "MinDif=2.0038\n",
    "MaxDif=2.0046\n",
    "min_RT=2\n",
    "max_RT=5\n",
    "max_mz_Tol=5e-3\n",
    "max_RT_Tol=0.3\n",
    "FeaturesNumber=500\n",
    "MinSignalsSpectra=10\n",
    "MinSignals=3\n",
    "MinIntKernel=5*minInt\n",
    "alpha=0.01\n",
    "MaxDeep=3\n",
    "SafetyFactor=4\n",
    "TheoricalDif=2.0042449932959006\n",
    "MinNumberCandidatesClustering=3\n",
    "\n",
    "#Mia's par RT 6-8, mz 280-287\n",
    "# Blanks substraction\n",
    "#Include all files in the Data folder"
   ]
  },
  {
   "cell_type": "code",
   "execution_count": null,
   "id": "0b65b9f7",
   "metadata": {
    "ExecuteTime": {
     "start_time": "2024-10-02T20:51:00.880Z"
    },
    "scrolled": true
   },
   "outputs": [
    {
     "name": "stdout",
     "output_type": "stream",
     "text": [
      "MT_5.mzML\n"
     ]
    }
   ],
   "source": [
    "O2OData(Folder='Data',min_mz=min_mz,max_mz=max_mz,minInt=minInt,ML=ML,MinDif=MinDif,MaxDif=MaxDif,min_RT=min_RT,max_RT=max_RT,max_mz_Tol=max_mz_Tol,max_RT_Tol=max_RT_Tol,FeaturesNumber=FeaturesNumber,MinSignals=MinSignals,MinIntKernel=MinIntKernel,alpha=alpha,MaxDeep=MaxDeep,SafetyFactor=SafetyFactor,TheoricalDif=TheoricalDif,MinNumberCandidatesClustering=MinNumberCandidatesClustering)"
   ]
  }
 ],
 "metadata": {
  "kernelspec": {
   "display_name": "Python 3 (ipykernel)",
   "language": "python",
   "name": "python3"
  },
  "language_info": {
   "codemirror_mode": {
    "name": "ipython",
    "version": 3
   },
   "file_extension": ".py",
   "mimetype": "text/x-python",
   "name": "python",
   "nbconvert_exporter": "python",
   "pygments_lexer": "ipython3",
   "version": "3.7.13"
  }
 },
 "nbformat": 4,
 "nbformat_minor": 5
}
