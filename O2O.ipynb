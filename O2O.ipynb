{
 "cells": [
  {
   "cell_type": "code",
   "execution_count": 1,
   "id": "30f17060",
   "metadata": {
    "ExecuteTime": {
     "end_time": "2023-08-14T03:02:01.612247Z",
     "start_time": "2023-08-14T03:02:00.291181Z"
    }
   },
   "outputs": [],
   "source": [
    "import sys\n",
    "import os\n",
    "home=os.getcwd()\n",
    "sys.path.append(home+'/Functions')\n",
    "from JoinSpectra import *\n",
    "from ChargeDataSet import *\n",
    "from ShowDF import *\n",
    "import pandas as pd\n",
    "import pyopenms\n",
    "import matplotlib.pyplot as plt\n",
    "from AdjacencyMatGen  import *\n",
    "from Centroids import *\n",
    "from RawKernel import *\n",
    "from ModulesK_Nearst import *\n",
    "from SummaryClusters import *\n",
    "#from MSPeaks"
   ]
  },
  {
   "cell_type": "code",
   "execution_count": 2,
   "id": "c75a7e7b",
   "metadata": {
    "ExecuteTime": {
     "end_time": "2023-08-14T03:02:01.617874Z",
     "start_time": "2023-08-14T03:02:01.614909Z"
    }
   },
   "outputs": [],
   "source": [
    "DataSetName='MT_5.mzML'"
   ]
  },
  {
   "cell_type": "code",
   "execution_count": 3,
   "id": "f81e3d2d",
   "metadata": {
    "ExecuteTime": {
     "end_time": "2023-08-14T03:02:18.908309Z",
     "start_time": "2023-08-14T03:02:01.619527Z"
    }
   },
   "outputs": [],
   "source": [
    "DataSet=ChargeDataSet(DataSetName)"
   ]
  },
  {
   "cell_type": "code",
   "execution_count": 4,
   "id": "c7db3363",
   "metadata": {
    "ExecuteTime": {
     "end_time": "2023-08-14T03:02:20.762465Z",
     "start_time": "2023-08-14T03:02:18.911710Z"
    }
   },
   "outputs": [
    {
     "name": "stdout",
     "output_type": "stream",
     "text": [
      "166\n"
     ]
    }
   ],
   "source": [
    "SignalsMat=JoinSpectra(DataSet,min_mz=280,max_mz=290,minInt=1e4,MinDif=2.0038,MaxDif=2.0046) #Table generating\n",
    " #Another column for the intensities, then we can cluster, this is something to update in JoinSpectra\n",
    "testLoc=np.argsort(SignalsMat[:500,0]) #Sorting out table\n",
    "print(len(SignalsMat))"
   ]
  },
  {
   "cell_type": "code",
   "execution_count": 5,
   "id": "945e143d",
   "metadata": {
    "ExecuteTime": {
     "end_time": "2023-08-14T03:02:20.774326Z",
     "start_time": "2023-08-14T03:02:20.766450Z"
    }
   },
   "outputs": [],
   "source": [
    "AdjacencyMatrix=AdjacencyMatGen(SignalsMat,max_mz_Tol=1e-3) #Adjacency Mat(rix) Gen(eration)"
   ]
  },
  {
   "cell_type": "code",
   "execution_count": 6,
   "id": "eba76d67",
   "metadata": {
    "ExecuteTime": {
     "end_time": "2023-08-14T03:02:20.810156Z",
     "start_time": "2023-08-14T03:02:20.776596Z"
    },
    "scrolled": true
   },
   "outputs": [],
   "source": [
    "KernelIDs=Centroids(SignalsMat,AdjacencyMatrix) \n"
   ]
  },
  {
   "cell_type": "code",
   "execution_count": 7,
   "id": "318027d6",
   "metadata": {
    "ExecuteTime": {
     "end_time": "2023-08-14T03:02:20.837813Z",
     "start_time": "2023-08-14T03:02:20.812553Z"
    }
   },
   "outputs": [
    {
     "name": "stdout",
     "output_type": "stream",
     "text": [
      "(16, 8)\n"
     ]
    },
    {
     "data": {
      "text/html": [
       "<table>\n",
       "<thead>\n",
       "<tr><th style=\"text-align: right;\">  </th><th style=\"text-align: right;\">      0</th><th style=\"text-align: right;\">         1</th><th style=\"text-align: right;\">      2</th><th style=\"text-align: right;\">          3</th><th style=\"text-align: right;\">  4</th><th style=\"text-align: right;\">          5</th><th style=\"text-align: right;\">       6</th><th style=\"text-align: right;\">               7</th></tr>\n",
       "</thead>\n",
       "<tbody>\n",
       "<tr><td style=\"text-align: right;\"> 0</td><td style=\"text-align: right;\">5.13919</td><td style=\"text-align: right;\">0.0145578 </td><td style=\"text-align: right;\">282.171</td><td style=\"text-align: right;\">0.000521687</td><td style=\"text-align: right;\"> 13</td><td style=\"text-align: right;\">0.000441961</td><td style=\"text-align: right;\">1.56629 </td><td style=\"text-align: right;\">     2.36226e+07</td></tr>\n",
       "<tr><td style=\"text-align: right;\"> 1</td><td style=\"text-align: right;\">5.13496</td><td style=\"text-align: right;\">0.00999821</td><td style=\"text-align: right;\">284.176</td><td style=\"text-align: right;\">0.000436335</td><td style=\"text-align: right;\">  4</td><td style=\"text-align: right;\">0.0012743  </td><td style=\"text-align: right;\">4.48419 </td><td style=\"text-align: right;\">     1.19711e+07</td></tr>\n",
       "<tr><td style=\"text-align: right;\"> 2</td><td style=\"text-align: right;\">3.1573 </td><td style=\"text-align: right;\">0.0603143 </td><td style=\"text-align: right;\">282.17 </td><td style=\"text-align: right;\">0.000149192</td><td style=\"text-align: right;\"> 35</td><td style=\"text-align: right;\">6.88047e-05</td><td style=\"text-align: right;\">0.243841</td><td style=\"text-align: right;\">     1.62876e+07</td></tr>\n",
       "<tr><td style=\"text-align: right;\"> 3</td><td style=\"text-align: right;\">5.13859</td><td style=\"text-align: right;\">0.0146065 </td><td style=\"text-align: right;\">283.173</td><td style=\"text-align: right;\">8.95057e-05</td><td style=\"text-align: right;\"> 14</td><td style=\"text-align: right;\">7.20579e-05</td><td style=\"text-align: right;\">0.254466</td><td style=\"text-align: right;\">     4.57596e+06</td></tr>\n",
       "<tr><td style=\"text-align: right;\"> 4</td><td style=\"text-align: right;\">3.97856</td><td style=\"text-align: right;\">0.0660956 </td><td style=\"text-align: right;\">284.186</td><td style=\"text-align: right;\">0.000123157</td><td style=\"text-align: right;\">  7</td><td style=\"text-align: right;\">0.000172577</td><td style=\"text-align: right;\">0.607268</td><td style=\"text-align: right;\">     3.7973e+06 </td></tr>\n",
       "<tr><td style=\"text-align: right;\"> 5</td><td style=\"text-align: right;\">7.55264</td><td style=\"text-align: right;\">0.0187898 </td><td style=\"text-align: right;\">280.104</td><td style=\"text-align: right;\">7.38961e-05</td><td style=\"text-align: right;\"> 15</td><td style=\"text-align: right;\">5.67978e-05</td><td style=\"text-align: right;\">0.202774</td><td style=\"text-align: right;\">     6.33166e+06</td></tr>\n",
       "<tr><td style=\"text-align: right;\"> 6</td><td style=\"text-align: right;\">3.1561 </td><td style=\"text-align: right;\">0.0363775 </td><td style=\"text-align: right;\">283.174</td><td style=\"text-align: right;\">0.000155827</td><td style=\"text-align: right;\"> 22</td><td style=\"text-align: right;\">9.40648e-05</td><td style=\"text-align: right;\">0.332181</td><td style=\"text-align: right;\">     4.86333e+06</td></tr>\n",
       "<tr><td style=\"text-align: right;\"> 7</td><td style=\"text-align: right;\">6.72638</td><td style=\"text-align: right;\">0.0137086 </td><td style=\"text-align: right;\">286.165</td><td style=\"text-align: right;\">0.000200134</td><td style=\"text-align: right;\">  6</td><td style=\"text-align: right;\">0.000329443</td><td style=\"text-align: right;\">1.15124 </td><td style=\"text-align: right;\">615867          </td></tr>\n",
       "<tr><td style=\"text-align: right;\"> 8</td><td style=\"text-align: right;\">7.174  </td><td style=\"text-align: right;\">0.0142932 </td><td style=\"text-align: right;\">282.17 </td><td style=\"text-align: right;\">0.000237688</td><td style=\"text-align: right;\">  8</td><td style=\"text-align: right;\">0.000294081</td><td style=\"text-align: right;\">1.04221 </td><td style=\"text-align: right;\">588558          </td></tr>\n",
       "<tr><td style=\"text-align: right;\"> 9</td><td style=\"text-align: right;\">7.5443 </td><td style=\"text-align: right;\">0.0118875 </td><td style=\"text-align: right;\">281.108</td><td style=\"text-align: right;\">0.000250636</td><td style=\"text-align: right;\">  8</td><td style=\"text-align: right;\">0.0003101  </td><td style=\"text-align: right;\">1.10314 </td><td style=\"text-align: right;\">644660          </td></tr>\n",
       "</tbody>\n",
       "</table>"
      ],
      "text/plain": [
       "<IPython.core.display.HTML object>"
      ]
     },
     "metadata": {},
     "output_type": "display_data"
    }
   ],
   "source": [
    "Kernel=RawKernel(SignalsMat.copy(),KernelIDs,ReturnDF=False)    \n",
    "#I'm still missing a statistical test to validate that all elements in the Kernel are different\n",
    "print(np.shape(Kernel) )\n",
    "ShowDF(pd.DataFrame(Kernel[:10,:]))"
   ]
  },
  {
   "cell_type": "code",
   "execution_count": 8,
   "id": "98558106",
   "metadata": {
    "ExecuteTime": {
     "end_time": "2023-08-14T03:02:20.860126Z",
     "start_time": "2023-08-14T03:02:20.841158Z"
    }
   },
   "outputs": [],
   "source": [
    "Modules=ModulesK_Nearst(SignalsMat,Kernel)"
   ]
  },
  {
   "cell_type": "code",
   "execution_count": 9,
   "id": "26d07128",
   "metadata": {
    "ExecuteTime": {
     "end_time": "2023-08-14T03:02:20.879569Z",
     "start_time": "2023-08-14T03:02:20.861806Z"
    }
   },
   "outputs": [],
   "source": [
    "SummaryCluster=SummaryClusters(SignalsMat,Modules)"
   ]
  },
  {
   "cell_type": "code",
   "execution_count": 10,
   "id": "84c06a90",
   "metadata": {
    "ExecuteTime": {
     "end_time": "2023-08-14T03:02:20.901804Z",
     "start_time": "2023-08-14T03:02:20.883018Z"
    }
   },
   "outputs": [
    {
     "data": {
      "text/html": [
       "<table>\n",
       "<thead>\n",
       "<tr><th style=\"text-align: right;\">  </th><th style=\"text-align: right;\">  Pass</th><th style=\"text-align: right;\">  AverageRT_1</th><th style=\"text-align: right;\">   StdRT_1</th><th style=\"text-align: right;\">  AverageMZ_1</th><th style=\"text-align: right;\">    StdMZ_1</th><th style=\"text-align: right;\">  l_1</th><th style=\"text-align: right;\">  ConfidenceIntervalDa_1</th><th style=\"text-align: right;\">  ConfidenceInterval_1</th><th style=\"text-align: right;\">  AverageRT_2</th><th style=\"text-align: right;\">   StdRT_2</th><th style=\"text-align: right;\">  AverageMZ_2</th><th style=\"text-align: right;\">    StdMZ_2</th><th style=\"text-align: right;\">  l_2</th><th style=\"text-align: right;\">  ConfidenceIntervalDa_2</th><th style=\"text-align: right;\">  ConfidenceInterval_2</th><th style=\"text-align: right;\">  Difference</th><th style=\"text-align: right;\">  ConfidenceInterval</th><th style=\"text-align: right;\">  ConfidenceInterval(ppm)_dif</th><th style=\"text-align: right;\">  ConfidenceInterval(ppm)_mz1</th><th style=\"text-align: right;\">  ConfidenceInterval(ppm)_mz2</th><th style=\"text-align: right;\">   tref</th><th style=\"text-align: right;\">      stMix</th></tr>\n",
       "</thead>\n",
       "<tbody>\n",
       "<tr><td style=\"text-align: right;\"> 0</td><td style=\"text-align: right;\">     0</td><td style=\"text-align: right;\">      7.55264</td><td style=\"text-align: right;\">0.0187898 </td><td style=\"text-align: right;\">      280.104</td><td style=\"text-align: right;\">7.38961e-05</td><td style=\"text-align: right;\">   15</td><td style=\"text-align: right;\">             5.67978e-05</td><td style=\"text-align: right;\">              0.202774</td><td style=\"text-align: right;\">      7.55235</td><td style=\"text-align: right;\">0.0187335 </td><td style=\"text-align: right;\">      282.109</td><td style=\"text-align: right;\">9.41523e-05</td><td style=\"text-align: right;\">   15</td><td style=\"text-align: right;\">             7.23671e-05</td><td style=\"text-align: right;\">              0.256522</td><td style=\"text-align: right;\">    2.00433 </td><td style=\"text-align: right;\">         8.57442e-05</td><td style=\"text-align: right;\">                 42.7794     </td><td style=\"text-align: right;\">                     0.306115</td><td style=\"text-align: right;\">                     0.30394 </td><td style=\"text-align: right;\">2.77459</td><td style=\"text-align: right;\">3.09034e-05</td></tr>\n",
       "<tr><td style=\"text-align: right;\"> 1</td><td style=\"text-align: right;\">     1</td><td style=\"text-align: right;\">      8.01075</td><td style=\"text-align: right;\">0.0250827 </td><td style=\"text-align: right;\">      280.154</td><td style=\"text-align: right;\">0.000229827</td><td style=\"text-align: right;\">    5</td><td style=\"text-align: right;\">             0.000473217</td><td style=\"text-align: right;\">              1.68913 </td><td style=\"text-align: right;\">      8.01071</td><td style=\"text-align: right;\">0.0250007 </td><td style=\"text-align: right;\">      282.159</td><td style=\"text-align: right;\">0.000222901</td><td style=\"text-align: right;\">    5</td><td style=\"text-align: right;\">             0.000458956</td><td style=\"text-align: right;\">              1.62659 </td><td style=\"text-align: right;\">    2.0045  </td><td style=\"text-align: right;\">         0.000480562</td><td style=\"text-align: right;\">                239.741      </td><td style=\"text-align: right;\">                     1.71535 </td><td style=\"text-align: right;\">                     1.70316 </td><td style=\"text-align: right;\">3.3563 </td><td style=\"text-align: right;\">0.000143182</td></tr>\n",
       "<tr><td style=\"text-align: right;\"> 2</td><td style=\"text-align: right;\">     1</td><td style=\"text-align: right;\">      7.5443 </td><td style=\"text-align: right;\">0.0118875 </td><td style=\"text-align: right;\">      281.108</td><td style=\"text-align: right;\">0.000250636</td><td style=\"text-align: right;\">    8</td><td style=\"text-align: right;\">             0.0003101  </td><td style=\"text-align: right;\">              1.10314 </td><td style=\"text-align: right;\">      7.54399</td><td style=\"text-align: right;\">0.0120155 </td><td style=\"text-align: right;\">      283.112</td><td style=\"text-align: right;\">0.000207868</td><td style=\"text-align: right;\">    8</td><td style=\"text-align: right;\">             0.000257186</td><td style=\"text-align: right;\">              0.908425</td><td style=\"text-align: right;\">    2.00406 </td><td style=\"text-align: right;\">         0.000344509</td><td style=\"text-align: right;\">                171.905      </td><td style=\"text-align: right;\">                     1.22554 </td><td style=\"text-align: right;\">                     1.21686 </td><td style=\"text-align: right;\">2.99251</td><td style=\"text-align: right;\">0.000115124</td></tr>\n",
       "<tr><td style=\"text-align: right;\"> 3</td><td style=\"text-align: right;\">     1</td><td style=\"text-align: right;\">      6.52357</td><td style=\"text-align: right;\">0.00982191</td><td style=\"text-align: right;\">      281.49 </td><td style=\"text-align: right;\">0.000193347</td><td style=\"text-align: right;\">    6</td><td style=\"text-align: right;\">             0.000318272</td><td style=\"text-align: right;\">              1.13067 </td><td style=\"text-align: right;\">      6.52438</td><td style=\"text-align: right;\">0.00949602</td><td style=\"text-align: right;\">      283.494</td><td style=\"text-align: right;\">0.000161471</td><td style=\"text-align: right;\">    6</td><td style=\"text-align: right;\">             0.0002658  </td><td style=\"text-align: right;\">              0.937585</td><td style=\"text-align: right;\">    2.00414 </td><td style=\"text-align: right;\">         0.000328261</td><td style=\"text-align: right;\">                163.791      </td><td style=\"text-align: right;\">                     1.16616 </td><td style=\"text-align: right;\">                     1.15791 </td><td style=\"text-align: right;\">3.19197</td><td style=\"text-align: right;\">0.00010284 </td></tr>\n",
       "<tr><td style=\"text-align: right;\"> 4</td><td style=\"text-align: right;\">     1</td><td style=\"text-align: right;\">      7.174  </td><td style=\"text-align: right;\">0.0142932 </td><td style=\"text-align: right;\">      282.17 </td><td style=\"text-align: right;\">0.000237688</td><td style=\"text-align: right;\">    8</td><td style=\"text-align: right;\">             0.000294081</td><td style=\"text-align: right;\">              1.04221 </td><td style=\"text-align: right;\">      7.17409</td><td style=\"text-align: right;\">0.0142428 </td><td style=\"text-align: right;\">      284.174</td><td style=\"text-align: right;\">0.000218566</td><td style=\"text-align: right;\">    8</td><td style=\"text-align: right;\">             0.000270422</td><td style=\"text-align: right;\">              0.951606</td><td style=\"text-align: right;\">    2.00443 </td><td style=\"text-align: right;\">         0.000340212</td><td style=\"text-align: right;\">                169.73       </td><td style=\"text-align: right;\">                     1.2057  </td><td style=\"text-align: right;\">                     1.1972  </td><td style=\"text-align: right;\">2.98004</td><td style=\"text-align: right;\">0.000114164</td></tr>\n",
       "<tr><td style=\"text-align: right;\"> 5</td><td style=\"text-align: right;\">     0</td><td style=\"text-align: right;\">      3.15272</td><td style=\"text-align: right;\">0.0534129 </td><td style=\"text-align: right;\">      282.17 </td><td style=\"text-align: right;\">0.000114636</td><td style=\"text-align: right;\">   26</td><td style=\"text-align: right;\">             6.26671e-05</td><td style=\"text-align: right;\">              0.22209 </td><td style=\"text-align: right;\">      3.15464</td><td style=\"text-align: right;\">0.0536722 </td><td style=\"text-align: right;\">      284.175</td><td style=\"text-align: right;\">0.000166426</td><td style=\"text-align: right;\">   26</td><td style=\"text-align: right;\">             9.09785e-05</td><td style=\"text-align: right;\">              0.32015 </td><td style=\"text-align: right;\">    2.00441 </td><td style=\"text-align: right;\">         0.000106662</td><td style=\"text-align: right;\">                 53.2137     </td><td style=\"text-align: right;\">                     0.378006</td><td style=\"text-align: right;\">                     0.37534 </td><td style=\"text-align: right;\">2.69128</td><td style=\"text-align: right;\">3.96324e-05</td></tr>\n",
       "<tr><td style=\"text-align: right;\"> 6</td><td style=\"text-align: right;\">     1</td><td style=\"text-align: right;\">      5.13905</td><td style=\"text-align: right;\">0.0142265 </td><td style=\"text-align: right;\">      282.171</td><td style=\"text-align: right;\">0.000520678</td><td style=\"text-align: right;\">   12</td><td style=\"text-align: right;\">             0.000466824</td><td style=\"text-align: right;\">              1.6544  </td><td style=\"text-align: right;\">      5.13902</td><td style=\"text-align: right;\">0.0142156 </td><td style=\"text-align: right;\">      284.175</td><td style=\"text-align: right;\">0.000478348</td><td style=\"text-align: right;\">   12</td><td style=\"text-align: right;\">             0.000428872</td><td style=\"text-align: right;\">              1.50918 </td><td style=\"text-align: right;\">    2.00426 </td><td style=\"text-align: right;\">         0.000575717</td><td style=\"text-align: right;\">                287.246      </td><td style=\"text-align: right;\">                     2.04031 </td><td style=\"text-align: right;\">                     2.02592 </td><td style=\"text-align: right;\">2.82064</td><td style=\"text-align: right;\">0.000204108</td></tr>\n",
       "<tr><td style=\"text-align: right;\"> 7</td><td style=\"text-align: right;\">     1</td><td style=\"text-align: right;\">      3.16869</td><td style=\"text-align: right;\">0.00686919</td><td style=\"text-align: right;\">      282.337</td><td style=\"text-align: right;\">0.000117863</td><td style=\"text-align: right;\">    4</td><td style=\"text-align: right;\">             0.000344214</td><td style=\"text-align: right;\">              1.21916 </td><td style=\"text-align: right;\">      3.16862</td><td style=\"text-align: right;\">0.00688504</td><td style=\"text-align: right;\">      284.341</td><td style=\"text-align: right;\">0.000170091</td><td style=\"text-align: right;\">    4</td><td style=\"text-align: right;\">             0.000496743</td><td style=\"text-align: right;\">              1.747   </td><td style=\"text-align: right;\">    2.00405 </td><td style=\"text-align: right;\">         0.000403812</td><td style=\"text-align: right;\">                201.498      </td><td style=\"text-align: right;\">                     1.43025 </td><td style=\"text-align: right;\">                     1.42017 </td><td style=\"text-align: right;\">3.90277</td><td style=\"text-align: right;\">0.000103468</td></tr>\n",
       "<tr><td style=\"text-align: right;\"> 8</td><td style=\"text-align: right;\">     1</td><td style=\"text-align: right;\">      7.17537</td><td style=\"text-align: right;\">0.0130661 </td><td style=\"text-align: right;\">      283.173</td><td style=\"text-align: right;\">0.000227876</td><td style=\"text-align: right;\">    5</td><td style=\"text-align: right;\">             0.000469199</td><td style=\"text-align: right;\">              1.65693 </td><td style=\"text-align: right;\">      7.17564</td><td style=\"text-align: right;\">0.0131057 </td><td style=\"text-align: right;\">      285.177</td><td style=\"text-align: right;\">0.000203038</td><td style=\"text-align: right;\">    5</td><td style=\"text-align: right;\">             0.000418059</td><td style=\"text-align: right;\">              1.46596 </td><td style=\"text-align: right;\">    2.0041  </td><td style=\"text-align: right;\">         0.00045975 </td><td style=\"text-align: right;\">                229.405      </td><td style=\"text-align: right;\">                     1.62357 </td><td style=\"text-align: right;\">                     1.61216 </td><td style=\"text-align: right;\">3.3683 </td><td style=\"text-align: right;\">0.000136493</td></tr>\n",
       "<tr><td style=\"text-align: right;\"> 9</td><td style=\"text-align: right;\">     1</td><td style=\"text-align: right;\">      5.138  </td><td style=\"text-align: right;\">0.0134733 </td><td style=\"text-align: right;\">      283.173</td><td style=\"text-align: right;\">8.58357e-05</td><td style=\"text-align: right;\">   11</td><td style=\"text-align: right;\">             8.20221e-05</td><td style=\"text-align: right;\">              0.289653</td><td style=\"text-align: right;\">      5.13802</td><td style=\"text-align: right;\">0.0134964 </td><td style=\"text-align: right;\">      285.178</td><td style=\"text-align: right;\">0.000122544</td><td style=\"text-align: right;\">   11</td><td style=\"text-align: right;\">             0.000117099</td><td style=\"text-align: right;\">              0.410619</td><td style=\"text-align: right;\">    2.00428 </td><td style=\"text-align: right;\">         0.000129925</td><td style=\"text-align: right;\">                 64.8239     </td><td style=\"text-align: right;\">                     0.458819</td><td style=\"text-align: right;\">                     0.455595</td><td style=\"text-align: right;\">2.88014</td><td style=\"text-align: right;\">4.51107e-05</td></tr>\n",
       "<tr><td style=\"text-align: right;\">10</td><td style=\"text-align: right;\">     1</td><td style=\"text-align: right;\">      3.15571</td><td style=\"text-align: right;\">0.0355969 </td><td style=\"text-align: right;\">      283.174</td><td style=\"text-align: right;\">0.000147411</td><td style=\"text-align: right;\">   21</td><td style=\"text-align: right;\">             9.15281e-05</td><td style=\"text-align: right;\">              0.323223</td><td style=\"text-align: right;\">      3.15695</td><td style=\"text-align: right;\">0.0351607 </td><td style=\"text-align: right;\">      285.178</td><td style=\"text-align: right;\">0.000154558</td><td style=\"text-align: right;\">   21</td><td style=\"text-align: right;\">             9.59655e-05</td><td style=\"text-align: right;\">              0.336511</td><td style=\"text-align: right;\">    2.00425 </td><td style=\"text-align: right;\">         0.000126063</td><td style=\"text-align: right;\">                 62.898      </td><td style=\"text-align: right;\">                     0.445179</td><td style=\"text-align: right;\">                     0.442051</td><td style=\"text-align: right;\">2.70476</td><td style=\"text-align: right;\">4.66078e-05</td></tr>\n",
       "<tr><td style=\"text-align: right;\">11</td><td style=\"text-align: right;\">     0</td><td style=\"text-align: right;\">      3.36082</td><td style=\"text-align: right;\">0.629     </td><td style=\"text-align: right;\">      283.668</td><td style=\"text-align: right;\">1.06528    </td><td style=\"text-align: right;\">   22</td><td style=\"text-align: right;\">             0.643056   </td><td style=\"text-align: right;\">           2266.94    </td><td style=\"text-align: right;\">      4.00346</td><td style=\"text-align: right;\">1.22499   </td><td style=\"text-align: right;\">      284.335</td><td style=\"text-align: right;\">1.30609    </td><td style=\"text-align: right;\">   22</td><td style=\"text-align: right;\">             0.788416   </td><td style=\"text-align: right;\">           2772.84    </td><td style=\"text-align: right;\">    0.667694</td><td style=\"text-align: right;\">         0.971368   </td><td style=\"text-align: right;\">                  1.45481e+06</td><td style=\"text-align: right;\">                  3424.32    </td><td style=\"text-align: right;\">                  3416.28    </td><td style=\"text-align: right;\">2.70323</td><td style=\"text-align: right;\">0.359336   </td></tr>\n",
       "<tr><td style=\"text-align: right;\">12</td><td style=\"text-align: right;\">     1</td><td style=\"text-align: right;\">      5.13496</td><td style=\"text-align: right;\">0.00999821</td><td style=\"text-align: right;\">      284.176</td><td style=\"text-align: right;\">0.000436335</td><td style=\"text-align: right;\">    4</td><td style=\"text-align: right;\">             0.0012743  </td><td style=\"text-align: right;\">              4.48419 </td><td style=\"text-align: right;\">      5.1346 </td><td style=\"text-align: right;\">0.00975345</td><td style=\"text-align: right;\">      286.18 </td><td style=\"text-align: right;\">0.00041511 </td><td style=\"text-align: right;\">    4</td><td style=\"text-align: right;\">             0.00121231 </td><td style=\"text-align: right;\">              4.23617 </td><td style=\"text-align: right;\">    2.00444 </td><td style=\"text-align: right;\">         0.00111754 </td><td style=\"text-align: right;\">                557.53       </td><td style=\"text-align: right;\">                     3.93256 </td><td style=\"text-align: right;\">                     3.90502 </td><td style=\"text-align: right;\">3.71121</td><td style=\"text-align: right;\">0.000301125</td></tr>\n",
       "<tr><td style=\"text-align: right;\">13</td><td style=\"text-align: right;\">     1</td><td style=\"text-align: right;\">      6.27027</td><td style=\"text-align: right;\">0.0090932 </td><td style=\"text-align: right;\">      284.186</td><td style=\"text-align: right;\">0.000115526</td><td style=\"text-align: right;\">    4</td><td style=\"text-align: right;\">             0.000337387</td><td style=\"text-align: right;\">              1.18721 </td><td style=\"text-align: right;\">      6.26978</td><td style=\"text-align: right;\">0.00909905</td><td style=\"text-align: right;\">      286.19 </td><td style=\"text-align: right;\">0.000131915</td><td style=\"text-align: right;\">    4</td><td style=\"text-align: right;\">             0.000385251</td><td style=\"text-align: right;\">              1.34614 </td><td style=\"text-align: right;\">    2.00427 </td><td style=\"text-align: right;\">         0.000327384</td><td style=\"text-align: right;\">                163.343      </td><td style=\"text-align: right;\">                     1.15201 </td><td style=\"text-align: right;\">                     1.14394 </td><td style=\"text-align: right;\">3.73406</td><td style=\"text-align: right;\">8.7675e-05 </td></tr>\n",
       "<tr><td style=\"text-align: right;\">14</td><td style=\"text-align: right;\">     1</td><td style=\"text-align: right;\">      3.99239</td><td style=\"text-align: right;\">0.00941108</td><td style=\"text-align: right;\">      284.186</td><td style=\"text-align: right;\">9.56069e-05</td><td style=\"text-align: right;\">    6</td><td style=\"text-align: right;\">             0.00015738 </td><td style=\"text-align: right;\">              0.553793</td><td style=\"text-align: right;\">      3.99203</td><td style=\"text-align: right;\">0.00927157</td><td style=\"text-align: right;\">      286.19 </td><td style=\"text-align: right;\">0.000136709</td><td style=\"text-align: right;\">    6</td><td style=\"text-align: right;\">             0.000225039</td><td style=\"text-align: right;\">              0.786328</td><td style=\"text-align: right;\">    2.00433 </td><td style=\"text-align: right;\">         0.000221665</td><td style=\"text-align: right;\">                110.593      </td><td style=\"text-align: right;\">                     0.780002</td><td style=\"text-align: right;\">                     0.774539</td><td style=\"text-align: right;\">3.25474</td><td style=\"text-align: right;\">6.81054e-05</td></tr>\n",
       "<tr><td style=\"text-align: right;\">15</td><td style=\"text-align: right;\">     1</td><td style=\"text-align: right;\">      6.72638</td><td style=\"text-align: right;\">0.0137086 </td><td style=\"text-align: right;\">      286.165</td><td style=\"text-align: right;\">0.000200134</td><td style=\"text-align: right;\">    6</td><td style=\"text-align: right;\">             0.000329443</td><td style=\"text-align: right;\">              1.15124 </td><td style=\"text-align: right;\">      6.7261 </td><td style=\"text-align: right;\">0.0134648 </td><td style=\"text-align: right;\">      288.169</td><td style=\"text-align: right;\">0.000134766</td><td style=\"text-align: right;\">    6</td><td style=\"text-align: right;\">             0.000221841</td><td style=\"text-align: right;\">              0.769829</td><td style=\"text-align: right;\">    2.00441 </td><td style=\"text-align: right;\">         0.000322336</td><td style=\"text-align: right;\">                160.814      </td><td style=\"text-align: right;\">                     1.1264  </td><td style=\"text-align: right;\">                     1.11857 </td><td style=\"text-align: right;\">3.27239</td><td style=\"text-align: right;\">9.85017e-05</td></tr>\n",
       "</tbody>\n",
       "</table>"
      ],
      "text/plain": [
       "<IPython.core.display.HTML object>"
      ]
     },
     "metadata": {},
     "output_type": "display_data"
    }
   ],
   "source": [
    "ShowDF(SummaryCluster)"
   ]
  },
  {
   "cell_type": "code",
   "execution_count": 11,
   "id": "46bd1d22",
   "metadata": {
    "ExecuteTime": {
     "end_time": "2023-08-14T03:02:20.959313Z",
     "start_time": "2023-08-14T03:02:20.908699Z"
    }
   },
   "outputs": [],
   "source": [
    "SummaryCluster.to_excel('Summary.xlsx')"
   ]
  }
 ],
 "metadata": {
  "kernelspec": {
   "display_name": "Python 3 (ipykernel)",
   "language": "python",
   "name": "python3"
  },
  "language_info": {
   "codemirror_mode": {
    "name": "ipython",
    "version": 3
   },
   "file_extension": ".py",
   "mimetype": "text/x-python",
   "name": "python",
   "nbconvert_exporter": "python",
   "pygments_lexer": "ipython3",
   "version": "3.7.13"
  }
 },
 "nbformat": 4,
 "nbformat_minor": 5
}
