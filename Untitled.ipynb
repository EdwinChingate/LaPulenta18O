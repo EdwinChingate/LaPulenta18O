{
 "cells": [
  {
   "cell_type": "code",
   "execution_count": 1,
   "id": "fafbf223",
   "metadata": {
    "ExecuteTime": {
     "end_time": "2023-04-04T12:37:42.111902Z",
     "start_time": "2023-04-04T12:37:41.473328Z"
    }
   },
   "outputs": [],
   "source": [
    "import sys\n",
    "import os\n",
    "home=os.getcwd()\n",
    "sys.path.append(home+'/Functions')\n",
    "from JoinSpectra import *\n",
    "from ChargeDataSet import *\n",
    "from ShowDF import *\n",
    "import pandas as pd\n",
    "import pyopenms\n",
    "import matplotlib.pyplot as plt\n",
    "from AdjacencyMatGen  import *\n",
    "from ModulesDet import *\n",
    "#from MSPeaks"
   ]
  },
  {
   "cell_type": "code",
   "execution_count": 2,
   "id": "b3630914",
   "metadata": {
    "ExecuteTime": {
     "end_time": "2023-04-04T12:37:42.403705Z",
     "start_time": "2023-04-04T12:37:42.400245Z"
    }
   },
   "outputs": [],
   "source": [
    "DataSetName='MT_5.mzML'"
   ]
  },
  {
   "cell_type": "code",
   "execution_count": 3,
   "id": "536faac3",
   "metadata": {
    "ExecuteTime": {
     "end_time": "2023-04-04T12:37:52.970103Z",
     "start_time": "2023-04-04T12:37:43.269938Z"
    }
   },
   "outputs": [],
   "source": [
    "DataSet=ChargeDataSet(DataSetName)"
   ]
  },
  {
   "cell_type": "code",
   "execution_count": 4,
   "id": "5140d773",
   "metadata": {
    "ExecuteTime": {
     "end_time": "2023-04-04T12:37:58.616113Z",
     "start_time": "2023-04-04T12:37:52.972464Z"
    }
   },
   "outputs": [
    {
     "name": "stdout",
     "output_type": "stream",
     "text": [
      "557\n"
     ]
    }
   ],
   "source": [
    "SignalsMat=JoinSpectra(DataSet,min_mz=52,max_mz=588,minInt=1e4,MinDif=2.0042,MaxDif=2.0043) #Table generating\n",
    "testLoc=np.argsort(SignalsMat[:500,0]) #Sorting out table\n",
    "print(len(SignalsMat))"
   ]
  },
  {
   "cell_type": "code",
   "execution_count": 5,
   "id": "91ec9642",
   "metadata": {
    "ExecuteTime": {
     "end_time": "2023-03-30T14:04:14.415940Z",
     "start_time": "2023-03-30T14:04:14.404578Z"
    }
   },
   "outputs": [
    {
     "data": {
      "text/html": [
       "<table>\n",
       "<thead>\n",
       "<tr><th style=\"text-align: right;\">  </th><th style=\"text-align: right;\">      0</th><th style=\"text-align: right;\">      1</th><th style=\"text-align: right;\">  2</th><th style=\"text-align: right;\">  3</th><th style=\"text-align: right;\">      4</th><th style=\"text-align: right;\">        5</th><th style=\"text-align: right;\">  6</th></tr>\n",
       "</thead>\n",
       "<tbody>\n",
       "<tr><td style=\"text-align: right;\"> 0</td><td style=\"text-align: right;\">140.962</td><td style=\"text-align: right;\">142.965</td><td style=\"text-align: right;\"> 14</td><td style=\"text-align: right;\"> 17</td><td style=\"text-align: right;\">2.0032 </td><td style=\"text-align: right;\">0.05025  </td><td style=\"text-align: right;\">  5</td></tr>\n",
       "<tr><td style=\"text-align: right;\"> 1</td><td style=\"text-align: right;\">140.962</td><td style=\"text-align: right;\">142.965</td><td style=\"text-align: right;\"> 14</td><td style=\"text-align: right;\"> 17</td><td style=\"text-align: right;\">2.00343</td><td style=\"text-align: right;\">0.0886167</td><td style=\"text-align: right;\"> 19</td></tr>\n",
       "<tr><td style=\"text-align: right;\"> 2</td><td style=\"text-align: right;\">140.961</td><td style=\"text-align: right;\">142.965</td><td style=\"text-align: right;\"> 14</td><td style=\"text-align: right;\"> 17</td><td style=\"text-align: right;\">2.00343</td><td style=\"text-align: right;\">0.143433 </td><td style=\"text-align: right;\"> 39</td></tr>\n",
       "<tr><td style=\"text-align: right;\"> 3</td><td style=\"text-align: right;\">140.962</td><td style=\"text-align: right;\">142.965</td><td style=\"text-align: right;\"> 13</td><td style=\"text-align: right;\"> 16</td><td style=\"text-align: right;\">2.00333</td><td style=\"text-align: right;\">0.245433 </td><td style=\"text-align: right;\"> 70</td></tr>\n",
       "<tr><td style=\"text-align: right;\"> 4</td><td style=\"text-align: right;\">140.962</td><td style=\"text-align: right;\">142.965</td><td style=\"text-align: right;\"> 14</td><td style=\"text-align: right;\"> 17</td><td style=\"text-align: right;\">2.00304</td><td style=\"text-align: right;\">0.261867 </td><td style=\"text-align: right;\"> 76</td></tr>\n",
       "<tr><td style=\"text-align: right;\"> 5</td><td style=\"text-align: right;\">140.962</td><td style=\"text-align: right;\">142.965</td><td style=\"text-align: right;\"> 13</td><td style=\"text-align: right;\"> 16</td><td style=\"text-align: right;\">2.00302</td><td style=\"text-align: right;\">0.26735  </td><td style=\"text-align: right;\"> 78</td></tr>\n",
       "<tr><td style=\"text-align: right;\"> 6</td><td style=\"text-align: right;\">140.961</td><td style=\"text-align: right;\">142.965</td><td style=\"text-align: right;\"> 14</td><td style=\"text-align: right;\"> 17</td><td style=\"text-align: right;\">2.00316</td><td style=\"text-align: right;\">0.289283 </td><td style=\"text-align: right;\"> 86</td></tr>\n",
       "<tr><td style=\"text-align: right;\"> 7</td><td style=\"text-align: right;\">140.962</td><td style=\"text-align: right;\">142.965</td><td style=\"text-align: right;\"> 12</td><td style=\"text-align: right;\"> 15</td><td style=\"text-align: right;\">2.00308</td><td style=\"text-align: right;\">0.294767 </td><td style=\"text-align: right;\"> 88</td></tr>\n",
       "<tr><td style=\"text-align: right;\"> 8</td><td style=\"text-align: right;\">140.962</td><td style=\"text-align: right;\">142.965</td><td style=\"text-align: right;\"> 14</td><td style=\"text-align: right;\"> 17</td><td style=\"text-align: right;\">2.00319</td><td style=\"text-align: right;\">0.3112   </td><td style=\"text-align: right;\"> 94</td></tr>\n",
       "<tr><td style=\"text-align: right;\"> 9</td><td style=\"text-align: right;\">140.961</td><td style=\"text-align: right;\">142.965</td><td style=\"text-align: right;\"> 14</td><td style=\"text-align: right;\"> 17</td><td style=\"text-align: right;\">2.00369</td><td style=\"text-align: right;\">0.360533 </td><td style=\"text-align: right;\">112</td></tr>\n",
       "<tr><td style=\"text-align: right;\">10</td><td style=\"text-align: right;\">140.961</td><td style=\"text-align: right;\">142.965</td><td style=\"text-align: right;\"> 13</td><td style=\"text-align: right;\"> 16</td><td style=\"text-align: right;\">2.00365</td><td style=\"text-align: right;\">0.407717 </td><td style=\"text-align: right;\">123</td></tr>\n",
       "<tr><td style=\"text-align: right;\">11</td><td style=\"text-align: right;\">140.962</td><td style=\"text-align: right;\">142.965</td><td style=\"text-align: right;\"> 13</td><td style=\"text-align: right;\"> 16</td><td style=\"text-align: right;\">2.00352</td><td style=\"text-align: right;\">0.4132   </td><td style=\"text-align: right;\">125</td></tr>\n",
       "<tr><td style=\"text-align: right;\">12</td><td style=\"text-align: right;\">226.952</td><td style=\"text-align: right;\">228.956</td><td style=\"text-align: right;\">  7</td><td style=\"text-align: right;\"> 12</td><td style=\"text-align: right;\">2.00443</td><td style=\"text-align: right;\">0.484467 </td><td style=\"text-align: right;\">151</td></tr>\n",
       "<tr><td style=\"text-align: right;\">13</td><td style=\"text-align: right;\">158.964</td><td style=\"text-align: right;\">160.969</td><td style=\"text-align: right;\">  1</td><td style=\"text-align: right;\">  6</td><td style=\"text-align: right;\">2.00478</td><td style=\"text-align: right;\">0.489933 </td><td style=\"text-align: right;\">153</td></tr>\n",
       "<tr><td style=\"text-align: right;\">14</td><td style=\"text-align: right;\">226.952</td><td style=\"text-align: right;\">228.956</td><td style=\"text-align: right;\">  8</td><td style=\"text-align: right;\"> 14</td><td style=\"text-align: right;\">2.00391</td><td style=\"text-align: right;\">0.489933 </td><td style=\"text-align: right;\">153</td></tr>\n",
       "<tr><td style=\"text-align: right;\">15</td><td style=\"text-align: right;\">362.927</td><td style=\"text-align: right;\">364.93 </td><td style=\"text-align: right;\"> 17</td><td style=\"text-align: right;\"> 19</td><td style=\"text-align: right;\">2.00345</td><td style=\"text-align: right;\">0.489933 </td><td style=\"text-align: right;\">153</td></tr>\n",
       "<tr><td style=\"text-align: right;\">16</td><td style=\"text-align: right;\">158.964</td><td style=\"text-align: right;\">160.968</td><td style=\"text-align: right;\">  1</td><td style=\"text-align: right;\">  6</td><td style=\"text-align: right;\">2.00342</td><td style=\"text-align: right;\">0.495433 </td><td style=\"text-align: right;\">155</td></tr>\n",
       "<tr><td style=\"text-align: right;\">17</td><td style=\"text-align: right;\">226.952</td><td style=\"text-align: right;\">228.956</td><td style=\"text-align: right;\">  9</td><td style=\"text-align: right;\"> 15</td><td style=\"text-align: right;\">2.00345</td><td style=\"text-align: right;\">0.495433 </td><td style=\"text-align: right;\">155</td></tr>\n",
       "<tr><td style=\"text-align: right;\">18</td><td style=\"text-align: right;\">430.914</td><td style=\"text-align: right;\">432.918</td><td style=\"text-align: right;\"> 26</td><td style=\"text-align: right;\"> 31</td><td style=\"text-align: right;\">2.00342</td><td style=\"text-align: right;\">0.495433 </td><td style=\"text-align: right;\">155</td></tr>\n",
       "<tr><td style=\"text-align: right;\">19</td><td style=\"text-align: right;\">158.964</td><td style=\"text-align: right;\">160.969</td><td style=\"text-align: right;\">  1</td><td style=\"text-align: right;\">  7</td><td style=\"text-align: right;\">2.00429</td><td style=\"text-align: right;\">0.500917 </td><td style=\"text-align: right;\">157</td></tr>\n",
       "</tbody>\n",
       "</table>"
      ],
      "text/plain": [
       "<IPython.core.display.HTML object>"
      ]
     },
     "metadata": {},
     "output_type": "display_data"
    }
   ],
   "source": [
    "ShowDF(pd.DataFrame(SignalsMat[:20,:]))"
   ]
  },
  {
   "cell_type": "code",
   "execution_count": 5,
   "id": "1b5bb93b",
   "metadata": {
    "ExecuteTime": {
     "end_time": "2023-04-04T12:37:58.630058Z",
     "start_time": "2023-04-04T12:37:58.617616Z"
    }
   },
   "outputs": [],
   "source": [
    "AdjacencyMatrix=AdjacencyMatGen(SignalsMat,MinNumberCandidatesClustering=5) #Adjacency Mat(rix) Gen(eration)"
   ]
  },
  {
   "cell_type": "code",
   "execution_count": 13,
   "id": "19e2f84a",
   "metadata": {
    "ExecuteTime": {
     "end_time": "2023-04-04T12:39:32.811163Z",
     "start_time": "2023-04-04T12:39:32.804086Z"
    },
    "scrolled": true
   },
   "outputs": [
    {
     "name": "stdout",
     "output_type": "stream",
     "text": [
      "2 [0, 0]\n",
      "2 [1, 1]\n",
      "2 [2, 2]\n",
      "7 [3, 4, 4, 7, 7, 7, 3]\n",
      "7 [5, 11, 11, 14, 14, 14, 5]\n",
      "2 [6, 6]\n",
      "2 [8, 8]\n",
      "2 [9, 9]\n",
      "2 [10, 10]\n",
      "4 [12, 13, 13, 12]\n",
      "2 [15, 15]\n",
      "2 [16, 16]\n",
      "2 [17, 17]\n",
      "2 [18, 18]\n",
      "2 [19, 19]\n",
      "2 [20, 20]\n",
      "7 [21, 33, 33, 36, 36, 36, 21]\n",
      "2 [22, 22]\n",
      "37 [23, 24, 24, 26, 26, 27, 27, 28, 28, 31, 31, 43, 43, 46, 46, 46, 43, 46, 31, 43, 46, 28, 31, 43, 46, 27, 28, 31, 43, 46, 26, 27, 28, 31, 43, 46, 23]\n",
      "4 [25, 54, 54, 25]\n",
      "4 [29, 34, 34, 29]\n",
      "14 [30, 35, 35, 39, 39, 41, 41, 66, 66, 66, 41, 39, 41, 30]\n",
      "2 [32, 32]\n",
      "4 [37, 50, 50, 37]\n",
      "2 [38, 38]\n",
      "6 [40, 47, 47, 68, 68, 40]\n",
      "11 [42, 44, 44, 51, 51, 52, 52, 52, 51, 52, 42]\n",
      "4 [45, 64, 64, 45]\n",
      "11 [48, 61, 61, 69, 69, 73, 73, 73, 69, 73, 48]\n",
      "2 [49, 49]\n",
      "7 [53, 55, 55, 67, 67, 67, 53]\n",
      "2 [56, 56]\n",
      "2 [57, 57]\n",
      "311 [58, 63, 63, 65, 65, 83, 83, 84, 84, 106, 106, 107, 107, 108, 108, 110, 110, 113, 113, 118, 118, 120, 120, 123, 123, 128, 128, 129, 129, 131, 131, 139, 139, 141, 141, 143, 143, 151, 151, 152, 152, 153, 153, 154, 154, 157, 157, 158, 158, 161, 161, 164, 164, 174, 174, 175, 175, 176, 176, 178, 178, 182, 182, 191, 191, 193, 193, 194, 194, 204, 204, 205, 205, 205, 204, 205, 194, 204, 205, 193, 194, 204, 205, 191, 193, 194, 182, 191, 193, 194, 178, 182, 191, 176, 178, 182, 191, 175, 176, 178, 182, 174, 175, 176, 178, 164, 174, 175, 176, 178, 161, 164, 174, 175, 176, 178, 158, 161, 164, 174, 175, 176, 178, 157, 158, 161, 164, 174, 175, 176, 154, 157, 158, 161, 164, 174, 175, 176, 153, 154, 157, 158, 161, 164, 174, 175, 176, 152, 153, 154, 157, 158, 161, 164, 151, 152, 153, 154, 157, 158, 161, 164, 143, 151, 152, 153, 154, 157, 158, 161, 164, 141, 143, 151, 152, 153, 154, 157, 158, 161, 164, 139, 141, 143, 151, 152, 153, 154, 157, 158, 161, 131, 139, 141, 143, 151, 152, 153, 154, 157, 158, 161, 129, 131, 139, 141, 143, 151, 152, 153, 154, 157, 158, 161, 128, 129, 131, 139, 141, 143, 151, 152, 153, 154, 157, 158, 161, 123, 128, 129, 131, 139, 141, 143, 151, 152, 153, 154, 157, 158, 161, 120, 123, 128, 129, 131, 139, 141, 143, 151, 152, 153, 154, 157, 118, 120, 123, 128, 129, 131, 139, 141, 143, 151, 152, 153, 154, 113, 118, 120, 123, 128, 129, 131, 139, 141, 143, 110, 113, 118, 120, 123, 128, 129, 131, 139, 141, 143, 108, 110, 113, 118, 120, 123, 128, 129, 131, 139, 141, 143, 107, 108, 106, 107, 84, 83, 84, 65, 83, 84, 58]\n",
      "2 [59, 59]\n",
      "4 [60, 62, 62, 60]\n",
      "102 [70, 74, 74, 78, 78, 94, 94, 96, 96, 98, 98, 103, 103, 104, 104, 111, 111, 114, 114, 133, 133, 144, 144, 149, 149, 150, 150, 155, 155, 159, 159, 165, 165, 166, 166, 185, 185, 187, 187, 187, 185, 187, 166, 165, 166, 159, 165, 166, 155, 159, 165, 166, 150, 155, 159, 165, 166, 149, 150, 155, 159, 165, 144, 149, 150, 155, 159, 133, 144, 149, 150, 155, 114, 133, 144, 149, 111, 114, 133, 144, 104, 111, 114, 133, 144, 103, 104, 111, 114, 133, 144, 98, 103, 104, 111, 114, 133, 96, 98, 94, 78, 70]\n",
      "7 [71, 72, 72, 77, 77, 77, 71]\n",
      "7 [75, 76, 76, 79, 79, 79, 75]\n",
      "4 [80, 81, 81, 80]\n",
      "2 [82, 82]\n",
      "2 [85, 85]\n",
      "2 [86, 86]\n",
      "2 [87, 87]\n",
      "7 [88, 90, 90, 97, 97, 97, 88]\n",
      "2 [89, 89]\n",
      "4 [91, 92, 92, 91]\n",
      "22 [93, 95, 95, 112, 112, 116, 116, 125, 125, 134, 134, 134, 125, 134, 116, 125, 134, 112, 116, 125, 134, 93]\n",
      "7 [99, 115, 115, 135, 135, 135, 99]\n",
      "2 [100, 100]\n",
      "2 [101, 101]\n",
      "2 [102, 102]\n",
      "22 [105, 109, 109, 117, 117, 119, 119, 140, 140, 148, 148, 148, 140, 148, 119, 140, 148, 117, 119, 140, 148, 105]\n",
      "4 [121, 122, 122, 121]\n",
      "11 [124, 136, 136, 138, 138, 145, 145, 145, 138, 145, 124]\n",
      "2 [126, 126]\n",
      "7 [127, 130, 130, 137, 137, 137, 127]\n",
      "2 [132, 132]\n",
      "2 [142, 142]\n",
      "4 [146, 163, 163, 146]\n",
      "2 [147, 147]\n",
      "2 [156, 156]\n",
      "2 [160, 160]\n",
      "2 [162, 162]\n",
      "2 [167, 167]\n",
      "9 [168, 181, 181, 195, 195, 203, 203, 203, 168]\n",
      "2 [169, 169]\n",
      "2 [170, 170]\n",
      "7 [171, 180, 180, 186, 186, 186, 171]\n",
      "4 [172, 173, 173, 172]\n",
      "7 [177, 179, 179, 200, 200, 200, 177]\n",
      "2 [183, 183]\n",
      "4 [184, 188, 188, 184]\n",
      "2 [189, 189]\n",
      "2 [190, 190]\n",
      "2 [192, 192]\n",
      "11 [196, 197, 197, 199, 199, 202, 202, 202, 199, 202, 196]\n",
      "4 [198, 201, 201, 198]\n",
      "4 [206, 208, 208, 206]\n",
      "7 [207, 209, 209, 231, 231, 231, 207]\n",
      "2 [210, 210]\n",
      "2 [211, 211]\n",
      "11 [212, 213, 213, 214, 214, 219, 219, 219, 214, 219, 212]\n",
      "16 [215, 218, 218, 220, 220, 226, 226, 229, 229, 229, 226, 229, 220, 226, 229, 215]\n",
      "22 [216, 217, 217, 223, 223, 233, 233, 234, 234, 235, 235, 235, 234, 235, 233, 234, 235, 223, 233, 234, 235, 216]\n",
      "4 [221, 237, 237, 221]\n",
      "2 [222, 222]\n",
      "59 [224, 242, 242, 265, 265, 275, 275, 280, 280, 288, 288, 302, 302, 310, 310, 314, 314, 316, 316, 322, 322, 329, 329, 344, 344, 350, 350, 361, 361, 380, 380, 387, 387, 387, 380, 387, 361, 344, 329, 322, 329, 316, 322, 329, 314, 316, 322, 310, 314, 316, 322, 302, 310, 288, 302, 310, 280, 288, 224]\n",
      "2 [225, 225]\n",
      "2 [227, 227]\n",
      "126 [228, 232, 232, 240, 240, 243, 243, 253, 253, 256, 256, 258, 258, 264, 264, 266, 266, 268, 268, 272, 272, 297, 297, 300, 300, 303, 303, 306, 306, 318, 318, 321, 321, 323, 323, 325, 325, 327, 327, 336, 336, 337, 337, 340, 340, 345, 345, 359, 359, 383, 383, 345, 340, 345, 337, 340, 345, 336, 337, 340, 345, 327, 336, 337, 340, 345, 325, 327, 336, 337, 340, 323, 325, 327, 336, 337, 340, 321, 323, 325, 327, 318, 321, 323, 325, 306, 318, 321, 323, 303, 306, 318, 321, 323, 300, 303, 306, 297, 272, 268, 272, 266, 268, 272, 264, 266, 268, 272, 258, 264, 266, 268, 272, 256, 258, 264, 266, 268, 253, 256, 258, 243, 253, 240, 243, 228]\n",
      "2 [230, 230]\n",
      "2 [236, 236]\n",
      "2 [238, 238]\n",
      "2 [239, 239]\n",
      "2 [241, 241]\n",
      "7 [244, 247, 247, 250, 250, 250, 244]\n",
      "7 [245, 246, 246, 248, 248, 248, 245]\n",
      "210 [249, 251, 251, 252, 252, 255, 255, 257, 257, 259, 259, 260, 260, 267, 267, 269, 269, 273, 273, 274, 274, 277, 277, 278, 278, 305, 305, 307, 307, 308, 308, 311, 311, 312, 312, 319, 319, 326, 326, 334, 334, 338, 338, 339, 339, 346, 346, 352, 352, 353, 353, 356, 356, 360, 360, 379, 379, 382, 382, 385, 385, 388, 388, 398, 398, 403, 403, 403, 398, 403, 388, 398, 403, 385, 388, 398, 403, 382, 385, 388, 379, 382, 385, 388, 360, 379, 382, 385, 388, 356, 360, 379, 382, 385, 388, 353, 356, 360, 352, 353, 356, 346, 352, 353, 339, 346, 338, 339, 346, 334, 338, 339, 326, 334, 338, 339, 319, 326, 334, 338, 312, 319, 326, 311, 312, 319, 326, 308, 311, 312, 319, 326, 307, 308, 311, 305, 307, 308, 311, 278, 305, 307, 308, 277, 278, 305, 307, 308, 274, 277, 278, 273, 274, 277, 278, 269, 273, 274, 277, 278, 267, 269, 273, 274, 277, 278, 260, 267, 269, 273, 274, 277, 278, 259, 260, 267, 269, 273, 274, 277, 278, 257, 259, 260, 267, 269, 273, 274, 277, 278, 255, 257, 259, 260, 267, 269, 273, 274, 277, 278, 252, 255, 257, 259, 260, 267, 269, 273, 274, 249]\n",
      "2 [254, 254]\n",
      "4 [261, 271, 271, 261]\n",
      "2 [262, 262]\n",
      "2 [263, 263]\n",
      "2 [270, 270]\n",
      "4 [276, 294, 294, 276]\n",
      "16 [279, 282, 282, 283, 283, 284, 284, 285, 285, 285, 284, 285, 283, 284, 285, 279]\n",
      "2 [281, 281]\n",
      "2 [286, 286]\n",
      "2 [287, 287]\n",
      "4 [289, 293, 293, 289]\n",
      "2 [290, 290]\n",
      "4 [291, 309, 309, 291]\n",
      "2 [292, 292]\n",
      "7 [295, 296, 296, 299, 299, 299, 295]\n",
      "4 [298, 304, 304, 298]\n",
      "2 [301, 301]\n",
      "2 [313, 313]\n",
      "7 [315, 317, 317, 341, 341, 341, 315]\n",
      "2 [320, 320]\n",
      "2 [324, 324]\n",
      "4 [328, 330, 330, 328]\n",
      "2 [331, 331]\n",
      "2 [332, 332]\n",
      "2 [333, 333]\n",
      "2 [335, 335]\n",
      "4 [342, 343, 343, 342]\n",
      "2 [347, 347]\n",
      "4 [348, 349, 349, 348]\n",
      "2 [351, 351]\n",
      "18 [354, 355, 355, 389, 389, 391, 391, 396, 396, 408, 408, 408, 396, 408, 391, 389, 391, 354]\n",
      "2 [357, 357]\n",
      "2 [358, 358]\n",
      "2 [362, 362]\n",
      "11 [363, 371, 371, 374, 374, 377, 377, 377, 374, 377, 363]\n",
      "2 [364, 364]\n",
      "2 [365, 365]\n",
      "6 [366, 381, 381, 397, 397, 366]\n",
      "11 [367, 370, 370, 372, 372, 376, 376, 376, 372, 376, 367]\n",
      "4 [368, 369, 369, 368]\n",
      "4 [373, 384, 384, 373]\n",
      "4 [375, 386, 386, 375]\n",
      "2 [378, 378]\n",
      "2 [390, 390]\n",
      "2 [392, 392]\n",
      "2 [393, 393]\n",
      "2 [394, 394]\n",
      "7 [395, 399, 399, 413, 413, 413, 395]\n",
      "2 [400, 400]\n",
      "52 [401, 404, 404, 405, 405, 409, 409, 410, 410, 422, 422, 423, 423, 424, 424, 425, 425, 428, 428, 430, 430, 430, 428, 430, 425, 428, 430, 424, 425, 428, 430, 423, 424, 425, 422, 423, 424, 425, 410, 422, 423, 424, 409, 410, 422, 423, 405, 409, 410, 422, 423, 401]\n",
      "2 [402, 402]\n",
      "2 [406, 406]\n",
      "2 [407, 407]\n",
      "4 [411, 421, 421, 411]\n",
      "4 [412, 417, 417, 412]\n",
      "4 [414, 416, 416, 414]\n",
      "2 [415, 415]\n",
      "2 [418, 418]\n",
      "2 [419, 419]\n",
      "2 [420, 420]\n",
      "2 [426, 426]\n",
      "39 [427, 429, 429, 446, 446, 455, 455, 466, 466, 478, 478, 479, 479, 484, 484, 485, 485, 486, 486, 487, 487, 487, 486, 487, 485, 486, 487, 484, 485, 486, 487, 479, 466, 455, 466, 446, 455, 466, 427]\n",
      "4 [431, 436, 436, 431]\n",
      "4 [432, 453, 453, 432]\n",
      "2 [433, 433]\n",
      "11 [434, 437, 437, 445, 445, 451, 451, 451, 445, 451, 434]\n",
      "11 [435, 438, 438, 442, 442, 447, 447, 447, 442, 447, 435]\n",
      "7 [439, 440, 440, 449, 449, 449, 439]\n",
      "4 [441, 450, 450, 441]\n",
      "2 [443, 443]\n",
      "2 [444, 444]\n",
      "4 [448, 452, 452, 448]\n",
      "2 [454, 454]\n",
      "2 [456, 456]\n",
      "4 [457, 459, 459, 457]\n",
      "7 [458, 460, 460, 465, 465, 465, 458]\n",
      "4 [461, 462, 462, 461]\n",
      "2 [463, 463]\n",
      "2 [464, 464]\n",
      "2 [467, 467]\n",
      "4 [468, 470, 470, 468]\n",
      "4 [469, 477, 477, 469]\n",
      "4 [471, 476, 476, 471]\n",
      "4 [472, 475, 475, 472]\n",
      "2 [473, 473]\n",
      "2 [474, 474]\n",
      "7 [480, 482, 482, 483, 483, 483, 480]\n",
      "2 [481, 481]\n",
      "2 [488, 488]\n",
      "7 [489, 491, 491, 493, 493, 493, 489]\n",
      "2 [490, 490]\n",
      "2 [492, 492]\n",
      "2 [494, 494]\n",
      "2 [495, 495]\n",
      "2 [496, 496]\n",
      "2 [497, 497]\n",
      "2 [498, 498]\n",
      "2 [499, 499]\n",
      "4 [500, 501, 501, 500]\n",
      "16 [502, 503, 503, 509, 509, 510, 510, 513, 513, 517, 517, 517, 513, 517, 510, 502]\n",
      "4 [504, 506, 506, 504]\n",
      "4 [505, 507, 507, 505]\n",
      "2 [508, 508]\n",
      "2 [511, 511]\n",
      "7 [512, 514, 514, 516, 516, 516, 512]\n",
      "2 [515, 515]\n",
      "2 [518, 518]\n",
      "4 [519, 524, 524, 519]\n",
      "2 [520, 520]\n",
      "2 [521, 521]\n",
      "2 [522, 522]\n",
      "2 [523, 523]\n",
      "4 [525, 526, 526, 525]\n",
      "2 [527, 527]\n",
      "46 [528, 529, 529, 531, 531, 532, 532, 533, 533, 534, 534, 535, 535, 536, 536, 537, 537, 538, 538, 539, 539, 542, 542, 543, 543, 544, 544, 545, 545, 546, 546, 547, 547, 547, 546, 545, 544, 543, 542, 543, 539, 536, 532, 531, 532, 528]\n",
      "2 [530, 530]\n",
      "2 [540, 540]\n",
      "2 [541, 541]\n",
      "11 [548, 549, 549, 551, 551, 552, 552, 552, 551, 552, 548]\n",
      "2 [550, 550]\n",
      "2 [553, 553]\n",
      "2 [554, 554]\n",
      "2 [555, 555]\n"
     ]
    }
   ],
   "source": [
    "v=[]\n",
    "for x in ModList:\n",
    "    print(len(x),(x))"
   ]
  },
  {
   "cell_type": "code",
   "execution_count": 6,
   "id": "e66b2465",
   "metadata": {
    "ExecuteTime": {
     "end_time": "2023-04-04T12:38:09.834204Z",
     "start_time": "2023-04-04T12:38:09.818049Z"
    }
   },
   "outputs": [
    {
     "data": {
      "text/html": [
       "<table>\n",
       "<thead>\n",
       "<tr><th style=\"text-align: right;\">  </th><th style=\"text-align: right;\">  0</th><th style=\"text-align: right;\">  1</th><th style=\"text-align: right;\">  2</th><th style=\"text-align: right;\">  3</th><th style=\"text-align: right;\">  4</th><th style=\"text-align: right;\">  5</th><th style=\"text-align: right;\">  6</th><th style=\"text-align: right;\">  7</th><th style=\"text-align: right;\">  8</th><th style=\"text-align: right;\">  9</th><th style=\"text-align: right;\">  10</th><th style=\"text-align: right;\">  11</th><th style=\"text-align: right;\">  12</th><th style=\"text-align: right;\">  13</th><th style=\"text-align: right;\">  14</th><th style=\"text-align: right;\">  15</th><th style=\"text-align: right;\">  16</th><th style=\"text-align: right;\">  17</th><th style=\"text-align: right;\">  18</th><th style=\"text-align: right;\">  19</th></tr>\n",
       "</thead>\n",
       "<tbody>\n",
       "<tr><td style=\"text-align: right;\"> 0</td><td style=\"text-align: right;\">  1</td><td style=\"text-align: right;\">  0</td><td style=\"text-align: right;\">  0</td><td style=\"text-align: right;\">  0</td><td style=\"text-align: right;\">  0</td><td style=\"text-align: right;\">  0</td><td style=\"text-align: right;\">  0</td><td style=\"text-align: right;\">  0</td><td style=\"text-align: right;\">  0</td><td style=\"text-align: right;\">  0</td><td style=\"text-align: right;\">   0</td><td style=\"text-align: right;\">   0</td><td style=\"text-align: right;\">   0</td><td style=\"text-align: right;\">   0</td><td style=\"text-align: right;\">   0</td><td style=\"text-align: right;\">   0</td><td style=\"text-align: right;\">   0</td><td style=\"text-align: right;\">   0</td><td style=\"text-align: right;\">   0</td><td style=\"text-align: right;\">   0</td></tr>\n",
       "<tr><td style=\"text-align: right;\"> 1</td><td style=\"text-align: right;\">  0</td><td style=\"text-align: right;\">  1</td><td style=\"text-align: right;\">  0</td><td style=\"text-align: right;\">  0</td><td style=\"text-align: right;\">  0</td><td style=\"text-align: right;\">  0</td><td style=\"text-align: right;\">  0</td><td style=\"text-align: right;\">  0</td><td style=\"text-align: right;\">  0</td><td style=\"text-align: right;\">  0</td><td style=\"text-align: right;\">   0</td><td style=\"text-align: right;\">   0</td><td style=\"text-align: right;\">   0</td><td style=\"text-align: right;\">   0</td><td style=\"text-align: right;\">   0</td><td style=\"text-align: right;\">   0</td><td style=\"text-align: right;\">   0</td><td style=\"text-align: right;\">   0</td><td style=\"text-align: right;\">   0</td><td style=\"text-align: right;\">   0</td></tr>\n",
       "<tr><td style=\"text-align: right;\"> 2</td><td style=\"text-align: right;\">  0</td><td style=\"text-align: right;\">  0</td><td style=\"text-align: right;\">  1</td><td style=\"text-align: right;\">  0</td><td style=\"text-align: right;\">  0</td><td style=\"text-align: right;\">  0</td><td style=\"text-align: right;\">  0</td><td style=\"text-align: right;\">  0</td><td style=\"text-align: right;\">  0</td><td style=\"text-align: right;\">  0</td><td style=\"text-align: right;\">   0</td><td style=\"text-align: right;\">   0</td><td style=\"text-align: right;\">   0</td><td style=\"text-align: right;\">   0</td><td style=\"text-align: right;\">   0</td><td style=\"text-align: right;\">   0</td><td style=\"text-align: right;\">   0</td><td style=\"text-align: right;\">   0</td><td style=\"text-align: right;\">   0</td><td style=\"text-align: right;\">   0</td></tr>\n",
       "<tr><td style=\"text-align: right;\"> 3</td><td style=\"text-align: right;\">  0</td><td style=\"text-align: right;\">  0</td><td style=\"text-align: right;\">  0</td><td style=\"text-align: right;\">  1</td><td style=\"text-align: right;\">  1</td><td style=\"text-align: right;\">  0</td><td style=\"text-align: right;\">  0</td><td style=\"text-align: right;\">  1</td><td style=\"text-align: right;\">  0</td><td style=\"text-align: right;\">  0</td><td style=\"text-align: right;\">   0</td><td style=\"text-align: right;\">   0</td><td style=\"text-align: right;\">   0</td><td style=\"text-align: right;\">   0</td><td style=\"text-align: right;\">   0</td><td style=\"text-align: right;\">   0</td><td style=\"text-align: right;\">   0</td><td style=\"text-align: right;\">   0</td><td style=\"text-align: right;\">   0</td><td style=\"text-align: right;\">   0</td></tr>\n",
       "<tr><td style=\"text-align: right;\"> 4</td><td style=\"text-align: right;\">  0</td><td style=\"text-align: right;\">  0</td><td style=\"text-align: right;\">  0</td><td style=\"text-align: right;\">  1</td><td style=\"text-align: right;\">  1</td><td style=\"text-align: right;\">  0</td><td style=\"text-align: right;\">  0</td><td style=\"text-align: right;\">  1</td><td style=\"text-align: right;\">  0</td><td style=\"text-align: right;\">  0</td><td style=\"text-align: right;\">   0</td><td style=\"text-align: right;\">   0</td><td style=\"text-align: right;\">   0</td><td style=\"text-align: right;\">   0</td><td style=\"text-align: right;\">   0</td><td style=\"text-align: right;\">   0</td><td style=\"text-align: right;\">   0</td><td style=\"text-align: right;\">   0</td><td style=\"text-align: right;\">   0</td><td style=\"text-align: right;\">   0</td></tr>\n",
       "<tr><td style=\"text-align: right;\"> 5</td><td style=\"text-align: right;\">  0</td><td style=\"text-align: right;\">  0</td><td style=\"text-align: right;\">  0</td><td style=\"text-align: right;\">  0</td><td style=\"text-align: right;\">  0</td><td style=\"text-align: right;\">  1</td><td style=\"text-align: right;\">  0</td><td style=\"text-align: right;\">  0</td><td style=\"text-align: right;\">  0</td><td style=\"text-align: right;\">  0</td><td style=\"text-align: right;\">   0</td><td style=\"text-align: right;\">   1</td><td style=\"text-align: right;\">   0</td><td style=\"text-align: right;\">   0</td><td style=\"text-align: right;\">   1</td><td style=\"text-align: right;\">   0</td><td style=\"text-align: right;\">   0</td><td style=\"text-align: right;\">   0</td><td style=\"text-align: right;\">   0</td><td style=\"text-align: right;\">   0</td></tr>\n",
       "<tr><td style=\"text-align: right;\"> 6</td><td style=\"text-align: right;\">  0</td><td style=\"text-align: right;\">  0</td><td style=\"text-align: right;\">  0</td><td style=\"text-align: right;\">  0</td><td style=\"text-align: right;\">  0</td><td style=\"text-align: right;\">  0</td><td style=\"text-align: right;\">  1</td><td style=\"text-align: right;\">  0</td><td style=\"text-align: right;\">  0</td><td style=\"text-align: right;\">  0</td><td style=\"text-align: right;\">   0</td><td style=\"text-align: right;\">   0</td><td style=\"text-align: right;\">   0</td><td style=\"text-align: right;\">   0</td><td style=\"text-align: right;\">   0</td><td style=\"text-align: right;\">   0</td><td style=\"text-align: right;\">   0</td><td style=\"text-align: right;\">   0</td><td style=\"text-align: right;\">   0</td><td style=\"text-align: right;\">   0</td></tr>\n",
       "<tr><td style=\"text-align: right;\"> 7</td><td style=\"text-align: right;\">  0</td><td style=\"text-align: right;\">  0</td><td style=\"text-align: right;\">  0</td><td style=\"text-align: right;\">  1</td><td style=\"text-align: right;\">  1</td><td style=\"text-align: right;\">  0</td><td style=\"text-align: right;\">  0</td><td style=\"text-align: right;\">  1</td><td style=\"text-align: right;\">  0</td><td style=\"text-align: right;\">  0</td><td style=\"text-align: right;\">   0</td><td style=\"text-align: right;\">   0</td><td style=\"text-align: right;\">   0</td><td style=\"text-align: right;\">   0</td><td style=\"text-align: right;\">   0</td><td style=\"text-align: right;\">   0</td><td style=\"text-align: right;\">   0</td><td style=\"text-align: right;\">   0</td><td style=\"text-align: right;\">   0</td><td style=\"text-align: right;\">   0</td></tr>\n",
       "<tr><td style=\"text-align: right;\"> 8</td><td style=\"text-align: right;\">  0</td><td style=\"text-align: right;\">  0</td><td style=\"text-align: right;\">  0</td><td style=\"text-align: right;\">  0</td><td style=\"text-align: right;\">  0</td><td style=\"text-align: right;\">  0</td><td style=\"text-align: right;\">  0</td><td style=\"text-align: right;\">  0</td><td style=\"text-align: right;\">  1</td><td style=\"text-align: right;\">  0</td><td style=\"text-align: right;\">   0</td><td style=\"text-align: right;\">   0</td><td style=\"text-align: right;\">   0</td><td style=\"text-align: right;\">   0</td><td style=\"text-align: right;\">   0</td><td style=\"text-align: right;\">   0</td><td style=\"text-align: right;\">   0</td><td style=\"text-align: right;\">   0</td><td style=\"text-align: right;\">   0</td><td style=\"text-align: right;\">   0</td></tr>\n",
       "<tr><td style=\"text-align: right;\"> 9</td><td style=\"text-align: right;\">  0</td><td style=\"text-align: right;\">  0</td><td style=\"text-align: right;\">  0</td><td style=\"text-align: right;\">  0</td><td style=\"text-align: right;\">  0</td><td style=\"text-align: right;\">  0</td><td style=\"text-align: right;\">  0</td><td style=\"text-align: right;\">  0</td><td style=\"text-align: right;\">  0</td><td style=\"text-align: right;\">  1</td><td style=\"text-align: right;\">   0</td><td style=\"text-align: right;\">   0</td><td style=\"text-align: right;\">   0</td><td style=\"text-align: right;\">   0</td><td style=\"text-align: right;\">   0</td><td style=\"text-align: right;\">   0</td><td style=\"text-align: right;\">   0</td><td style=\"text-align: right;\">   0</td><td style=\"text-align: right;\">   0</td><td style=\"text-align: right;\">   0</td></tr>\n",
       "<tr><td style=\"text-align: right;\">10</td><td style=\"text-align: right;\">  0</td><td style=\"text-align: right;\">  0</td><td style=\"text-align: right;\">  0</td><td style=\"text-align: right;\">  0</td><td style=\"text-align: right;\">  0</td><td style=\"text-align: right;\">  0</td><td style=\"text-align: right;\">  0</td><td style=\"text-align: right;\">  0</td><td style=\"text-align: right;\">  0</td><td style=\"text-align: right;\">  0</td><td style=\"text-align: right;\">   1</td><td style=\"text-align: right;\">   0</td><td style=\"text-align: right;\">   0</td><td style=\"text-align: right;\">   0</td><td style=\"text-align: right;\">   0</td><td style=\"text-align: right;\">   0</td><td style=\"text-align: right;\">   0</td><td style=\"text-align: right;\">   0</td><td style=\"text-align: right;\">   0</td><td style=\"text-align: right;\">   0</td></tr>\n",
       "<tr><td style=\"text-align: right;\">11</td><td style=\"text-align: right;\">  0</td><td style=\"text-align: right;\">  0</td><td style=\"text-align: right;\">  0</td><td style=\"text-align: right;\">  0</td><td style=\"text-align: right;\">  0</td><td style=\"text-align: right;\">  1</td><td style=\"text-align: right;\">  0</td><td style=\"text-align: right;\">  0</td><td style=\"text-align: right;\">  0</td><td style=\"text-align: right;\">  0</td><td style=\"text-align: right;\">   0</td><td style=\"text-align: right;\">   1</td><td style=\"text-align: right;\">   0</td><td style=\"text-align: right;\">   0</td><td style=\"text-align: right;\">   1</td><td style=\"text-align: right;\">   0</td><td style=\"text-align: right;\">   0</td><td style=\"text-align: right;\">   0</td><td style=\"text-align: right;\">   0</td><td style=\"text-align: right;\">   0</td></tr>\n",
       "<tr><td style=\"text-align: right;\">12</td><td style=\"text-align: right;\">  0</td><td style=\"text-align: right;\">  0</td><td style=\"text-align: right;\">  0</td><td style=\"text-align: right;\">  0</td><td style=\"text-align: right;\">  0</td><td style=\"text-align: right;\">  0</td><td style=\"text-align: right;\">  0</td><td style=\"text-align: right;\">  0</td><td style=\"text-align: right;\">  0</td><td style=\"text-align: right;\">  0</td><td style=\"text-align: right;\">   0</td><td style=\"text-align: right;\">   0</td><td style=\"text-align: right;\">   1</td><td style=\"text-align: right;\">   1</td><td style=\"text-align: right;\">   0</td><td style=\"text-align: right;\">   0</td><td style=\"text-align: right;\">   0</td><td style=\"text-align: right;\">   0</td><td style=\"text-align: right;\">   0</td><td style=\"text-align: right;\">   0</td></tr>\n",
       "<tr><td style=\"text-align: right;\">13</td><td style=\"text-align: right;\">  0</td><td style=\"text-align: right;\">  0</td><td style=\"text-align: right;\">  0</td><td style=\"text-align: right;\">  0</td><td style=\"text-align: right;\">  0</td><td style=\"text-align: right;\">  0</td><td style=\"text-align: right;\">  0</td><td style=\"text-align: right;\">  0</td><td style=\"text-align: right;\">  0</td><td style=\"text-align: right;\">  0</td><td style=\"text-align: right;\">   0</td><td style=\"text-align: right;\">   0</td><td style=\"text-align: right;\">   1</td><td style=\"text-align: right;\">   1</td><td style=\"text-align: right;\">   0</td><td style=\"text-align: right;\">   0</td><td style=\"text-align: right;\">   0</td><td style=\"text-align: right;\">   0</td><td style=\"text-align: right;\">   0</td><td style=\"text-align: right;\">   0</td></tr>\n",
       "<tr><td style=\"text-align: right;\">14</td><td style=\"text-align: right;\">  0</td><td style=\"text-align: right;\">  0</td><td style=\"text-align: right;\">  0</td><td style=\"text-align: right;\">  0</td><td style=\"text-align: right;\">  0</td><td style=\"text-align: right;\">  1</td><td style=\"text-align: right;\">  0</td><td style=\"text-align: right;\">  0</td><td style=\"text-align: right;\">  0</td><td style=\"text-align: right;\">  0</td><td style=\"text-align: right;\">   0</td><td style=\"text-align: right;\">   1</td><td style=\"text-align: right;\">   0</td><td style=\"text-align: right;\">   0</td><td style=\"text-align: right;\">   1</td><td style=\"text-align: right;\">   0</td><td style=\"text-align: right;\">   0</td><td style=\"text-align: right;\">   0</td><td style=\"text-align: right;\">   0</td><td style=\"text-align: right;\">   0</td></tr>\n",
       "<tr><td style=\"text-align: right;\">15</td><td style=\"text-align: right;\">  0</td><td style=\"text-align: right;\">  0</td><td style=\"text-align: right;\">  0</td><td style=\"text-align: right;\">  0</td><td style=\"text-align: right;\">  0</td><td style=\"text-align: right;\">  0</td><td style=\"text-align: right;\">  0</td><td style=\"text-align: right;\">  0</td><td style=\"text-align: right;\">  0</td><td style=\"text-align: right;\">  0</td><td style=\"text-align: right;\">   0</td><td style=\"text-align: right;\">   0</td><td style=\"text-align: right;\">   0</td><td style=\"text-align: right;\">   0</td><td style=\"text-align: right;\">   0</td><td style=\"text-align: right;\">   1</td><td style=\"text-align: right;\">   0</td><td style=\"text-align: right;\">   0</td><td style=\"text-align: right;\">   0</td><td style=\"text-align: right;\">   0</td></tr>\n",
       "<tr><td style=\"text-align: right;\">16</td><td style=\"text-align: right;\">  0</td><td style=\"text-align: right;\">  0</td><td style=\"text-align: right;\">  0</td><td style=\"text-align: right;\">  0</td><td style=\"text-align: right;\">  0</td><td style=\"text-align: right;\">  0</td><td style=\"text-align: right;\">  0</td><td style=\"text-align: right;\">  0</td><td style=\"text-align: right;\">  0</td><td style=\"text-align: right;\">  0</td><td style=\"text-align: right;\">   0</td><td style=\"text-align: right;\">   0</td><td style=\"text-align: right;\">   0</td><td style=\"text-align: right;\">   0</td><td style=\"text-align: right;\">   0</td><td style=\"text-align: right;\">   0</td><td style=\"text-align: right;\">   1</td><td style=\"text-align: right;\">   0</td><td style=\"text-align: right;\">   0</td><td style=\"text-align: right;\">   0</td></tr>\n",
       "<tr><td style=\"text-align: right;\">17</td><td style=\"text-align: right;\">  0</td><td style=\"text-align: right;\">  0</td><td style=\"text-align: right;\">  0</td><td style=\"text-align: right;\">  0</td><td style=\"text-align: right;\">  0</td><td style=\"text-align: right;\">  0</td><td style=\"text-align: right;\">  0</td><td style=\"text-align: right;\">  0</td><td style=\"text-align: right;\">  0</td><td style=\"text-align: right;\">  0</td><td style=\"text-align: right;\">   0</td><td style=\"text-align: right;\">   0</td><td style=\"text-align: right;\">   0</td><td style=\"text-align: right;\">   0</td><td style=\"text-align: right;\">   0</td><td style=\"text-align: right;\">   0</td><td style=\"text-align: right;\">   0</td><td style=\"text-align: right;\">   1</td><td style=\"text-align: right;\">   0</td><td style=\"text-align: right;\">   0</td></tr>\n",
       "<tr><td style=\"text-align: right;\">18</td><td style=\"text-align: right;\">  0</td><td style=\"text-align: right;\">  0</td><td style=\"text-align: right;\">  0</td><td style=\"text-align: right;\">  0</td><td style=\"text-align: right;\">  0</td><td style=\"text-align: right;\">  0</td><td style=\"text-align: right;\">  0</td><td style=\"text-align: right;\">  0</td><td style=\"text-align: right;\">  0</td><td style=\"text-align: right;\">  0</td><td style=\"text-align: right;\">   0</td><td style=\"text-align: right;\">   0</td><td style=\"text-align: right;\">   0</td><td style=\"text-align: right;\">   0</td><td style=\"text-align: right;\">   0</td><td style=\"text-align: right;\">   0</td><td style=\"text-align: right;\">   0</td><td style=\"text-align: right;\">   0</td><td style=\"text-align: right;\">   1</td><td style=\"text-align: right;\">   0</td></tr>\n",
       "<tr><td style=\"text-align: right;\">19</td><td style=\"text-align: right;\">  0</td><td style=\"text-align: right;\">  0</td><td style=\"text-align: right;\">  0</td><td style=\"text-align: right;\">  0</td><td style=\"text-align: right;\">  0</td><td style=\"text-align: right;\">  0</td><td style=\"text-align: right;\">  0</td><td style=\"text-align: right;\">  0</td><td style=\"text-align: right;\">  0</td><td style=\"text-align: right;\">  0</td><td style=\"text-align: right;\">   0</td><td style=\"text-align: right;\">   0</td><td style=\"text-align: right;\">   0</td><td style=\"text-align: right;\">   0</td><td style=\"text-align: right;\">   0</td><td style=\"text-align: right;\">   0</td><td style=\"text-align: right;\">   0</td><td style=\"text-align: right;\">   0</td><td style=\"text-align: right;\">   0</td><td style=\"text-align: right;\">   1</td></tr>\n",
       "</tbody>\n",
       "</table>"
      ],
      "text/plain": [
       "<IPython.core.display.HTML object>"
      ]
     },
     "metadata": {},
     "output_type": "display_data"
    }
   ],
   "source": [
    "ShowDF(pd.DataFrame(AdjacencyMatrix[:20,:20])) #Check the size of your matrix"
   ]
  },
  {
   "cell_type": "code",
   "execution_count": 8,
   "id": "9beddc2b",
   "metadata": {
    "ExecuteTime": {
     "end_time": "2023-04-04T12:38:49.197417Z",
     "start_time": "2023-04-04T12:38:49.175509Z"
    },
    "scrolled": true
   },
   "outputs": [],
   "source": [
    "ModList=ModulesDet(AdjacencyMatrix,Mod=0,p=0,ModList=[]) #Some recursion problems #We are getting more data"
   ]
  },
  {
   "cell_type": "code",
   "execution_count": 9,
   "id": "7e06ea82",
   "metadata": {
    "ExecuteTime": {
     "end_time": "2023-04-04T12:38:55.641397Z",
     "start_time": "2023-04-04T12:38:55.612967Z"
    }
   },
   "outputs": [],
   "source": [
    "#Summarizing the clusters. We need additional grouping in between the clusters \n",
    "#This will become another function\n",
    "MinNumberCandidatesClustering=3\n",
    "Mean_mzVec=[]\n",
    "Mean_RTVec=[]\n",
    "NumberofSignals=[]\n",
    "Summary=[]\n",
    "for x in ModList:    \n",
    "    Mean_mz=np.mean(SignalsMat[x,0]) #They are not the real centroids! We need to ponderate with intensity\n",
    "    Mean_RT=np.mean(SignalsMat[x,5])\n",
    "    std_mz=np.std(SignalsMat[x,0])\n",
    "    std_RT=np.std(SignalsMat[x,5])    \n",
    "    #print(Mean_mz,Mean_RT)\n",
    "    #print(std_mz,std_RT)\n",
    "    #print(std_mz/Mean_mz*1e6)\n",
    "    #ShowDF(pd.DataFrame(SignalsMat[x,:]))\n",
    "    Summary.append([Mean_RT,std_RT,Mean_mz,std_mz,len(x)])\n",
    "SummaryArray=np.array(Summary)\n",
    "SummaryFilter_Loc=np.where(SummaryArray[:,4]>MinNumberCandidatesClustering)[0]\n",
    "SummaryArr=SummaryArray[SummaryFilter_Loc,:].copy()\n",
    "SummaryDF=pd.DataFrame(SummaryArr,columns=['RT(min)','std_RT','Mean_mz','std_mz','NSignals'])    "
   ]
  },
  {
   "cell_type": "code",
   "execution_count": 10,
   "id": "51e72ce9",
   "metadata": {
    "ExecuteTime": {
     "end_time": "2023-04-04T12:38:58.087175Z",
     "start_time": "2023-04-04T12:38:58.076508Z"
    },
    "scrolled": true
   },
   "outputs": [
    {
     "data": {
      "text/html": [
       "<table>\n",
       "<thead>\n",
       "<tr><th style=\"text-align: right;\">  </th><th style=\"text-align: right;\">  RT(min)</th><th style=\"text-align: right;\">    std_RT</th><th style=\"text-align: right;\">  Mean_mz</th><th style=\"text-align: right;\">     std_mz</th><th style=\"text-align: right;\">  NSignals</th></tr>\n",
       "</thead>\n",
       "<tbody>\n",
       "<tr><td style=\"text-align: right;\"> 0</td><td style=\"text-align: right;\"> 0.85775 </td><td style=\"text-align: right;\">0.00682894</td><td style=\"text-align: right;\">  210.111</td><td style=\"text-align: right;\">0.000120069</td><td style=\"text-align: right;\">         7</td></tr>\n",
       "<tr><td style=\"text-align: right;\"> 1</td><td style=\"text-align: right;\"> 0.935919</td><td style=\"text-align: right;\">0.0576423 </td><td style=\"text-align: right;\">  162.112</td><td style=\"text-align: right;\">3.5418e-05 </td><td style=\"text-align: right;\">         7</td></tr>\n",
       "<tr><td style=\"text-align: right;\"> 2</td><td style=\"text-align: right;\"> 0.957792</td><td style=\"text-align: right;\">0.00274166</td><td style=\"text-align: right;\">  246.133</td><td style=\"text-align: right;\">4.57764e-05</td><td style=\"text-align: right;\">         4</td></tr>\n",
       "<tr><td style=\"text-align: right;\"> 3</td><td style=\"text-align: right;\"> 3.15222 </td><td style=\"text-align: right;\">0.115122  </td><td style=\"text-align: right;\">  172.096</td><td style=\"text-align: right;\">0.00012688 </td><td style=\"text-align: right;\">         7</td></tr>\n",
       "<tr><td style=\"text-align: right;\"> 4</td><td style=\"text-align: right;\"> 3.21866 </td><td style=\"text-align: right;\">0.0711798 </td><td style=\"text-align: right;\">  283.173</td><td style=\"text-align: right;\">0.000445651</td><td style=\"text-align: right;\">        37</td></tr>\n",
       "<tr><td style=\"text-align: right;\"> 5</td><td style=\"text-align: right;\"> 3.27701 </td><td style=\"text-align: right;\">0.127742  </td><td style=\"text-align: right;\">  316.175</td><td style=\"text-align: right;\">0          </td><td style=\"text-align: right;\">         4</td></tr>\n",
       "<tr><td style=\"text-align: right;\"> 6</td><td style=\"text-align: right;\"> 3.20682 </td><td style=\"text-align: right;\">0.00821662</td><td style=\"text-align: right;\">  334.176</td><td style=\"text-align: right;\">1.52588e-05</td><td style=\"text-align: right;\">         4</td></tr>\n",
       "<tr><td style=\"text-align: right;\"> 7</td><td style=\"text-align: right;\"> 3.30221 </td><td style=\"text-align: right;\">0.122696  </td><td style=\"text-align: right;\">  282.17 </td><td style=\"text-align: right;\">0.000411451</td><td style=\"text-align: right;\">        14</td></tr>\n",
       "<tr><td style=\"text-align: right;\"> 8</td><td style=\"text-align: right;\"> 3.30167 </td><td style=\"text-align: right;\">0.0701834 </td><td style=\"text-align: right;\">  318.179</td><td style=\"text-align: right;\">0.000488281</td><td style=\"text-align: right;\">         4</td></tr>\n",
       "<tr><td style=\"text-align: right;\"> 9</td><td style=\"text-align: right;\"> 3.38464 </td><td style=\"text-align: right;\">0.12989   </td><td style=\"text-align: right;\">  292.165</td><td style=\"text-align: right;\">0.000582771</td><td style=\"text-align: right;\">         6</td></tr>\n",
       "<tr><td style=\"text-align: right;\">10</td><td style=\"text-align: right;\"> 3.34074 </td><td style=\"text-align: right;\">0.0497427 </td><td style=\"text-align: right;\">  328.2  </td><td style=\"text-align: right;\">0.000258891</td><td style=\"text-align: right;\">        11</td></tr>\n",
       "<tr><td style=\"text-align: right;\">11</td><td style=\"text-align: right;\"> 3.39264 </td><td style=\"text-align: right;\">0.0907418 </td><td style=\"text-align: right;\">  557.28 </td><td style=\"text-align: right;\">3.05176e-05</td><td style=\"text-align: right;\">         4</td></tr>\n",
       "<tr><td style=\"text-align: right;\">12</td><td style=\"text-align: right;\"> 3.51152 </td><td style=\"text-align: right;\">0.0868435 </td><td style=\"text-align: right;\">  310.201</td><td style=\"text-align: right;\">0.000680903</td><td style=\"text-align: right;\">        11</td></tr>\n",
       "<tr><td style=\"text-align: right;\">13</td><td style=\"text-align: right;\"> 3.47195 </td><td style=\"text-align: right;\">0.0777185 </td><td style=\"text-align: right;\">  225.073</td><td style=\"text-align: right;\">8.10943e-05</td><td style=\"text-align: right;\">         7</td></tr>\n",
       "<tr><td style=\"text-align: right;\">14</td><td style=\"text-align: right;\"> 4.30684 </td><td style=\"text-align: right;\">0.285984  </td><td style=\"text-align: right;\">  300.181</td><td style=\"text-align: right;\">0.000300971</td><td style=\"text-align: right;\">       311</td></tr>\n",
       "<tr><td style=\"text-align: right;\">15</td><td style=\"text-align: right;\"> 3.44859 </td><td style=\"text-align: right;\">0.00547504</td><td style=\"text-align: right;\">  241.162</td><td style=\"text-align: right;\">0.000228882</td><td style=\"text-align: right;\">         4</td></tr>\n",
       "<tr><td style=\"text-align: right;\">16</td><td style=\"text-align: right;\"> 4.17664 </td><td style=\"text-align: right;\">0.270527  </td><td style=\"text-align: right;\">  301.184</td><td style=\"text-align: right;\">0.000304252</td><td style=\"text-align: right;\">       102</td></tr>\n",
       "<tr><td style=\"text-align: right;\">17</td><td style=\"text-align: right;\"> 3.59132 </td><td style=\"text-align: right;\">0.0123856 </td><td style=\"text-align: right;\">  275.168</td><td style=\"text-align: right;\">0.00017709 </td><td style=\"text-align: right;\">         7</td></tr>\n",
       "<tr><td style=\"text-align: right;\">18</td><td style=\"text-align: right;\"> 3.60698 </td><td style=\"text-align: right;\">0.00912779</td><td style=\"text-align: right;\">  274.165</td><td style=\"text-align: right;\">0.000129328</td><td style=\"text-align: right;\">         7</td></tr>\n",
       "<tr><td style=\"text-align: right;\">19</td><td style=\"text-align: right;\"> 3.61912 </td><td style=\"text-align: right;\">0.00275004</td><td style=\"text-align: right;\">  348.19 </td><td style=\"text-align: right;\">0.000808716</td><td style=\"text-align: right;\">         4</td></tr>\n",
       "<tr><td style=\"text-align: right;\">20</td><td style=\"text-align: right;\"> 3.84823 </td><td style=\"text-align: right;\">0.0431403 </td><td style=\"text-align: right;\">  238.144</td><td style=\"text-align: right;\">0.000400626</td><td style=\"text-align: right;\">         7</td></tr>\n",
       "<tr><td style=\"text-align: right;\">21</td><td style=\"text-align: right;\"> 3.84338 </td><td style=\"text-align: right;\">0.015375  </td><td style=\"text-align: right;\">  276.169</td><td style=\"text-align: right;\">0.000152588</td><td style=\"text-align: right;\">         4</td></tr>\n",
       "<tr><td style=\"text-align: right;\">22</td><td style=\"text-align: right;\"> 4.05831 </td><td style=\"text-align: right;\">0.0946742 </td><td style=\"text-align: right;\">  328.2  </td><td style=\"text-align: right;\">0.000402621</td><td style=\"text-align: right;\">        22</td></tr>\n",
       "<tr><td style=\"text-align: right;\">23</td><td style=\"text-align: right;\"> 4.04671 </td><td style=\"text-align: right;\">0.101342  </td><td style=\"text-align: right;\">  329.203</td><td style=\"text-align: right;\">0.000257773</td><td style=\"text-align: right;\">         7</td></tr>\n",
       "<tr><td style=\"text-align: right;\">24</td><td style=\"text-align: right;\"> 4.12101 </td><td style=\"text-align: right;\">0.0942166 </td><td style=\"text-align: right;\">  302.185</td><td style=\"text-align: right;\">0.000198481</td><td style=\"text-align: right;\">        22</td></tr>\n",
       "<tr><td style=\"text-align: right;\">25</td><td style=\"text-align: right;\"> 4.0923  </td><td style=\"text-align: right;\">0.0109668 </td><td style=\"text-align: right;\">  332.206</td><td style=\"text-align: right;\">0.000289917</td><td style=\"text-align: right;\">         4</td></tr>\n",
       "<tr><td style=\"text-align: right;\">26</td><td style=\"text-align: right;\"> 4.17026 </td><td style=\"text-align: right;\">0.0370293 </td><td style=\"text-align: right;\">  258.122</td><td style=\"text-align: right;\">7.28756e-05</td><td style=\"text-align: right;\">        11</td></tr>\n",
       "<tr><td style=\"text-align: right;\">27</td><td style=\"text-align: right;\"> 4.13772 </td><td style=\"text-align: right;\">0.00912871</td><td style=\"text-align: right;\">  278.1  </td><td style=\"text-align: right;\">0.000266546</td><td style=\"text-align: right;\">         7</td></tr>\n",
       "<tr><td style=\"text-align: right;\">28</td><td style=\"text-align: right;\"> 4.31382 </td><td style=\"text-align: right;\">0.0975916 </td><td style=\"text-align: right;\">  318.189</td><td style=\"text-align: right;\">0.00222778 </td><td style=\"text-align: right;\">         4</td></tr>\n",
       "<tr><td style=\"text-align: right;\">29</td><td style=\"text-align: right;\"> 4.74476 </td><td style=\"text-align: right;\">0.176953  </td><td style=\"text-align: right;\">  308.186</td><td style=\"text-align: right;\">0.00015955 </td><td style=\"text-align: right;\">         9</td></tr>\n",
       "<tr><td style=\"text-align: right;\">30</td><td style=\"text-align: right;\"> 4.63227 </td><td style=\"text-align: right;\">0.0925142 </td><td style=\"text-align: right;\">  328.2  </td><td style=\"text-align: right;\">0.000681781</td><td style=\"text-align: right;\">         7</td></tr>\n",
       "<tr><td style=\"text-align: right;\">31</td><td style=\"text-align: right;\"> 4.5046  </td><td style=\"text-align: right;\">0.00548315</td><td style=\"text-align: right;\">  314.16 </td><td style=\"text-align: right;\">0.000656128</td><td style=\"text-align: right;\">         4</td></tr>\n",
       "<tr><td style=\"text-align: right;\">32</td><td style=\"text-align: right;\"> 4.73881 </td><td style=\"text-align: right;\">0.131317  </td><td style=\"text-align: right;\">  311.11 </td><td style=\"text-align: right;\">6.89322e-05</td><td style=\"text-align: right;\">         7</td></tr>\n",
       "<tr><td style=\"text-align: right;\">33</td><td style=\"text-align: right;\"> 4.71349 </td><td style=\"text-align: right;\">0.0082252 </td><td style=\"text-align: right;\">  329.204</td><td style=\"text-align: right;\">6.10352e-05</td><td style=\"text-align: right;\">         4</td></tr>\n",
       "<tr><td style=\"text-align: right;\">34</td><td style=\"text-align: right;\"> 4.8885  </td><td style=\"text-align: right;\">0.0152898 </td><td style=\"text-align: right;\">  309.189</td><td style=\"text-align: right;\">0.000223432</td><td style=\"text-align: right;\">        11</td></tr>\n",
       "<tr><td style=\"text-align: right;\">35</td><td style=\"text-align: right;\"> 4.88676 </td><td style=\"text-align: right;\">0.00822496</td><td style=\"text-align: right;\">  302.185</td><td style=\"text-align: right;\">0          </td><td style=\"text-align: right;\">         4</td></tr>\n",
       "<tr><td style=\"text-align: right;\">36</td><td style=\"text-align: right;\"> 5.04906 </td><td style=\"text-align: right;\">0.00822496</td><td style=\"text-align: right;\">  314.16 </td><td style=\"text-align: right;\">0.000289917</td><td style=\"text-align: right;\">         4</td></tr>\n",
       "<tr><td style=\"text-align: right;\">37</td><td style=\"text-align: right;\"> 5.11274 </td><td style=\"text-align: right;\">0.0737961 </td><td style=\"text-align: right;\">  316.164</td><td style=\"text-align: right;\">0.000417709</td><td style=\"text-align: right;\">         7</td></tr>\n",
       "<tr><td style=\"text-align: right;\">38</td><td style=\"text-align: right;\"> 5.14234 </td><td style=\"text-align: right;\">0.0133145 </td><td style=\"text-align: right;\">  282.171</td><td style=\"text-align: right;\">0.000646912</td><td style=\"text-align: right;\">        11</td></tr>\n",
       "<tr><td style=\"text-align: right;\">39</td><td style=\"text-align: right;\"> 5.17025 </td><td style=\"text-align: right;\">0.018686  </td><td style=\"text-align: right;\">  283.173</td><td style=\"text-align: right;\">0.000216868</td><td style=\"text-align: right;\">        16</td></tr>\n",
       "<tr><td style=\"text-align: right;\">40</td><td style=\"text-align: right;\"> 5.19615 </td><td style=\"text-align: right;\">0.0303909 </td><td style=\"text-align: right;\">  310.126</td><td style=\"text-align: right;\">0.000373075</td><td style=\"text-align: right;\">        22</td></tr>\n",
       "<tr><td style=\"text-align: right;\">41</td><td style=\"text-align: right;\"> 5.19766 </td><td style=\"text-align: right;\">0.0383751 </td><td style=\"text-align: right;\">  326.1  </td><td style=\"text-align: right;\">0.000335693</td><td style=\"text-align: right;\">         4</td></tr>\n",
       "<tr><td style=\"text-align: right;\">42</td><td style=\"text-align: right;\"> 6.13125 </td><td style=\"text-align: right;\">0.417392  </td><td style=\"text-align: right;\">  243.141</td><td style=\"text-align: right;\">0.0003529  </td><td style=\"text-align: right;\">        59</td></tr>\n",
       "<tr><td style=\"text-align: right;\">43</td><td style=\"text-align: right;\"> 5.95246 </td><td style=\"text-align: right;\">0.39433   </td><td style=\"text-align: right;\">  210.112</td><td style=\"text-align: right;\">0.000168517</td><td style=\"text-align: right;\">       126</td></tr>\n",
       "<tr><td style=\"text-align: right;\">44</td><td style=\"text-align: right;\"> 5.40302 </td><td style=\"text-align: right;\">0.0368855 </td><td style=\"text-align: right;\">  270.395</td><td style=\"text-align: right;\">0.000355091</td><td style=\"text-align: right;\">         7</td></tr>\n",
       "<tr><td style=\"text-align: right;\">45</td><td style=\"text-align: right;\"> 5.39676 </td><td style=\"text-align: right;\">0.0204487 </td><td style=\"text-align: right;\">  270.434</td><td style=\"text-align: right;\">0.000113853</td><td style=\"text-align: right;\">         7</td></tr>\n",
       "<tr><td style=\"text-align: right;\">46</td><td style=\"text-align: right;\"> 6.10782 </td><td style=\"text-align: right;\">0.500951  </td><td style=\"text-align: right;\">  242.139</td><td style=\"text-align: right;\">0.00013788 </td><td style=\"text-align: right;\">       210</td></tr>\n",
       "<tr><td style=\"text-align: right;\">47</td><td style=\"text-align: right;\"> 5.59899 </td><td style=\"text-align: right;\">0.0438583 </td><td style=\"text-align: right;\">  298.165</td><td style=\"text-align: right;\">7.62939e-05</td><td style=\"text-align: right;\">         4</td></tr>\n",
       "<tr><td style=\"text-align: right;\">48</td><td style=\"text-align: right;\"> 5.79859 </td><td style=\"text-align: right;\">0.0866418 </td><td style=\"text-align: right;\">  268.191</td><td style=\"text-align: right;\">7.62939e-05</td><td style=\"text-align: right;\">         4</td></tr>\n",
       "<tr><td style=\"text-align: right;\">49</td><td style=\"text-align: right;\"> 5.81852 </td><td style=\"text-align: right;\">0.022228  </td><td style=\"text-align: right;\">  297.19 </td><td style=\"text-align: right;\">0.000208347</td><td style=\"text-align: right;\">        16</td></tr>\n",
       "<tr><td style=\"text-align: right;\">50</td><td style=\"text-align: right;\"> 5.87701 </td><td style=\"text-align: right;\">0.00822496</td><td style=\"text-align: right;\">  189.052</td><td style=\"text-align: right;\">4.57764e-05</td><td style=\"text-align: right;\">         4</td></tr>\n",
       "<tr><td style=\"text-align: right;\">51</td><td style=\"text-align: right;\"> 5.94278 </td><td style=\"text-align: right;\">0.05755   </td><td style=\"text-align: right;\">  107.049</td><td style=\"text-align: right;\">0.000209808</td><td style=\"text-align: right;\">         4</td></tr>\n",
       "<tr><td style=\"text-align: right;\">52</td><td style=\"text-align: right;\"> 5.89854 </td><td style=\"text-align: right;\">0.0123805 </td><td style=\"text-align: right;\">  296.186</td><td style=\"text-align: right;\">6.46641e-05</td><td style=\"text-align: right;\">         7</td></tr>\n",
       "<tr><td style=\"text-align: right;\">53</td><td style=\"text-align: right;\"> 5.92085 </td><td style=\"text-align: right;\">0.0246665 </td><td style=\"text-align: right;\">  239.09 </td><td style=\"text-align: right;\">0.000137329</td><td style=\"text-align: right;\">         4</td></tr>\n",
       "<tr><td style=\"text-align: right;\">54</td><td style=\"text-align: right;\"> 6.21496 </td><td style=\"text-align: right;\">0.133227  </td><td style=\"text-align: right;\">  316.164</td><td style=\"text-align: right;\">8.99822e-05</td><td style=\"text-align: right;\">         7</td></tr>\n",
       "<tr><td style=\"text-align: right;\">55</td><td style=\"text-align: right;\"> 6.27012 </td><td style=\"text-align: right;\">0.0109665 </td><td style=\"text-align: right;\">  284.186</td><td style=\"text-align: right;\">0.000152588</td><td style=\"text-align: right;\">         4</td></tr>\n",
       "<tr><td style=\"text-align: right;\">56</td><td style=\"text-align: right;\"> 6.40228 </td><td style=\"text-align: right;\">0.00822496</td><td style=\"text-align: right;\">  324.216</td><td style=\"text-align: right;\">0.00012207 </td><td style=\"text-align: right;\">         4</td></tr>\n",
       "<tr><td style=\"text-align: right;\">57</td><td style=\"text-align: right;\"> 6.52013 </td><td style=\"text-align: right;\">0.00548339</td><td style=\"text-align: right;\">  281.49 </td><td style=\"text-align: right;\">1.52588e-05</td><td style=\"text-align: right;\">         4</td></tr>\n",
       "<tr><td style=\"text-align: right;\">58</td><td style=\"text-align: right;\"> 6.9118  </td><td style=\"text-align: right;\">0.172726  </td><td style=\"text-align: right;\">  279.121</td><td style=\"text-align: right;\">0.000140147</td><td style=\"text-align: right;\">        18</td></tr>\n",
       "<tr><td style=\"text-align: right;\">59</td><td style=\"text-align: right;\"> 6.74683 </td><td style=\"text-align: right;\">0.022724  </td><td style=\"text-align: right;\">  289.172</td><td style=\"text-align: right;\">0.000304292</td><td style=\"text-align: right;\">        11</td></tr>\n",
       "<tr><td style=\"text-align: right;\">60</td><td style=\"text-align: right;\"> 6.85203 </td><td style=\"text-align: right;\">0.138575  </td><td style=\"text-align: right;\">  404.177</td><td style=\"text-align: right;\">0.000348845</td><td style=\"text-align: right;\">         6</td></tr>\n",
       "<tr><td style=\"text-align: right;\">61</td><td style=\"text-align: right;\"> 6.73895 </td><td style=\"text-align: right;\">0.0186192 </td><td style=\"text-align: right;\">  288.169</td><td style=\"text-align: right;\">0.000199597</td><td style=\"text-align: right;\">        11</td></tr>\n",
       "<tr><td style=\"text-align: right;\">62</td><td style=\"text-align: right;\"> 6.72353 </td><td style=\"text-align: right;\">0.00275016</td><td style=\"text-align: right;\">  286.165</td><td style=\"text-align: right;\">7.62939e-05</td><td style=\"text-align: right;\">         4</td></tr>\n",
       "<tr><td style=\"text-align: right;\">63</td><td style=\"text-align: right;\"> 6.78275 </td><td style=\"text-align: right;\">0.0509999 </td><td style=\"text-align: right;\">  406.181</td><td style=\"text-align: right;\">1.52588e-05</td><td style=\"text-align: right;\">         4</td></tr>\n",
       "<tr><td style=\"text-align: right;\">64</td><td style=\"text-align: right;\"> 6.80361 </td><td style=\"text-align: right;\">0.0465918 </td><td style=\"text-align: right;\">  352.174</td><td style=\"text-align: right;\">0.000350952</td><td style=\"text-align: right;\">         4</td></tr>\n",
       "<tr><td style=\"text-align: right;\">65</td><td style=\"text-align: right;\"> 7.0946  </td><td style=\"text-align: right;\">0.0699646 </td><td style=\"text-align: right;\">  295.21 </td><td style=\"text-align: right;\">0.000559261</td><td style=\"text-align: right;\">         7</td></tr>\n",
       "<tr><td style=\"text-align: right;\">66</td><td style=\"text-align: right;\"> 7.31145 </td><td style=\"text-align: right;\">0.146219  </td><td style=\"text-align: right;\">  294.206</td><td style=\"text-align: right;\">0.000213915</td><td style=\"text-align: right;\">        52</td></tr>\n",
       "<tr><td style=\"text-align: right;\">67</td><td style=\"text-align: right;\"> 7.23952 </td><td style=\"text-align: right;\">0.0866332 </td><td style=\"text-align: right;\">  348.168</td><td style=\"text-align: right;\">0.00177002 </td><td style=\"text-align: right;\">         4</td></tr>\n",
       "<tr><td style=\"text-align: right;\">68</td><td style=\"text-align: right;\"> 7.18029 </td><td style=\"text-align: right;\">0.0164418 </td><td style=\"text-align: right;\">  282.17 </td><td style=\"text-align: right;\">4.57764e-05</td><td style=\"text-align: right;\">         4</td></tr>\n",
       "<tr><td style=\"text-align: right;\">69</td><td style=\"text-align: right;\"> 7.18852 </td><td style=\"text-align: right;\">0.00274992</td><td style=\"text-align: right;\">  366.189</td><td style=\"text-align: right;\">0.000167847</td><td style=\"text-align: right;\">         4</td></tr>\n",
       "<tr><td style=\"text-align: right;\">70</td><td style=\"text-align: right;\"> 7.92075 </td><td style=\"text-align: right;\">0.275535  </td><td style=\"text-align: right;\">  242.138</td><td style=\"text-align: right;\">0.000259916</td><td style=\"text-align: right;\">        39</td></tr>\n",
       "<tr><td style=\"text-align: right;\">71</td><td style=\"text-align: right;\"> 7.52956 </td><td style=\"text-align: right;\">0.00274158</td><td style=\"text-align: right;\">  278.1  </td><td style=\"text-align: right;\">4.57764e-05</td><td style=\"text-align: right;\">         4</td></tr>\n",
       "<tr><td style=\"text-align: right;\">72</td><td style=\"text-align: right;\"> 7.55149 </td><td style=\"text-align: right;\">0.0246749 </td><td style=\"text-align: right;\">  281.107</td><td style=\"text-align: right;\">0.000320435</td><td style=\"text-align: right;\">         4</td></tr>\n",
       "<tr><td style=\"text-align: right;\">73</td><td style=\"text-align: right;\"> 7.55473 </td><td style=\"text-align: right;\">0.015583  </td><td style=\"text-align: right;\">  226.096</td><td style=\"text-align: right;\">4.38659e-05</td><td style=\"text-align: right;\">        11</td></tr>\n",
       "<tr><td style=\"text-align: right;\">74</td><td style=\"text-align: right;\"> 7.54775 </td><td style=\"text-align: right;\">0.0106677 </td><td style=\"text-align: right;\">  275.149</td><td style=\"text-align: right;\">0.000111388</td><td style=\"text-align: right;\">        11</td></tr>\n",
       "<tr><td style=\"text-align: right;\">75</td><td style=\"text-align: right;\"> 7.55109 </td><td style=\"text-align: right;\">0.0123774 </td><td style=\"text-align: right;\">  280.104</td><td style=\"text-align: right;\">2.30691e-05</td><td style=\"text-align: right;\">         7</td></tr>\n",
       "<tr><td style=\"text-align: right;\">76</td><td style=\"text-align: right;\"> 7.55422 </td><td style=\"text-align: right;\">0.0109582 </td><td style=\"text-align: right;\">  343.06 </td><td style=\"text-align: right;\">4.57764e-05</td><td style=\"text-align: right;\">         4</td></tr>\n",
       "<tr><td style=\"text-align: right;\">77</td><td style=\"text-align: right;\"> 7.56792 </td><td style=\"text-align: right;\">0.00274181</td><td style=\"text-align: right;\">  227.099</td><td style=\"text-align: right;\">9.91821e-05</td><td style=\"text-align: right;\">         4</td></tr>\n",
       "<tr><td style=\"text-align: right;\">78</td><td style=\"text-align: right;\"> 7.68093 </td><td style=\"text-align: right;\">0.00274158</td><td style=\"text-align: right;\">  293.195</td><td style=\"text-align: right;\">0.000106812</td><td style=\"text-align: right;\">         4</td></tr>\n",
       "<tr><td style=\"text-align: right;\">79</td><td style=\"text-align: right;\"> 7.69854 </td><td style=\"text-align: right;\">0.0204487 </td><td style=\"text-align: right;\">  507.307</td><td style=\"text-align: right;\">0.000242735</td><td style=\"text-align: right;\">         7</td></tr>\n",
       "<tr><td style=\"text-align: right;\">80</td><td style=\"text-align: right;\"> 7.69737 </td><td style=\"text-align: right;\">0.00274992</td><td style=\"text-align: right;\">  508.31 </td><td style=\"text-align: right;\">0.000305176</td><td style=\"text-align: right;\">         4</td></tr>\n",
       "<tr><td style=\"text-align: right;\">81</td><td style=\"text-align: right;\"> 7.81415 </td><td style=\"text-align: right;\">0.0318167 </td><td style=\"text-align: right;\">  322.162</td><td style=\"text-align: right;\">0.000137329</td><td style=\"text-align: right;\">         4</td></tr>\n",
       "<tr><td style=\"text-align: right;\">82</td><td style=\"text-align: right;\"> 7.85252 </td><td style=\"text-align: right;\">0.0427833 </td><td style=\"text-align: right;\">  324.167</td><td style=\"text-align: right;\">0.000106812</td><td style=\"text-align: right;\">         4</td></tr>\n",
       "<tr><td style=\"text-align: right;\">83</td><td style=\"text-align: right;\"> 7.87337 </td><td style=\"text-align: right;\">0.0109582 </td><td style=\"text-align: right;\">  260.165</td><td style=\"text-align: right;\">4.57764e-05</td><td style=\"text-align: right;\">         4</td></tr>\n",
       "<tr><td style=\"text-align: right;\">84</td><td style=\"text-align: right;\"> 7.87064 </td><td style=\"text-align: right;\">0.00822496</td><td style=\"text-align: right;\">  278.175</td><td style=\"text-align: right;\">7.62939e-05</td><td style=\"text-align: right;\">         4</td></tr>\n",
       "<tr><td style=\"text-align: right;\">85</td><td style=\"text-align: right;\"> 8.04586 </td><td style=\"text-align: right;\">0.00682215</td><td style=\"text-align: right;\">  302.136</td><td style=\"text-align: right;\">0.000146681</td><td style=\"text-align: right;\">         7</td></tr>\n",
       "<tr><td style=\"text-align: right;\">86</td><td style=\"text-align: right;\"> 8.43784 </td><td style=\"text-align: right;\">0.0296641 </td><td style=\"text-align: right;\">  302.136</td><td style=\"text-align: right;\">0.000162189</td><td style=\"text-align: right;\">         7</td></tr>\n",
       "<tr><td style=\"text-align: right;\">87</td><td style=\"text-align: right;\">11.5596  </td><td style=\"text-align: right;\">0.0907831 </td><td style=\"text-align: right;\">  557.281</td><td style=\"text-align: right;\">0.000183105</td><td style=\"text-align: right;\">         4</td></tr>\n",
       "<tr><td style=\"text-align: right;\">88</td><td style=\"text-align: right;\">12.6341  </td><td style=\"text-align: right;\">0.205223  </td><td style=\"text-align: right;\">  128.983</td><td style=\"text-align: right;\">0.000158712</td><td style=\"text-align: right;\">        16</td></tr>\n",
       "<tr><td style=\"text-align: right;\">89</td><td style=\"text-align: right;\">12.4635  </td><td style=\"text-align: right;\">0.00854158</td><td style=\"text-align: right;\">  512.416</td><td style=\"text-align: right;\">0.00012207 </td><td style=\"text-align: right;\">         4</td></tr>\n",
       "<tr><td style=\"text-align: right;\">90</td><td style=\"text-align: right;\">12.4664  </td><td style=\"text-align: right;\">0.0113916 </td><td style=\"text-align: right;\">  517.371</td><td style=\"text-align: right;\">9.15527e-05</td><td style=\"text-align: right;\">         4</td></tr>\n",
       "<tr><td style=\"text-align: right;\">91</td><td style=\"text-align: right;\">12.7771  </td><td style=\"text-align: right;\">0.0398522 </td><td style=\"text-align: right;\">  570.458</td><td style=\"text-align: right;\">0.000205598</td><td style=\"text-align: right;\">         7</td></tr>\n",
       "<tr><td style=\"text-align: right;\">92</td><td style=\"text-align: right;\">12.9956  </td><td style=\"text-align: right;\">0.0268502 </td><td style=\"text-align: right;\">  545.403</td><td style=\"text-align: right;\">0.000152588</td><td style=\"text-align: right;\">         4</td></tr>\n",
       "<tr><td style=\"text-align: right;\">93</td><td style=\"text-align: right;\">13.2218  </td><td style=\"text-align: right;\">0.00595808</td><td style=\"text-align: right;\">  372.207</td><td style=\"text-align: right;\">6.10352e-05</td><td style=\"text-align: right;\">         4</td></tr>\n",
       "<tr><td style=\"text-align: right;\">94</td><td style=\"text-align: right;\">14.5912  </td><td style=\"text-align: right;\">0.679602  </td><td style=\"text-align: right;\">  128.982</td><td style=\"text-align: right;\">0.000280935</td><td style=\"text-align: right;\">        46</td></tr>\n",
       "<tr><td style=\"text-align: right;\">95</td><td style=\"text-align: right;\">15.9363  </td><td style=\"text-align: right;\">0.084196  </td><td style=\"text-align: right;\">  128.982</td><td style=\"text-align: right;\">0.000219426</td><td style=\"text-align: right;\">        11</td></tr>\n",
       "</tbody>\n",
       "</table>"
      ],
      "text/plain": [
       "<IPython.core.display.HTML object>"
      ]
     },
     "metadata": {},
     "output_type": "display_data"
    }
   ],
   "source": [
    "ShowDF(SummaryDF)"
   ]
  },
  {
   "cell_type": "code",
   "execution_count": 11,
   "id": "16b0dd9c",
   "metadata": {
    "ExecuteTime": {
     "end_time": "2023-04-04T12:39:08.412932Z",
     "start_time": "2023-04-04T12:39:08.297998Z"
    },
    "scrolled": false
   },
   "outputs": [
    {
     "data": {
      "image/png": "[encoded data removed]",
      "text/plain": [
       "<Figure size 640x480 with 1 Axes>"
      ]
     },
     "metadata": {},
     "output_type": "display_data"
    }
   ],
   "source": [
    "plt.plot(SignalsMat[:,5],SignalsMat[:,0],'b.',label='AllData')\n",
    "plt.plot(SummaryDF['RT(min)'],SummaryDF['Mean_mz'],'ko',label='Centroids for each cluster')\n",
    "plt.legend()\n",
    "plt.show()\n",
    "#Black dots are the current value for dogecoin\n"
   ]
  },
  {
   "cell_type": "code",
   "execution_count": 12,
   "id": "56546d88",
   "metadata": {
    "ExecuteTime": {
     "end_time": "2023-04-04T12:39:16.608962Z",
     "start_time": "2023-04-04T12:39:16.445551Z"
    },
    "scrolled": false
   },
   "outputs": [
    {
     "data": {
      "image/png": "[encoded data removed]",
      "text/plain": [
       "<Figure size 640x480 with 1 Axes>"
      ]
     },
     "metadata": {},
     "output_type": "display_data"
    }
   ],
   "source": [
    "plt.plot(SignalsMat[:,5],SignalsMat[:,0],'b.',label='AllData')\n",
    "#plt.plot(Mean_RTVec,Mean_mzVec,'ko',label='Centroids for each cluster')\n",
    "plt.legend()\n",
    "plt.show()\n",
    "#Black dots are the current value for dogecoin\n"
   ]
  },
  {
   "cell_type": "code",
   "execution_count": 14,
   "id": "fb6fcfab",
   "metadata": {
    "ExecuteTime": {
     "end_time": "2023-04-04T12:39:55.889053Z",
     "start_time": "2023-04-04T12:39:55.885787Z"
    }
   },
   "outputs": [],
   "source": [
    "def VectorNorm(Vec): #Normalizing\n",
    "    minVec=min(Vec)\n",
    "    maxVec=max(Vec)\n",
    "    vectornorm=(Vec-minVec)/(maxVec-minVec)\n",
    "    return vectornorm"
   ]
  },
  {
   "cell_type": "code",
   "execution_count": 15,
   "id": "bc8273b7",
   "metadata": {
    "ExecuteTime": {
     "end_time": "2023-04-04T12:39:56.573741Z",
     "start_time": "2023-04-04T12:39:56.570162Z"
    }
   },
   "outputs": [],
   "source": [
    "def ColumnsNorm(Mat):\n",
    "    shape=np.shape(Mat)\n",
    "    FirstColumn=True\n",
    "    for c in np.arange(shape[1]):\n",
    "        vectornorm=VectorNorm(Mat[:,c])\n",
    "        if FirstColumn:\n",
    "            MatNorm=vectornorm.copy()\n",
    "            FirstColumn=False\n",
    "        else:\n",
    "            MatNorm=np.c_[MatNorm,vectornorm]\n",
    "    return MatNorm        "
   ]
  }
 ],
 "metadata": {
  "kernelspec": {
   "display_name": "Python 3 (ipykernel)",
   "language": "python",
   "name": "python3"
  },
  "language_info": {
   "codemirror_mode": {
    "name": "ipython",
    "version": 3
   },
   "file_extension": ".py",
   "mimetype": "text/x-python",
   "name": "python",
   "nbconvert_exporter": "python",
   "pygments_lexer": "ipython3",
   "version": "3.7.13"
  }
 },
 "nbformat": 4,
 "nbformat_minor": 5
}
