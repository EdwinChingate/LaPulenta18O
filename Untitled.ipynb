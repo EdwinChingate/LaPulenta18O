{
 "cells": [
  {
   "cell_type": "code",
   "execution_count": 1,
   "id": "fafbf223",
   "metadata": {
    "ExecuteTime": {
     "end_time": "2023-04-17T08:09:29.906436Z",
     "start_time": "2023-04-17T08:09:28.625776Z"
    }
   },
   "outputs": [],
   "source": [
    "import sys\n",
    "import os\n",
    "home=os.getcwd()\n",
    "sys.path.append(home+'/Functions')\n",
    "from JoinSpectra import *\n",
    "from ChargeDataSet import *\n",
    "from ShowDF import *\n",
    "import pandas as pd\n",
    "import pyopenms\n",
    "import matplotlib.pyplot as plt\n",
    "from AdjacencyMatGen  import *\n",
    "from ModulesDet import *\n",
    "from SummaryClusters import *\n",
    "#from MSPeaks"
   ]
  },
  {
   "cell_type": "code",
   "execution_count": 2,
   "id": "b3630914",
   "metadata": {
    "ExecuteTime": {
     "end_time": "2023-04-17T08:09:29.925620Z",
     "start_time": "2023-04-17T08:09:29.923525Z"
    }
   },
   "outputs": [],
   "source": [
    "DataSetName='MT_5.mzML'"
   ]
  },
  {
   "cell_type": "code",
   "execution_count": 3,
   "id": "536faac3",
   "metadata": {
    "ExecuteTime": {
     "end_time": "2023-04-17T08:09:40.753592Z",
     "start_time": "2023-04-17T08:09:30.949037Z"
    }
   },
   "outputs": [],
   "source": [
    "DataSet=ChargeDataSet(DataSetName)"
   ]
  },
  {
   "cell_type": "code",
   "execution_count": 4,
   "id": "5140d773",
   "metadata": {
    "ExecuteTime": {
     "end_time": "2023-04-17T08:11:00.151703Z",
     "start_time": "2023-04-17T08:10:59.139810Z"
    }
   },
   "outputs": [
    {
     "name": "stdout",
     "output_type": "stream",
     "text": [
      "1530\n"
     ]
    }
   ],
   "source": [
    "SignalsMat=JoinSpectra(DataSet,min_mz=280,max_mz=300,minInt=1e4,MinDif=2.002,MaxDif=2.006) #Table generating\n",
    "testLoc=np.argsort(SignalsMat[:500,0]) #Sorting out table\n",
    "print(len(SignalsMat))"
   ]
  },
  {
   "cell_type": "code",
   "execution_count": 5,
   "id": "91ec9642",
   "metadata": {
    "ExecuteTime": {
     "end_time": "2023-04-17T08:11:10.138927Z",
     "start_time": "2023-04-17T08:11:10.104075Z"
    }
   },
   "outputs": [
    {
     "data": {
      "text/html": [
       "<table>\n",
       "<thead>\n",
       "<tr><th style=\"text-align: right;\">  </th><th style=\"text-align: right;\">   mz_1</th><th style=\"text-align: right;\">   mz_2</th><th style=\"text-align: right;\">  mz_p_1</th><th style=\"text-align: right;\">  mz_p_2</th><th style=\"text-align: right;\">  Mass_Diff</th><th style=\"text-align: right;\">     Intensity_1</th><th style=\"text-align: right;\">     Intensity_2</th><th style=\"text-align: right;\">  RT(min)</th><th style=\"text-align: right;\">  ID</th></tr>\n",
       "</thead>\n",
       "<tbody>\n",
       "<tr><td style=\"text-align: right;\"> 0</td><td style=\"text-align: right;\">292.174</td><td style=\"text-align: right;\">294.179</td><td style=\"text-align: right;\">       0</td><td style=\"text-align: right;\">       1</td><td style=\"text-align: right;\">    2.00482</td><td style=\"text-align: right;\"> 11438          </td><td style=\"text-align: right;\"> 36547.4        </td><td style=\"text-align: right;\">  2.42882</td><td style=\"text-align: right;\"> 792</td></tr>\n",
       "<tr><td style=\"text-align: right;\"> 1</td><td style=\"text-align: right;\">292.175</td><td style=\"text-align: right;\">294.18 </td><td style=\"text-align: right;\">       0</td><td style=\"text-align: right;\">       1</td><td style=\"text-align: right;\">    2.00436</td><td style=\"text-align: right;\"> 16085          </td><td style=\"text-align: right;\"> 49764.7        </td><td style=\"text-align: right;\">  2.4343 </td><td style=\"text-align: right;\"> 794</td></tr>\n",
       "<tr><td style=\"text-align: right;\"> 2</td><td style=\"text-align: right;\">292.175</td><td style=\"text-align: right;\">294.18 </td><td style=\"text-align: right;\">       0</td><td style=\"text-align: right;\">       1</td><td style=\"text-align: right;\">    2.00476</td><td style=\"text-align: right;\"> 16697.5        </td><td style=\"text-align: right;\"> 52640.8        </td><td style=\"text-align: right;\">  2.43978</td><td style=\"text-align: right;\"> 796</td></tr>\n",
       "<tr><td style=\"text-align: right;\"> 3</td><td style=\"text-align: right;\">292.175</td><td style=\"text-align: right;\">294.179</td><td style=\"text-align: right;\">       0</td><td style=\"text-align: right;\">       1</td><td style=\"text-align: right;\">    2.00412</td><td style=\"text-align: right;\"> 14514.1        </td><td style=\"text-align: right;\"> 47913.3        </td><td style=\"text-align: right;\">  2.44527</td><td style=\"text-align: right;\"> 798</td></tr>\n",
       "<tr><td style=\"text-align: right;\"> 4</td><td style=\"text-align: right;\">292.174</td><td style=\"text-align: right;\">294.179</td><td style=\"text-align: right;\">       0</td><td style=\"text-align: right;\">       1</td><td style=\"text-align: right;\">    2.00491</td><td style=\"text-align: right;\"> 12772.6        </td><td style=\"text-align: right;\"> 39599.2        </td><td style=\"text-align: right;\">  2.45073</td><td style=\"text-align: right;\"> 800</td></tr>\n",
       "<tr><td style=\"text-align: right;\"> 5</td><td style=\"text-align: right;\">292.172</td><td style=\"text-align: right;\">294.178</td><td style=\"text-align: right;\">       0</td><td style=\"text-align: right;\">       1</td><td style=\"text-align: right;\">    2.00568</td><td style=\"text-align: right;\"> 10523.8        </td><td style=\"text-align: right;\"> 29468.6        </td><td style=\"text-align: right;\">  2.45623</td><td style=\"text-align: right;\"> 802</td></tr>\n",
       "<tr><td style=\"text-align: right;\"> 6</td><td style=\"text-align: right;\">282.17 </td><td style=\"text-align: right;\">284.174</td><td style=\"text-align: right;\">       0</td><td style=\"text-align: right;\">       2</td><td style=\"text-align: right;\">    2.00452</td><td style=\"text-align: right;\"> 59380          </td><td style=\"text-align: right;\"> 83037.2        </td><td style=\"text-align: right;\">  3.07468</td><td style=\"text-align: right;\">1009</td></tr>\n",
       "<tr><td style=\"text-align: right;\"> 7</td><td style=\"text-align: right;\">282.17 </td><td style=\"text-align: right;\">284.174</td><td style=\"text-align: right;\">       0</td><td style=\"text-align: right;\">       2</td><td style=\"text-align: right;\">    2.00409</td><td style=\"text-align: right;\">238025          </td><td style=\"text-align: right;\">341946          </td><td style=\"text-align: right;\">  3.08015</td><td style=\"text-align: right;\">1011</td></tr>\n",
       "<tr><td style=\"text-align: right;\"> 8</td><td style=\"text-align: right;\">282.17 </td><td style=\"text-align: right;\">284.175</td><td style=\"text-align: right;\">       0</td><td style=\"text-align: right;\">       2</td><td style=\"text-align: right;\">    2.00439</td><td style=\"text-align: right;\">604830          </td><td style=\"text-align: right;\">886733          </td><td style=\"text-align: right;\">  3.08563</td><td style=\"text-align: right;\">1013</td></tr>\n",
       "<tr><td style=\"text-align: right;\"> 9</td><td style=\"text-align: right;\">283.173</td><td style=\"text-align: right;\">285.178</td><td style=\"text-align: right;\">       1</td><td style=\"text-align: right;\">       4</td><td style=\"text-align: right;\">    2.00427</td><td style=\"text-align: right;\">117225          </td><td style=\"text-align: right;\">151936          </td><td style=\"text-align: right;\">  3.08563</td><td style=\"text-align: right;\">1013</td></tr>\n",
       "<tr><td style=\"text-align: right;\">10</td><td style=\"text-align: right;\">282.17 </td><td style=\"text-align: right;\">284.175</td><td style=\"text-align: right;\">       0</td><td style=\"text-align: right;\">       3</td><td style=\"text-align: right;\">    2.00439</td><td style=\"text-align: right;\">     1.15434e+06</td><td style=\"text-align: right;\">     1.66050e+06</td><td style=\"text-align: right;\">  3.0911 </td><td style=\"text-align: right;\">1015</td></tr>\n",
       "<tr><td style=\"text-align: right;\">11</td><td style=\"text-align: right;\">282.337</td><td style=\"text-align: right;\">284.341</td><td style=\"text-align: right;\">       1</td><td style=\"text-align: right;\">       4</td><td style=\"text-align: right;\">    2.00336</td><td style=\"text-align: right;\"> 16442.8        </td><td style=\"text-align: right;\"> 56052.9        </td><td style=\"text-align: right;\">  3.0911 </td><td style=\"text-align: right;\">1015</td></tr>\n",
       "<tr><td style=\"text-align: right;\">12</td><td style=\"text-align: right;\">283.174</td><td style=\"text-align: right;\">285.178</td><td style=\"text-align: right;\">       2</td><td style=\"text-align: right;\">       7</td><td style=\"text-align: right;\">    2.00421</td><td style=\"text-align: right;\">212401          </td><td style=\"text-align: right;\">277448          </td><td style=\"text-align: right;\">  3.0911 </td><td style=\"text-align: right;\">1015</td></tr>\n",
       "<tr><td style=\"text-align: right;\">13</td><td style=\"text-align: right;\">282.17 </td><td style=\"text-align: right;\">284.175</td><td style=\"text-align: right;\">       0</td><td style=\"text-align: right;\">       5</td><td style=\"text-align: right;\">    2.00452</td><td style=\"text-align: right;\">     1.61912e+06</td><td style=\"text-align: right;\">     2.2561e+06 </td><td style=\"text-align: right;\">  3.0966 </td><td style=\"text-align: right;\">1017</td></tr>\n",
       "<tr><td style=\"text-align: right;\">14</td><td style=\"text-align: right;\">282.337</td><td style=\"text-align: right;\">284.341</td><td style=\"text-align: right;\">       1</td><td style=\"text-align: right;\">       6</td><td style=\"text-align: right;\">    2.00348</td><td style=\"text-align: right;\"> 40513.2        </td><td style=\"text-align: right;\"> 81897.4        </td><td style=\"text-align: right;\">  3.0966 </td><td style=\"text-align: right;\">1017</td></tr>\n",
       "<tr><td style=\"text-align: right;\">15</td><td style=\"text-align: right;\">282.436</td><td style=\"text-align: right;\">284.441</td><td style=\"text-align: right;\">       2</td><td style=\"text-align: right;\">       8</td><td style=\"text-align: right;\">    2.005  </td><td style=\"text-align: right;\"> 18842.2        </td><td style=\"text-align: right;\"> 51207.4        </td><td style=\"text-align: right;\">  3.0966 </td><td style=\"text-align: right;\">1017</td></tr>\n",
       "<tr><td style=\"text-align: right;\">16</td><td style=\"text-align: right;\">283.174</td><td style=\"text-align: right;\">285.178</td><td style=\"text-align: right;\">       4</td><td style=\"text-align: right;\">      11</td><td style=\"text-align: right;\">    2.00439</td><td style=\"text-align: right;\">285830          </td><td style=\"text-align: right;\">370134          </td><td style=\"text-align: right;\">  3.0966 </td><td style=\"text-align: right;\">1017</td></tr>\n",
       "<tr><td style=\"text-align: right;\">17</td><td style=\"text-align: right;\">282.17 </td><td style=\"text-align: right;\">284.175</td><td style=\"text-align: right;\">       0</td><td style=\"text-align: right;\">       5</td><td style=\"text-align: right;\">    2.00458</td><td style=\"text-align: right;\">     1.85755e+06</td><td style=\"text-align: right;\">     2.53028e+06</td><td style=\"text-align: right;\">  3.10208</td><td style=\"text-align: right;\">1019</td></tr>\n",
       "<tr><td style=\"text-align: right;\">18</td><td style=\"text-align: right;\">282.337</td><td style=\"text-align: right;\">284.341</td><td style=\"text-align: right;\">       1</td><td style=\"text-align: right;\">       6</td><td style=\"text-align: right;\">    2.00357</td><td style=\"text-align: right;\"> 52234.1        </td><td style=\"text-align: right;\"> 93726.7        </td><td style=\"text-align: right;\">  3.10208</td><td style=\"text-align: right;\">1019</td></tr>\n",
       "<tr><td style=\"text-align: right;\">19</td><td style=\"text-align: right;\">282.436</td><td style=\"text-align: right;\">284.441</td><td style=\"text-align: right;\">       2</td><td style=\"text-align: right;\">       8</td><td style=\"text-align: right;\">    2.00479</td><td style=\"text-align: right;\"> 27081.8        </td><td style=\"text-align: right;\"> 59882.5        </td><td style=\"text-align: right;\">  3.10208</td><td style=\"text-align: right;\">1019</td></tr>\n",
       "</tbody>\n",
       "</table>"
      ],
      "text/plain": [
       "<IPython.core.display.HTML object>"
      ]
     },
     "metadata": {},
     "output_type": "display_data"
    }
   ],
   "source": [
    "ShowDF(pd.DataFrame(SignalsMat[:20,:],columns=['mz_1','mz_2','mz_p_1','mz_p_2','Mass_Diff','Intensity_1','Intensity_2','RT(min)','ID']))"
   ]
  },
  {
   "cell_type": "code",
   "execution_count": 6,
   "id": "1b5bb93b",
   "metadata": {
    "ExecuteTime": {
     "end_time": "2023-04-17T08:11:24.965938Z",
     "start_time": "2023-04-17T08:11:24.907969Z"
    }
   },
   "outputs": [],
   "source": [
    "AdjacencyMatrix=AdjacencyMatGen(SignalsMat,MinNumberCandidatesClustering=5,max_mz_Tol=1e-4) #Adjacency Mat(rix) Gen(eration)"
   ]
  },
  {
   "cell_type": "code",
   "execution_count": 7,
   "id": "e66b2465",
   "metadata": {
    "ExecuteTime": {
     "end_time": "2023-04-11T12:12:21.881972Z",
     "start_time": "2023-04-11T12:12:21.833380Z"
    }
   },
   "outputs": [
    {
     "data": {
      "text/html": [
       "<table>\n",
       "<thead>\n",
       "<tr><th style=\"text-align: right;\">  </th><th style=\"text-align: right;\">  0</th><th style=\"text-align: right;\">  1</th><th style=\"text-align: right;\">  2</th><th style=\"text-align: right;\">  3</th><th style=\"text-align: right;\">  4</th><th style=\"text-align: right;\">  5</th><th style=\"text-align: right;\">  6</th><th style=\"text-align: right;\">  7</th><th style=\"text-align: right;\">  8</th><th style=\"text-align: right;\">  9</th><th style=\"text-align: right;\">  10</th><th style=\"text-align: right;\">  11</th><th style=\"text-align: right;\">  12</th><th style=\"text-align: right;\">  13</th><th style=\"text-align: right;\">  14</th><th style=\"text-align: right;\">  15</th><th style=\"text-align: right;\">  16</th><th style=\"text-align: right;\">  17</th><th style=\"text-align: right;\">  18</th><th style=\"text-align: right;\">  19</th></tr>\n",
       "</thead>\n",
       "<tbody>\n",
       "<tr><td style=\"text-align: right;\"> 0</td><td style=\"text-align: right;\">  1</td><td style=\"text-align: right;\">  1</td><td style=\"text-align: right;\">  0</td><td style=\"text-align: right;\">  0</td><td style=\"text-align: right;\">  0</td><td style=\"text-align: right;\">  0</td><td style=\"text-align: right;\">  0</td><td style=\"text-align: right;\">  0</td><td style=\"text-align: right;\">  0</td><td style=\"text-align: right;\">  0</td><td style=\"text-align: right;\">   0</td><td style=\"text-align: right;\">   1</td><td style=\"text-align: right;\">   0</td><td style=\"text-align: right;\">   0</td><td style=\"text-align: right;\">   0</td><td style=\"text-align: right;\">   0</td><td style=\"text-align: right;\">   0</td><td style=\"text-align: right;\">   0</td><td style=\"text-align: right;\">   0</td><td style=\"text-align: right;\">   0</td></tr>\n",
       "<tr><td style=\"text-align: right;\"> 1</td><td style=\"text-align: right;\">  1</td><td style=\"text-align: right;\">  1</td><td style=\"text-align: right;\">  0</td><td style=\"text-align: right;\">  1</td><td style=\"text-align: right;\">  0</td><td style=\"text-align: right;\">  0</td><td style=\"text-align: right;\">  0</td><td style=\"text-align: right;\">  0</td><td style=\"text-align: right;\">  0</td><td style=\"text-align: right;\">  0</td><td style=\"text-align: right;\">   0</td><td style=\"text-align: right;\">   1</td><td style=\"text-align: right;\">   0</td><td style=\"text-align: right;\">   0</td><td style=\"text-align: right;\">   0</td><td style=\"text-align: right;\">   0</td><td style=\"text-align: right;\">   0</td><td style=\"text-align: right;\">   0</td><td style=\"text-align: right;\">   0</td><td style=\"text-align: right;\">   0</td></tr>\n",
       "<tr><td style=\"text-align: right;\"> 2</td><td style=\"text-align: right;\">  0</td><td style=\"text-align: right;\">  0</td><td style=\"text-align: right;\">  1</td><td style=\"text-align: right;\">  0</td><td style=\"text-align: right;\">  0</td><td style=\"text-align: right;\">  0</td><td style=\"text-align: right;\">  0</td><td style=\"text-align: right;\">  0</td><td style=\"text-align: right;\">  0</td><td style=\"text-align: right;\">  0</td><td style=\"text-align: right;\">   0</td><td style=\"text-align: right;\">   0</td><td style=\"text-align: right;\">   0</td><td style=\"text-align: right;\">   0</td><td style=\"text-align: right;\">   0</td><td style=\"text-align: right;\">   0</td><td style=\"text-align: right;\">   0</td><td style=\"text-align: right;\">   0</td><td style=\"text-align: right;\">   0</td><td style=\"text-align: right;\">   0</td></tr>\n",
       "<tr><td style=\"text-align: right;\"> 3</td><td style=\"text-align: right;\">  0</td><td style=\"text-align: right;\">  1</td><td style=\"text-align: right;\">  0</td><td style=\"text-align: right;\">  1</td><td style=\"text-align: right;\">  0</td><td style=\"text-align: right;\">  1</td><td style=\"text-align: right;\">  0</td><td style=\"text-align: right;\">  0</td><td style=\"text-align: right;\">  0</td><td style=\"text-align: right;\">  0</td><td style=\"text-align: right;\">   0</td><td style=\"text-align: right;\">   1</td><td style=\"text-align: right;\">   0</td><td style=\"text-align: right;\">   0</td><td style=\"text-align: right;\">   0</td><td style=\"text-align: right;\">   0</td><td style=\"text-align: right;\">   0</td><td style=\"text-align: right;\">   0</td><td style=\"text-align: right;\">   0</td><td style=\"text-align: right;\">   0</td></tr>\n",
       "<tr><td style=\"text-align: right;\"> 4</td><td style=\"text-align: right;\">  0</td><td style=\"text-align: right;\">  0</td><td style=\"text-align: right;\">  0</td><td style=\"text-align: right;\">  0</td><td style=\"text-align: right;\">  1</td><td style=\"text-align: right;\">  0</td><td style=\"text-align: right;\">  0</td><td style=\"text-align: right;\">  0</td><td style=\"text-align: right;\">  0</td><td style=\"text-align: right;\">  0</td><td style=\"text-align: right;\">   0</td><td style=\"text-align: right;\">   0</td><td style=\"text-align: right;\">   0</td><td style=\"text-align: right;\">   0</td><td style=\"text-align: right;\">   0</td><td style=\"text-align: right;\">   0</td><td style=\"text-align: right;\">   0</td><td style=\"text-align: right;\">   0</td><td style=\"text-align: right;\">   0</td><td style=\"text-align: right;\">   0</td></tr>\n",
       "<tr><td style=\"text-align: right;\"> 5</td><td style=\"text-align: right;\">  0</td><td style=\"text-align: right;\">  0</td><td style=\"text-align: right;\">  0</td><td style=\"text-align: right;\">  1</td><td style=\"text-align: right;\">  0</td><td style=\"text-align: right;\">  1</td><td style=\"text-align: right;\">  0</td><td style=\"text-align: right;\">  0</td><td style=\"text-align: right;\">  0</td><td style=\"text-align: right;\">  0</td><td style=\"text-align: right;\">   0</td><td style=\"text-align: right;\">   1</td><td style=\"text-align: right;\">   0</td><td style=\"text-align: right;\">   0</td><td style=\"text-align: right;\">   0</td><td style=\"text-align: right;\">   0</td><td style=\"text-align: right;\">   0</td><td style=\"text-align: right;\">   0</td><td style=\"text-align: right;\">   0</td><td style=\"text-align: right;\">   0</td></tr>\n",
       "<tr><td style=\"text-align: right;\"> 6</td><td style=\"text-align: right;\">  0</td><td style=\"text-align: right;\">  0</td><td style=\"text-align: right;\">  0</td><td style=\"text-align: right;\">  0</td><td style=\"text-align: right;\">  0</td><td style=\"text-align: right;\">  0</td><td style=\"text-align: right;\">  1</td><td style=\"text-align: right;\">  0</td><td style=\"text-align: right;\">  0</td><td style=\"text-align: right;\">  0</td><td style=\"text-align: right;\">   0</td><td style=\"text-align: right;\">   0</td><td style=\"text-align: right;\">   0</td><td style=\"text-align: right;\">   0</td><td style=\"text-align: right;\">   0</td><td style=\"text-align: right;\">   0</td><td style=\"text-align: right;\">   0</td><td style=\"text-align: right;\">   0</td><td style=\"text-align: right;\">   0</td><td style=\"text-align: right;\">   0</td></tr>\n",
       "<tr><td style=\"text-align: right;\"> 7</td><td style=\"text-align: right;\">  0</td><td style=\"text-align: right;\">  0</td><td style=\"text-align: right;\">  0</td><td style=\"text-align: right;\">  0</td><td style=\"text-align: right;\">  0</td><td style=\"text-align: right;\">  0</td><td style=\"text-align: right;\">  0</td><td style=\"text-align: right;\">  1</td><td style=\"text-align: right;\">  1</td><td style=\"text-align: right;\">  1</td><td style=\"text-align: right;\">   0</td><td style=\"text-align: right;\">   0</td><td style=\"text-align: right;\">   0</td><td style=\"text-align: right;\">   0</td><td style=\"text-align: right;\">   0</td><td style=\"text-align: right;\">   0</td><td style=\"text-align: right;\">   0</td><td style=\"text-align: right;\">   0</td><td style=\"text-align: right;\">   0</td><td style=\"text-align: right;\">   0</td></tr>\n",
       "<tr><td style=\"text-align: right;\"> 8</td><td style=\"text-align: right;\">  0</td><td style=\"text-align: right;\">  0</td><td style=\"text-align: right;\">  0</td><td style=\"text-align: right;\">  0</td><td style=\"text-align: right;\">  0</td><td style=\"text-align: right;\">  0</td><td style=\"text-align: right;\">  0</td><td style=\"text-align: right;\">  1</td><td style=\"text-align: right;\">  1</td><td style=\"text-align: right;\">  1</td><td style=\"text-align: right;\">   0</td><td style=\"text-align: right;\">   0</td><td style=\"text-align: right;\">   0</td><td style=\"text-align: right;\">   0</td><td style=\"text-align: right;\">   0</td><td style=\"text-align: right;\">   0</td><td style=\"text-align: right;\">   0</td><td style=\"text-align: right;\">   0</td><td style=\"text-align: right;\">   0</td><td style=\"text-align: right;\">   0</td></tr>\n",
       "<tr><td style=\"text-align: right;\"> 9</td><td style=\"text-align: right;\">  0</td><td style=\"text-align: right;\">  0</td><td style=\"text-align: right;\">  0</td><td style=\"text-align: right;\">  0</td><td style=\"text-align: right;\">  0</td><td style=\"text-align: right;\">  0</td><td style=\"text-align: right;\">  0</td><td style=\"text-align: right;\">  1</td><td style=\"text-align: right;\">  1</td><td style=\"text-align: right;\">  1</td><td style=\"text-align: right;\">   0</td><td style=\"text-align: right;\">   0</td><td style=\"text-align: right;\">   0</td><td style=\"text-align: right;\">   0</td><td style=\"text-align: right;\">   0</td><td style=\"text-align: right;\">   0</td><td style=\"text-align: right;\">   0</td><td style=\"text-align: right;\">   0</td><td style=\"text-align: right;\">   0</td><td style=\"text-align: right;\">   0</td></tr>\n",
       "<tr><td style=\"text-align: right;\">10</td><td style=\"text-align: right;\">  0</td><td style=\"text-align: right;\">  0</td><td style=\"text-align: right;\">  0</td><td style=\"text-align: right;\">  0</td><td style=\"text-align: right;\">  0</td><td style=\"text-align: right;\">  0</td><td style=\"text-align: right;\">  0</td><td style=\"text-align: right;\">  0</td><td style=\"text-align: right;\">  0</td><td style=\"text-align: right;\">  0</td><td style=\"text-align: right;\">   1</td><td style=\"text-align: right;\">   0</td><td style=\"text-align: right;\">   0</td><td style=\"text-align: right;\">   0</td><td style=\"text-align: right;\">   0</td><td style=\"text-align: right;\">   0</td><td style=\"text-align: right;\">   0</td><td style=\"text-align: right;\">   0</td><td style=\"text-align: right;\">   0</td><td style=\"text-align: right;\">   0</td></tr>\n",
       "<tr><td style=\"text-align: right;\">11</td><td style=\"text-align: right;\">  1</td><td style=\"text-align: right;\">  1</td><td style=\"text-align: right;\">  0</td><td style=\"text-align: right;\">  1</td><td style=\"text-align: right;\">  0</td><td style=\"text-align: right;\">  1</td><td style=\"text-align: right;\">  0</td><td style=\"text-align: right;\">  0</td><td style=\"text-align: right;\">  0</td><td style=\"text-align: right;\">  0</td><td style=\"text-align: right;\">   0</td><td style=\"text-align: right;\">   1</td><td style=\"text-align: right;\">   0</td><td style=\"text-align: right;\">   0</td><td style=\"text-align: right;\">   0</td><td style=\"text-align: right;\">   0</td><td style=\"text-align: right;\">   0</td><td style=\"text-align: right;\">   0</td><td style=\"text-align: right;\">   0</td><td style=\"text-align: right;\">   0</td></tr>\n",
       "<tr><td style=\"text-align: right;\">12</td><td style=\"text-align: right;\">  0</td><td style=\"text-align: right;\">  0</td><td style=\"text-align: right;\">  0</td><td style=\"text-align: right;\">  0</td><td style=\"text-align: right;\">  0</td><td style=\"text-align: right;\">  0</td><td style=\"text-align: right;\">  0</td><td style=\"text-align: right;\">  0</td><td style=\"text-align: right;\">  0</td><td style=\"text-align: right;\">  0</td><td style=\"text-align: right;\">   0</td><td style=\"text-align: right;\">   0</td><td style=\"text-align: right;\">   1</td><td style=\"text-align: right;\">   0</td><td style=\"text-align: right;\">   0</td><td style=\"text-align: right;\">   0</td><td style=\"text-align: right;\">   0</td><td style=\"text-align: right;\">   0</td><td style=\"text-align: right;\">   0</td><td style=\"text-align: right;\">   0</td></tr>\n",
       "<tr><td style=\"text-align: right;\">13</td><td style=\"text-align: right;\">  0</td><td style=\"text-align: right;\">  0</td><td style=\"text-align: right;\">  0</td><td style=\"text-align: right;\">  0</td><td style=\"text-align: right;\">  0</td><td style=\"text-align: right;\">  0</td><td style=\"text-align: right;\">  0</td><td style=\"text-align: right;\">  0</td><td style=\"text-align: right;\">  0</td><td style=\"text-align: right;\">  0</td><td style=\"text-align: right;\">   0</td><td style=\"text-align: right;\">   0</td><td style=\"text-align: right;\">   0</td><td style=\"text-align: right;\">   1</td><td style=\"text-align: right;\">   1</td><td style=\"text-align: right;\">   0</td><td style=\"text-align: right;\">   0</td><td style=\"text-align: right;\">   0</td><td style=\"text-align: right;\">   0</td><td style=\"text-align: right;\">   0</td></tr>\n",
       "<tr><td style=\"text-align: right;\">14</td><td style=\"text-align: right;\">  0</td><td style=\"text-align: right;\">  0</td><td style=\"text-align: right;\">  0</td><td style=\"text-align: right;\">  0</td><td style=\"text-align: right;\">  0</td><td style=\"text-align: right;\">  0</td><td style=\"text-align: right;\">  0</td><td style=\"text-align: right;\">  0</td><td style=\"text-align: right;\">  0</td><td style=\"text-align: right;\">  0</td><td style=\"text-align: right;\">   0</td><td style=\"text-align: right;\">   0</td><td style=\"text-align: right;\">   0</td><td style=\"text-align: right;\">   1</td><td style=\"text-align: right;\">   1</td><td style=\"text-align: right;\">   0</td><td style=\"text-align: right;\">   0</td><td style=\"text-align: right;\">   0</td><td style=\"text-align: right;\">   0</td><td style=\"text-align: right;\">   0</td></tr>\n",
       "<tr><td style=\"text-align: right;\">15</td><td style=\"text-align: right;\">  0</td><td style=\"text-align: right;\">  0</td><td style=\"text-align: right;\">  0</td><td style=\"text-align: right;\">  0</td><td style=\"text-align: right;\">  0</td><td style=\"text-align: right;\">  0</td><td style=\"text-align: right;\">  0</td><td style=\"text-align: right;\">  0</td><td style=\"text-align: right;\">  0</td><td style=\"text-align: right;\">  0</td><td style=\"text-align: right;\">   0</td><td style=\"text-align: right;\">   0</td><td style=\"text-align: right;\">   0</td><td style=\"text-align: right;\">   0</td><td style=\"text-align: right;\">   0</td><td style=\"text-align: right;\">   1</td><td style=\"text-align: right;\">   0</td><td style=\"text-align: right;\">   0</td><td style=\"text-align: right;\">   0</td><td style=\"text-align: right;\">   0</td></tr>\n",
       "<tr><td style=\"text-align: right;\">16</td><td style=\"text-align: right;\">  0</td><td style=\"text-align: right;\">  0</td><td style=\"text-align: right;\">  0</td><td style=\"text-align: right;\">  0</td><td style=\"text-align: right;\">  0</td><td style=\"text-align: right;\">  0</td><td style=\"text-align: right;\">  0</td><td style=\"text-align: right;\">  0</td><td style=\"text-align: right;\">  0</td><td style=\"text-align: right;\">  0</td><td style=\"text-align: right;\">   0</td><td style=\"text-align: right;\">   0</td><td style=\"text-align: right;\">   0</td><td style=\"text-align: right;\">   0</td><td style=\"text-align: right;\">   0</td><td style=\"text-align: right;\">   0</td><td style=\"text-align: right;\">   1</td><td style=\"text-align: right;\">   0</td><td style=\"text-align: right;\">   0</td><td style=\"text-align: right;\">   1</td></tr>\n",
       "<tr><td style=\"text-align: right;\">17</td><td style=\"text-align: right;\">  0</td><td style=\"text-align: right;\">  0</td><td style=\"text-align: right;\">  0</td><td style=\"text-align: right;\">  0</td><td style=\"text-align: right;\">  0</td><td style=\"text-align: right;\">  0</td><td style=\"text-align: right;\">  0</td><td style=\"text-align: right;\">  0</td><td style=\"text-align: right;\">  0</td><td style=\"text-align: right;\">  0</td><td style=\"text-align: right;\">   0</td><td style=\"text-align: right;\">   0</td><td style=\"text-align: right;\">   0</td><td style=\"text-align: right;\">   0</td><td style=\"text-align: right;\">   0</td><td style=\"text-align: right;\">   0</td><td style=\"text-align: right;\">   0</td><td style=\"text-align: right;\">   1</td><td style=\"text-align: right;\">   0</td><td style=\"text-align: right;\">   0</td></tr>\n",
       "<tr><td style=\"text-align: right;\">18</td><td style=\"text-align: right;\">  0</td><td style=\"text-align: right;\">  0</td><td style=\"text-align: right;\">  0</td><td style=\"text-align: right;\">  0</td><td style=\"text-align: right;\">  0</td><td style=\"text-align: right;\">  0</td><td style=\"text-align: right;\">  0</td><td style=\"text-align: right;\">  0</td><td style=\"text-align: right;\">  0</td><td style=\"text-align: right;\">  0</td><td style=\"text-align: right;\">   0</td><td style=\"text-align: right;\">   0</td><td style=\"text-align: right;\">   0</td><td style=\"text-align: right;\">   0</td><td style=\"text-align: right;\">   0</td><td style=\"text-align: right;\">   0</td><td style=\"text-align: right;\">   0</td><td style=\"text-align: right;\">   0</td><td style=\"text-align: right;\">   1</td><td style=\"text-align: right;\">   0</td></tr>\n",
       "<tr><td style=\"text-align: right;\">19</td><td style=\"text-align: right;\">  0</td><td style=\"text-align: right;\">  0</td><td style=\"text-align: right;\">  0</td><td style=\"text-align: right;\">  0</td><td style=\"text-align: right;\">  0</td><td style=\"text-align: right;\">  0</td><td style=\"text-align: right;\">  0</td><td style=\"text-align: right;\">  0</td><td style=\"text-align: right;\">  0</td><td style=\"text-align: right;\">  0</td><td style=\"text-align: right;\">   0</td><td style=\"text-align: right;\">   0</td><td style=\"text-align: right;\">   0</td><td style=\"text-align: right;\">   0</td><td style=\"text-align: right;\">   0</td><td style=\"text-align: right;\">   0</td><td style=\"text-align: right;\">   1</td><td style=\"text-align: right;\">   0</td><td style=\"text-align: right;\">   0</td><td style=\"text-align: right;\">   1</td></tr>\n",
       "</tbody>\n",
       "</table>"
      ],
      "text/plain": [
       "<IPython.core.display.HTML object>"
      ]
     },
     "metadata": {},
     "output_type": "display_data"
    }
   ],
   "source": [
    "ShowDF(pd.DataFrame(AdjacencyMatrix[:20,:20])) #Check the size of your matrix"
   ]
  },
  {
   "cell_type": "code",
   "execution_count": 7,
   "id": "9beddc2b",
   "metadata": {
    "ExecuteTime": {
     "end_time": "2023-04-17T08:12:02.309199Z",
     "start_time": "2023-04-17T08:12:02.211086Z"
    },
    "scrolled": true
   },
   "outputs": [],
   "source": [
    "ModList=ModulesDet(AdjacencyMatrix,Mod=0,p=0,ModList=[]) #Some recursion problems #We are getting more data"
   ]
  },
  {
   "cell_type": "code",
   "execution_count": 30,
   "id": "1979df7d",
   "metadata": {
    "ExecuteTime": {
     "end_time": "2023-04-17T09:13:18.887002Z",
     "start_time": "2023-04-17T09:13:18.882680Z"
    }
   },
   "outputs": [
    {
     "data": {
      "text/plain": [
       "3"
      ]
     },
     "execution_count": 30,
     "metadata": {},
     "output_type": "execute_result"
    }
   ],
   "source": [
    "l=[0,1,2,3]\n",
    "l[-1]"
   ]
  },
  {
   "cell_type": "code",
   "execution_count": 23,
   "id": "de8dd106",
   "metadata": {
    "ExecuteTime": {
     "end_time": "2023-04-17T08:42:16.849374Z",
     "start_time": "2023-04-17T08:42:16.843102Z"
    }
   },
   "outputs": [],
   "source": [
    "from scipy.stats import t\n",
    "import numpy as np\n",
    "def SignalsStats(SignalsMat,Isotopomer=0,alpha=0.01): #Isotopomer refers to either the most abundant isotopomer, or the one with 18O\n",
    "    IntensityCol=5+Isotopomer\n",
    "    SumIntens=sum(SignalsMat[:,IntensityCol])\n",
    "    RelativeInt=SignalsMat[:,IntensityCol]/SumIntens\n",
    "    AverageMZ=sum(SignalsMat[:,Isotopomer]*RelativeInt)\n",
    "    AverageRT=sum(SignalsMat[:,7]*RelativeInt)\n",
    "    l=len(SignalsMat[:,1])    \n",
    "    if l<3:\n",
    "        return [0]*8 #Check\n",
    "    \n",
    "    VarianMZ=sum(RelativeInt*(SignalsMat[:,Isotopomer]-AverageMZ)**2)*l/(l-1)  \n",
    "    StdMZ=np.sqrt(VarianMZ)\n",
    "    VarianRT=sum(RelativeInt*(SignalsMat[:,7]-AverageRT)**2)*l/(l-1)    \n",
    "    StdRT=np.sqrt(VarianRT)    \n",
    "    tref=t.interval(1-alpha, l-1)[1]\n",
    "    ConfidenceIntervalDa=tref*StdMZ/np.sqrt(l)\n",
    "    ConfidenceInterval=ConfidenceIntervalDa/AverageMZ*1e6\n",
    "    SignalsStats=[AverageRT,StdRT,AverageMZ,StdMZ,l,ConfidenceIntervalDa,ConfidenceInterval,SumIntens]\n",
    "    return SignalsStats"
   ]
  },
  {
   "cell_type": "code",
   "execution_count": 40,
   "id": "97892801",
   "metadata": {
    "ExecuteTime": {
     "end_time": "2023-04-17T09:18:37.612076Z",
     "start_time": "2023-04-17T09:18:37.607833Z"
    }
   },
   "outputs": [],
   "source": [
    "#from SignalsStats import *\n",
    "from WelchTest import *\n",
    "import numpy as np\n",
    "def ClusterStats(SignalsMat,alpha=0.05):               \n",
    "    #Difference=AverageMZ2-AverageMZ\n",
    "    #Light isotopomer mz1\n",
    "    LightSignalsSum=SignalsStats(SignalsMat,Isotopomer=0,alpha=alpha)\n",
    "    HeavySignalsSum=SignalsStats(SignalsMat,Isotopomer=1,alpha=alpha) \n",
    "    WelchVec=WelchTest(SignalsStats1=LightSignalsSum,SignalsStats2=HeavySignalsSum,alpha=alpha)\n",
    "    ClusterStats=LightSignalsSum\n",
    "    ClusterStats.extend(HeavySignalsSum)\n",
    "    ClusterStats.extend(WelchVec)    \n",
    "  #  print(HeavySignalsSum[-1],LightSignalsSum[-1])\n",
    "    if LightSignalsSum[-1]>0:\n",
    "        ClusterStats.append(HeavySignalsSum[-1]/LightSignalsSum[-1])\n",
    "    else:\n",
    "        ClusterStats.append(0)\n",
    "    #Ratio\n",
    "    \n",
    "    #print(PeakStats)\n",
    "    return ClusterStats"
   ]
  },
  {
   "cell_type": "code",
   "execution_count": 41,
   "id": "6425b8f2",
   "metadata": {
    "ExecuteTime": {
     "end_time": "2023-04-17T09:18:40.242711Z",
     "start_time": "2023-04-17T09:18:40.237962Z"
    }
   },
   "outputs": [],
   "source": [
    "#Summarizing the clusters. We need additional grouping in between the clusters \n",
    "#This will become another function\n",
    "#Always using mz1 as reference\n",
    "#from ClusterStats import *\n",
    "import pandas as pd\n",
    "def SummaryClusters(SignalsMat,ModList,MinNumberCandidatesClustering=3,ReturnDF=True,columns=[\"AverageRT_1\",\"StdRT_1\",\"AverageMZ_1\",\"StdMZ_1\",\"l_1\",\"ConfidenceIntervalDa_1\",\"ConfidenceInterval_1\",\"SumIntensity_1\",\"AverageRT_2\",\"StdRT_2\",\"AverageMZ_2\",\"StdMZ_2\",\"l_2\",\"ConfidenceIntervalDa_2\",\"ConfidenceInterval_2\",\"SumIntensity_2\",'Difference','ConfidenceInterval','ConfidenceInterval(ppm)_dif','ConfidenceInterval(ppm)_mz1','ConfidenceInterval(ppm)_mz2', \"tref\",\"stMix\",'Ratio(H/L)']):    \n",
    "    Summary=[]\n",
    "    for x in ModList:\n",
    "        modNet=list(set(x))\n",
    "        Summary.append(ClusterStats(SignalsMat[modNet,:]))\n",
    "    SummaryArray=np.array(Summary)\n",
    "    #ShowDF(pd.DataFrame(SummaryArray))\n",
    "    SummaryFilter_Loc=np.where(SummaryArray[:,4]>MinNumberCandidatesClustering)[0]\n",
    "    SummaryArr=SummaryArray[SummaryFilter_Loc,:].copy()\n",
    "    SummaryArrSort=np.argsort(SummaryArr[:,0])\n",
    "    if ReturnDF:\n",
    "        SummaryDF=pd.DataFrame(SummaryArr[SummaryArrSort,:],columns=columns)    \n",
    "      #  ShowDF(SummaryDF)\n",
    "        return SummaryDF\n",
    "    else:\n",
    "        return SummaryArr[SummaryArrSort,:]"
   ]
  },
  {
   "cell_type": "code",
   "execution_count": 42,
   "id": "bbd466c9",
   "metadata": {
    "ExecuteTime": {
     "end_time": "2023-04-17T09:18:41.042218Z",
     "start_time": "2023-04-17T09:18:40.940992Z"
    },
    "scrolled": true
   },
   "outputs": [
    {
     "data": {
      "text/html": [
       "<table>\n",
       "<thead>\n",
       "<tr><th style=\"text-align: right;\">  </th><th style=\"text-align: right;\">  AverageRT_1</th><th style=\"text-align: right;\">   StdRT_1</th><th style=\"text-align: right;\">  AverageMZ_1</th><th style=\"text-align: right;\">    StdMZ_1</th><th style=\"text-align: right;\">  l_1</th><th style=\"text-align: right;\">  ConfidenceIntervalDa_1</th><th style=\"text-align: right;\">  ConfidenceInterval_1</th><th style=\"text-align: right;\">  SumIntensity_1</th><th style=\"text-align: right;\">  AverageRT_2</th><th style=\"text-align: right;\">   StdRT_2</th><th style=\"text-align: right;\">  AverageMZ_2</th><th style=\"text-align: right;\">    StdMZ_2</th><th style=\"text-align: right;\">  l_2</th><th style=\"text-align: right;\">  ConfidenceIntervalDa_2</th><th style=\"text-align: right;\">  ConfidenceInterval_2</th><th style=\"text-align: right;\">  SumIntensity_2</th><th style=\"text-align: right;\">  Difference</th><th style=\"text-align: right;\">  ConfidenceInterval</th><th style=\"text-align: right;\">  ConfidenceInterval(ppm)_dif</th><th style=\"text-align: right;\">  ConfidenceInterval(ppm)_mz1</th><th style=\"text-align: right;\">  ConfidenceInterval(ppm)_mz2</th><th style=\"text-align: right;\">   tref</th><th style=\"text-align: right;\">      stMix</th><th style=\"text-align: right;\">  Ratio(H/L)</th></tr>\n",
       "</thead>\n",
       "<tbody>\n",
       "<tr><td style=\"text-align: right;\"> 0</td><td style=\"text-align: right;\">      3.15543</td><td style=\"text-align: right;\">0.032636  </td><td style=\"text-align: right;\">      282.337</td><td style=\"text-align: right;\">0.000163422</td><td style=\"text-align: right;\">    8</td><td style=\"text-align: right;\">             0.000136624</td><td style=\"text-align: right;\">             0.483904 </td><td style=\"text-align: right;\">434611          </td><td style=\"text-align: right;\">      3.15586</td><td style=\"text-align: right;\">0.0326939 </td><td style=\"text-align: right;\">      284.341</td><td style=\"text-align: right;\">0.000181138</td><td style=\"text-align: right;\">    8</td><td style=\"text-align: right;\">             0.000151435</td><td style=\"text-align: right;\">              0.532584</td><td style=\"text-align: right;\">840707          </td><td style=\"text-align: right;\">     2.00375</td><td style=\"text-align: right;\">         0.000185179</td><td style=\"text-align: right;\">                      92.4161</td><td style=\"text-align: right;\">                     0.655878</td><td style=\"text-align: right;\">                     0.651256</td><td style=\"text-align: right;\">2.14691</td><td style=\"text-align: right;\">8.62538e-05</td><td style=\"text-align: right;\"> 9.74689e+09</td></tr>\n",
       "<tr><td style=\"text-align: right;\"> 1</td><td style=\"text-align: right;\">      3.15679</td><td style=\"text-align: right;\">0.0308978 </td><td style=\"text-align: right;\">      282.436</td><td style=\"text-align: right;\">0.000123426</td><td style=\"text-align: right;\">    8</td><td style=\"text-align: right;\">             0.000103187</td><td style=\"text-align: right;\">             0.365347 </td><td style=\"text-align: right;\">243106          </td><td style=\"text-align: right;\">      3.1558 </td><td style=\"text-align: right;\">0.0328042 </td><td style=\"text-align: right;\">      284.44 </td><td style=\"text-align: right;\">0.000186821</td><td style=\"text-align: right;\">    8</td><td style=\"text-align: right;\">             0.000156186</td><td style=\"text-align: right;\">              0.549099</td><td style=\"text-align: right;\">527582          </td><td style=\"text-align: right;\">     2.00488</td><td style=\"text-align: right;\">         0.000172275</td><td style=\"text-align: right;\">                      85.928 </td><td style=\"text-align: right;\">                     0.609963</td><td style=\"text-align: right;\">                     0.605664</td><td style=\"text-align: right;\">2.17617</td><td style=\"text-align: right;\">7.91644e-05</td><td style=\"text-align: right;\"> 6.66438e+09</td></tr>\n",
       "<tr><td style=\"text-align: right;\"> 2</td><td style=\"text-align: right;\">      3.16057</td><td style=\"text-align: right;\">0.0404148 </td><td style=\"text-align: right;\">      283.174</td><td style=\"text-align: right;\">0.000158739</td><td style=\"text-align: right;\">   31</td><td style=\"text-align: right;\">             5.8226e-05 </td><td style=\"text-align: right;\">             0.205619 </td><td style=\"text-align: right;\">     5.12506e+06</td><td style=\"text-align: right;\">      3.16162</td><td style=\"text-align: right;\">0.0397924 </td><td style=\"text-align: right;\">      285.178</td><td style=\"text-align: right;\">0.000172396</td><td style=\"text-align: right;\">   31</td><td style=\"text-align: right;\">             6.32352e-05</td><td style=\"text-align: right;\">              0.22174 </td><td style=\"text-align: right;\">     6.94739e+06</td><td style=\"text-align: right;\">     2.00425</td><td style=\"text-align: right;\">         8.42041e-05</td><td style=\"text-align: right;\">                      42.0128</td><td style=\"text-align: right;\">                     0.297359</td><td style=\"text-align: right;\">                     0.295269</td><td style=\"text-align: right;\">2.00058</td><td style=\"text-align: right;\">4.20899e-05</td><td style=\"text-align: right;\"> 1.65061e+11</td></tr>\n",
       "<tr><td style=\"text-align: right;\"> 3</td><td style=\"text-align: right;\">      3.17201</td><td style=\"text-align: right;\">0.0702799 </td><td style=\"text-align: right;\">      282.17 </td><td style=\"text-align: right;\">0.000193979</td><td style=\"text-align: right;\">   65</td><td style=\"text-align: right;\">             4.80657e-05</td><td style=\"text-align: right;\">             0.170343 </td><td style=\"text-align: right;\">     2.78967e+07</td><td style=\"text-align: right;\">      3.16714</td><td style=\"text-align: right;\">0.0587191 </td><td style=\"text-align: right;\">      284.175</td><td style=\"text-align: right;\">0.000429052</td><td style=\"text-align: right;\">   65</td><td style=\"text-align: right;\">             0.000106314</td><td style=\"text-align: right;\">              0.374114</td><td style=\"text-align: right;\">     3.8881e+07 </td><td style=\"text-align: right;\">     2.00463</td><td style=\"text-align: right;\">         0.000116045</td><td style=\"text-align: right;\">                      57.8882</td><td style=\"text-align: right;\">                     0.411257</td><td style=\"text-align: right;\">                     0.408356</td><td style=\"text-align: right;\">1.98694</td><td style=\"text-align: right;\">5.84036e-05</td><td style=\"text-align: right;\"> 6.6573e+11 </td></tr>\n",
       "<tr><td style=\"text-align: right;\"> 4</td><td style=\"text-align: right;\">      3.27263</td><td style=\"text-align: right;\">0.0472835 </td><td style=\"text-align: right;\">      292.165</td><td style=\"text-align: right;\">3.49985e-05</td><td style=\"text-align: right;\">    5</td><td style=\"text-align: right;\">             4.34564e-05</td><td style=\"text-align: right;\">             0.148739 </td><td style=\"text-align: right;\"> 90458.2        </td><td style=\"text-align: right;\">      3.27381</td><td style=\"text-align: right;\">0.0477877 </td><td style=\"text-align: right;\">      294.169</td><td style=\"text-align: right;\">0.00061528 </td><td style=\"text-align: right;\">    5</td><td style=\"text-align: right;\">             0.000763971</td><td style=\"text-align: right;\">              2.59705 </td><td style=\"text-align: right;\">151305          </td><td style=\"text-align: right;\">     2.00355</td><td style=\"text-align: right;\">         0.00076327 </td><td style=\"text-align: right;\">                     380.958 </td><td style=\"text-align: right;\">                     2.61246 </td><td style=\"text-align: right;\">                     2.59466 </td><td style=\"text-align: right;\">2.76942</td><td style=\"text-align: right;\">0.000275607</td><td style=\"text-align: right;\"> 5.48988e+08</td></tr>\n",
       "<tr><td style=\"text-align: right;\"> 5</td><td style=\"text-align: right;\">      3.40433</td><td style=\"text-align: right;\">0.109927  </td><td style=\"text-align: right;\">      292.164</td><td style=\"text-align: right;\">9.70997e-05</td><td style=\"text-align: right;\">   15</td><td style=\"text-align: right;\">             5.3772e-05 </td><td style=\"text-align: right;\">             0.184047 </td><td style=\"text-align: right;\">534012          </td><td style=\"text-align: right;\">      3.40278</td><td style=\"text-align: right;\">0.108959  </td><td style=\"text-align: right;\">      294.169</td><td style=\"text-align: right;\">0.000258642</td><td style=\"text-align: right;\">   15</td><td style=\"text-align: right;\">             0.000143231</td><td style=\"text-align: right;\">              0.486902</td><td style=\"text-align: right;\">960118          </td><td style=\"text-align: right;\">     2.00445</td><td style=\"text-align: right;\">         0.000149942</td><td style=\"text-align: right;\">                      74.8046</td><td style=\"text-align: right;\">                     0.513211</td><td style=\"text-align: right;\">                     0.509714</td><td style=\"text-align: right;\">2.10202</td><td style=\"text-align: right;\">7.13321e-05</td><td style=\"text-align: right;\"> 1.34598e+10</td></tr>\n",
       "<tr><td style=\"text-align: right;\"> 6</td><td style=\"text-align: right;\">      3.49795</td><td style=\"text-align: right;\">0.117293  </td><td style=\"text-align: right;\">      292.164</td><td style=\"text-align: right;\">8.73106e-05</td><td style=\"text-align: right;\">    4</td><td style=\"text-align: right;\">             0.000138931</td><td style=\"text-align: right;\">             0.475523 </td><td style=\"text-align: right;\">106263          </td><td style=\"text-align: right;\">      3.48613</td><td style=\"text-align: right;\">0.11197   </td><td style=\"text-align: right;\">      294.168</td><td style=\"text-align: right;\">0.000824155</td><td style=\"text-align: right;\">    4</td><td style=\"text-align: right;\">             0.00131141 </td><td style=\"text-align: right;\">              4.45805 </td><td style=\"text-align: right;\">178144          </td><td style=\"text-align: right;\">     2.00418</td><td style=\"text-align: right;\">         0.00130253 </td><td style=\"text-align: right;\">                     649.904 </td><td style=\"text-align: right;\">                     4.45821 </td><td style=\"text-align: right;\">                     4.42784 </td><td style=\"text-align: right;\">3.14329</td><td style=\"text-align: right;\">0.000414384</td><td style=\"text-align: right;\"> 4.29901e+08</td></tr>\n",
       "<tr><td style=\"text-align: right;\"> 7</td><td style=\"text-align: right;\">      3.52506</td><td style=\"text-align: right;\">0.0694738 </td><td style=\"text-align: right;\">      282.169</td><td style=\"text-align: right;\">6.65448e-05</td><td style=\"text-align: right;\">    7</td><td style=\"text-align: right;\">             6.15437e-05</td><td style=\"text-align: right;\">             0.218109 </td><td style=\"text-align: right;\">119697          </td><td style=\"text-align: right;\">      3.53703</td><td style=\"text-align: right;\">0.0647145 </td><td style=\"text-align: right;\">      284.174</td><td style=\"text-align: right;\">0.000399365</td><td style=\"text-align: right;\">    7</td><td style=\"text-align: right;\">             0.000369351</td><td style=\"text-align: right;\">              1.29973 </td><td style=\"text-align: right;\">106376          </td><td style=\"text-align: right;\">     2.00523</td><td style=\"text-align: right;\">         0.000369723</td><td style=\"text-align: right;\">                     184.379 </td><td style=\"text-align: right;\">                     1.31029 </td><td style=\"text-align: right;\">                     1.30104 </td><td style=\"text-align: right;\">2.41607</td><td style=\"text-align: right;\">0.000153027</td><td style=\"text-align: right;\"> 6.95147e+08</td></tr>\n",
       "<tr><td style=\"text-align: right;\"> 8</td><td style=\"text-align: right;\">      3.82199</td><td style=\"text-align: right;\">0.156143  </td><td style=\"text-align: right;\">      284.185</td><td style=\"text-align: right;\">8.99475e-05</td><td style=\"text-align: right;\">    5</td><td style=\"text-align: right;\">             0.000111685</td><td style=\"text-align: right;\">             0.392999 </td><td style=\"text-align: right;\">     1.14139e+06</td><td style=\"text-align: right;\">      3.73115</td><td style=\"text-align: right;\">0.0711716 </td><td style=\"text-align: right;\">      286.19 </td><td style=\"text-align: right;\">0.000102937</td><td style=\"text-align: right;\">    5</td><td style=\"text-align: right;\">             0.000127814</td><td style=\"text-align: right;\">              0.446604</td><td style=\"text-align: right;\">     1.35789e+06</td><td style=\"text-align: right;\">     2.00459</td><td style=\"text-align: right;\">         0.000141417</td><td style=\"text-align: right;\">                      70.5466</td><td style=\"text-align: right;\">                     0.497622</td><td style=\"text-align: right;\">                     0.494137</td><td style=\"text-align: right;\">2.31324</td><td style=\"text-align: right;\">6.11337e-05</td><td style=\"text-align: right;\"> 2.22119e+10</td></tr>\n",
       "<tr><td style=\"text-align: right;\"> 9</td><td style=\"text-align: right;\">      3.99052</td><td style=\"text-align: right;\">0.00814916</td><td style=\"text-align: right;\">      284.186</td><td style=\"text-align: right;\">7.51876e-05</td><td style=\"text-align: right;\">    5</td><td style=\"text-align: right;\">             9.33578e-05</td><td style=\"text-align: right;\">             0.32851  </td><td style=\"text-align: right;\">     3.19468e+06</td><td style=\"text-align: right;\">      3.99035</td><td style=\"text-align: right;\">0.00808077</td><td style=\"text-align: right;\">      286.19 </td><td style=\"text-align: right;\">0.000141552</td><td style=\"text-align: right;\">    5</td><td style=\"text-align: right;\">             0.000175761</td><td style=\"text-align: right;\">              0.61414 </td><td style=\"text-align: right;\">597173          </td><td style=\"text-align: right;\">     2.00432</td><td style=\"text-align: right;\">         0.000174764</td><td style=\"text-align: right;\">                      87.1938</td><td style=\"text-align: right;\">                     0.614965</td><td style=\"text-align: right;\">                     0.610658</td><td style=\"text-align: right;\">2.43811</td><td style=\"text-align: right;\">7.16802e-05</td><td style=\"text-align: right;\"> 8.33107e+09</td></tr>\n",
       "<tr><td style=\"text-align: right;\">10</td><td style=\"text-align: right;\">      4.13938</td><td style=\"text-align: right;\">0.0160366 </td><td style=\"text-align: right;\">      280.104</td><td style=\"text-align: right;\">6.70598e-05</td><td style=\"text-align: right;\">    4</td><td style=\"text-align: right;\">             0.000106707</td><td style=\"text-align: right;\">             0.380956 </td><td style=\"text-align: right;\">276971          </td><td style=\"text-align: right;\">      4.13965</td><td style=\"text-align: right;\">0.0159418 </td><td style=\"text-align: right;\">      282.108</td><td style=\"text-align: right;\">3.79899e-05</td><td style=\"text-align: right;\">    4</td><td style=\"text-align: right;\">             6.04504e-05</td><td style=\"text-align: right;\">              0.214281</td><td style=\"text-align: right;\">239421          </td><td style=\"text-align: right;\">     2.00484</td><td style=\"text-align: right;\">         0.000100679</td><td style=\"text-align: right;\">                      50.218 </td><td style=\"text-align: right;\">                     0.359434</td><td style=\"text-align: right;\">                     0.35688 </td><td style=\"text-align: right;\">2.61256</td><td style=\"text-align: right;\">3.85365e-05</td><td style=\"text-align: right;\"> 6.21283e+09</td></tr>\n",
       "<tr><td style=\"text-align: right;\">11</td><td style=\"text-align: right;\">      4.1806 </td><td style=\"text-align: right;\">0.00892428</td><td style=\"text-align: right;\">      282.17 </td><td style=\"text-align: right;\">2.52072e-05</td><td style=\"text-align: right;\">    4</td><td style=\"text-align: right;\">             4.01103e-05</td><td style=\"text-align: right;\">             0.142149 </td><td style=\"text-align: right;\">     3.7298e+06 </td><td style=\"text-align: right;\">      4.18037</td><td style=\"text-align: right;\">0.00904151</td><td style=\"text-align: right;\">      284.176</td><td style=\"text-align: right;\">0.000363237</td><td style=\"text-align: right;\">    4</td><td style=\"text-align: right;\">             0.000577992</td><td style=\"text-align: right;\">              2.03392 </td><td style=\"text-align: right;\">     1.23243e+06</td><td style=\"text-align: right;\">     2.00536</td><td style=\"text-align: right;\">         0.000576268</td><td style=\"text-align: right;\">                     287.363 </td><td style=\"text-align: right;\">                     2.04227 </td><td style=\"text-align: right;\">                     2.02786 </td><td style=\"text-align: right;\">3.16534</td><td style=\"text-align: right;\">0.000182055</td><td style=\"text-align: right;\"> 6.76951e+09</td></tr>\n",
       "<tr><td style=\"text-align: right;\">12</td><td style=\"text-align: right;\">      4.3142 </td><td style=\"text-align: right;\">0.0284583 </td><td style=\"text-align: right;\">      290.107</td><td style=\"text-align: right;\">0.000123705</td><td style=\"text-align: right;\">   11</td><td style=\"text-align: right;\">             8.31063e-05</td><td style=\"text-align: right;\">             0.286468 </td><td style=\"text-align: right;\">133846          </td><td style=\"text-align: right;\">      4.31471</td><td style=\"text-align: right;\">0.0286257 </td><td style=\"text-align: right;\">      292.111</td><td style=\"text-align: right;\">0.00079093 </td><td style=\"text-align: right;\">   11</td><td style=\"text-align: right;\">             0.000531354</td><td style=\"text-align: right;\">              1.81902 </td><td style=\"text-align: right;\">144505          </td><td style=\"text-align: right;\">     2.00391</td><td style=\"text-align: right;\">         0.000534435</td><td style=\"text-align: right;\">                     266.697 </td><td style=\"text-align: right;\">                     1.8422  </td><td style=\"text-align: right;\">                     1.82956 </td><td style=\"text-align: right;\">2.21414</td><td style=\"text-align: right;\">0.000241374</td><td style=\"text-align: right;\"> 5.98677e+08</td></tr>\n",
       "<tr><td style=\"text-align: right;\">13</td><td style=\"text-align: right;\">      4.8038 </td><td style=\"text-align: right;\">0.0244422 </td><td style=\"text-align: right;\">      282.169</td><td style=\"text-align: right;\">1.53383e-05</td><td style=\"text-align: right;\">    4</td><td style=\"text-align: right;\">             2.44067e-05</td><td style=\"text-align: right;\">             0.0864965</td><td style=\"text-align: right;\"> 44888.9        </td><td style=\"text-align: right;\">      4.80357</td><td style=\"text-align: right;\">0.0242173 </td><td style=\"text-align: right;\">      284.174</td><td style=\"text-align: right;\">0.000705295</td><td style=\"text-align: right;\">    4</td><td style=\"text-align: right;\">             0.00112228 </td><td style=\"text-align: right;\">              3.94928 </td><td style=\"text-align: right;\"> 54005.9        </td><td style=\"text-align: right;\">     2.00446</td><td style=\"text-align: right;\">         0.00112195 </td><td style=\"text-align: right;\">                     559.726 </td><td style=\"text-align: right;\">                     3.97615 </td><td style=\"text-align: right;\">                     3.9481  </td><td style=\"text-align: right;\">3.18075</td><td style=\"text-align: right;\">0.000352731</td><td style=\"text-align: right;\"> 1.53108e+08</td></tr>\n",
       "<tr><td style=\"text-align: right;\">14</td><td style=\"text-align: right;\">      4.98089</td><td style=\"text-align: right;\">0.00945561</td><td style=\"text-align: right;\">      284.185</td><td style=\"text-align: right;\">0.000114577</td><td style=\"text-align: right;\">    5</td><td style=\"text-align: right;\">             0.000142266</td><td style=\"text-align: right;\">             0.500612 </td><td style=\"text-align: right;\">137042          </td><td style=\"text-align: right;\">      4.98107</td><td style=\"text-align: right;\">0.00948089</td><td style=\"text-align: right;\">      286.189</td><td style=\"text-align: right;\">0.000810291</td><td style=\"text-align: right;\">    5</td><td style=\"text-align: right;\">             0.00100611 </td><td style=\"text-align: right;\">              3.51554 </td><td style=\"text-align: right;\"> 73748.1        </td><td style=\"text-align: right;\">     2.0046 </td><td style=\"text-align: right;\">         0.0010009  </td><td style=\"text-align: right;\">                     499.301 </td><td style=\"text-align: right;\">                     3.522   </td><td style=\"text-align: right;\">                     3.49733 </td><td style=\"text-align: right;\">2.73486</td><td style=\"text-align: right;\">0.000365978</td><td style=\"text-align: right;\"> 2.01509e+08</td></tr>\n",
       "<tr><td style=\"text-align: right;\">15</td><td style=\"text-align: right;\">      5.12956</td><td style=\"text-align: right;\">0.00687974</td><td style=\"text-align: right;\">      282.337</td><td style=\"text-align: right;\">5.45378e-05</td><td style=\"text-align: right;\">    4</td><td style=\"text-align: right;\">             8.67819e-05</td><td style=\"text-align: right;\">             0.30737  </td><td style=\"text-align: right;\">477088          </td><td style=\"text-align: right;\">      5.12956</td><td style=\"text-align: right;\">0.00688089</td><td style=\"text-align: right;\">      284.34 </td><td style=\"text-align: right;\">0.000117375</td><td style=\"text-align: right;\">    4</td><td style=\"text-align: right;\">             0.00018677 </td><td style=\"text-align: right;\">              0.656853</td><td style=\"text-align: right;\">590051          </td><td style=\"text-align: right;\">     2.00339</td><td style=\"text-align: right;\">         0.000175767</td><td style=\"text-align: right;\">                      87.7352</td><td style=\"text-align: right;\">                     0.622545</td><td style=\"text-align: right;\">                     0.618159</td><td style=\"text-align: right;\">2.71609</td><td style=\"text-align: right;\">6.47133e-05</td><td style=\"text-align: right;\"> 9.11793e+09</td></tr>\n",
       "<tr><td style=\"text-align: right;\">16</td><td style=\"text-align: right;\">      5.13366</td><td style=\"text-align: right;\">0.010409  </td><td style=\"text-align: right;\">      282.568</td><td style=\"text-align: right;\">6.05983e-05</td><td style=\"text-align: right;\">    5</td><td style=\"text-align: right;\">             7.52427e-05</td><td style=\"text-align: right;\">             0.266282 </td><td style=\"text-align: right;\">246826          </td><td style=\"text-align: right;\">      5.13398</td><td style=\"text-align: right;\">0.0106409 </td><td style=\"text-align: right;\">      284.573</td><td style=\"text-align: right;\">3.37373e-05</td><td style=\"text-align: right;\">    5</td><td style=\"text-align: right;\">             4.18904e-05</td><td style=\"text-align: right;\">              0.147204</td><td style=\"text-align: right;\">287779          </td><td style=\"text-align: right;\">     2.00497</td><td style=\"text-align: right;\">         7.51326e-05</td><td style=\"text-align: right;\">                      37.4733</td><td style=\"text-align: right;\">                     0.265892</td><td style=\"text-align: right;\">                     0.264019</td><td style=\"text-align: right;\">2.42228</td><td style=\"text-align: right;\">3.10173e-05</td><td style=\"text-align: right;\"> 9.27801e+09</td></tr>\n",
       "<tr><td style=\"text-align: right;\">17</td><td style=\"text-align: right;\">      5.1387 </td><td style=\"text-align: right;\">0.0146703 </td><td style=\"text-align: right;\">      283.173</td><td style=\"text-align: right;\">8.51496e-05</td><td style=\"text-align: right;\">   14</td><td style=\"text-align: right;\">             4.91639e-05</td><td style=\"text-align: right;\">             0.173618 </td><td style=\"text-align: right;\">     4.59248e+06</td><td style=\"text-align: right;\">      5.13869</td><td style=\"text-align: right;\">0.0146174 </td><td style=\"text-align: right;\">      285.178</td><td style=\"text-align: right;\">0.000138766</td><td style=\"text-align: right;\">   14</td><td style=\"text-align: right;\">             8.0121e-05 </td><td style=\"text-align: right;\">              0.280951</td><td style=\"text-align: right;\">     4.13833e+06</td><td style=\"text-align: right;\">     2.00428</td><td style=\"text-align: right;\">         9.03423e-05</td><td style=\"text-align: right;\">                      45.0747</td><td style=\"text-align: right;\">                     0.319035</td><td style=\"text-align: right;\">                     0.316793</td><td style=\"text-align: right;\">2.07625</td><td style=\"text-align: right;\">4.35123e-05</td><td style=\"text-align: right;\"> 9.51071e+10</td></tr>\n",
       "<tr><td style=\"text-align: right;\">18</td><td style=\"text-align: right;\">      5.16551</td><td style=\"text-align: right;\">0.00913136</td><td style=\"text-align: right;\">      282.17 </td><td style=\"text-align: right;\">4.76366e-05</td><td style=\"text-align: right;\">    5</td><td style=\"text-align: right;\">             5.91486e-05</td><td style=\"text-align: right;\">             0.20962  </td><td style=\"text-align: right;\">     2.47244e+06</td><td style=\"text-align: right;\">      5.16557</td><td style=\"text-align: right;\">0.00923553</td><td style=\"text-align: right;\">      284.175</td><td style=\"text-align: right;\">0.000133427</td><td style=\"text-align: right;\">    5</td><td style=\"text-align: right;\">             0.000165672</td><td style=\"text-align: right;\">              0.582994</td><td style=\"text-align: right;\">     2.3936e+06 </td><td style=\"text-align: right;\">     2.00435</td><td style=\"text-align: right;\">         0.000162837</td><td style=\"text-align: right;\">                      81.2418</td><td style=\"text-align: right;\">                     0.577089</td><td style=\"text-align: right;\">                     0.573019</td><td style=\"text-align: right;\">2.57005</td><td style=\"text-align: right;\">6.33595e-05</td><td style=\"text-align: right;\"> 3.7778e+10 </td></tr>\n",
       "<tr><td style=\"text-align: right;\">19</td><td style=\"text-align: right;\">      5.17849</td><td style=\"text-align: right;\">0.0146167 </td><td style=\"text-align: right;\">      289.148</td><td style=\"text-align: right;\">4.73181e-05</td><td style=\"text-align: right;\">    5</td><td style=\"text-align: right;\">             5.87532e-05</td><td style=\"text-align: right;\">             0.203194 </td><td style=\"text-align: right;\">232899          </td><td style=\"text-align: right;\">      5.17799</td><td style=\"text-align: right;\">0.0140238 </td><td style=\"text-align: right;\">      291.152</td><td style=\"text-align: right;\">0.000390827</td><td style=\"text-align: right;\">    5</td><td style=\"text-align: right;\">             0.000485276</td><td style=\"text-align: right;\">              1.66674 </td><td style=\"text-align: right;\">389576          </td><td style=\"text-align: right;\">     2.00422</td><td style=\"text-align: right;\">         0.000483379</td><td style=\"text-align: right;\">                     241.18  </td><td style=\"text-align: right;\">                     1.67174 </td><td style=\"text-align: right;\">                     1.66023 </td><td style=\"text-align: right;\">2.74554</td><td style=\"text-align: right;\">0.000176059</td><td style=\"text-align: right;\"> 2.21275e+09</td></tr>\n",
       "<tr><td style=\"text-align: right;\">20</td><td style=\"text-align: right;\">      5.18696</td><td style=\"text-align: right;\">0.0108525 </td><td style=\"text-align: right;\">      290.149</td><td style=\"text-align: right;\">4.24953e-05</td><td style=\"text-align: right;\">    7</td><td style=\"text-align: right;\">             3.93016e-05</td><td style=\"text-align: right;\">             0.135453 </td><td style=\"text-align: right;\">     5.24481e+06</td><td style=\"text-align: right;\">      5.18697</td><td style=\"text-align: right;\">0.0108737 </td><td style=\"text-align: right;\">      292.154</td><td style=\"text-align: right;\">0.00064201 </td><td style=\"text-align: right;\">    7</td><td style=\"text-align: right;\">             0.00059376 </td><td style=\"text-align: right;\">              2.03235 </td><td style=\"text-align: right;\">110888          </td><td style=\"text-align: right;\">     2.005  </td><td style=\"text-align: right;\">         0.000593809</td><td style=\"text-align: right;\">                     296.164 </td><td style=\"text-align: right;\">                     2.04657 </td><td style=\"text-align: right;\">                     2.03252 </td><td style=\"text-align: right;\">2.44177</td><td style=\"text-align: right;\">0.000243188</td><td style=\"text-align: right;\"> 4.55975e+08</td></tr>\n",
       "<tr><td style=\"text-align: right;\">21</td><td style=\"text-align: right;\">      5.18926</td><td style=\"text-align: right;\">0.016919  </td><td style=\"text-align: right;\">      288.145</td><td style=\"text-align: right;\">0.000142571</td><td style=\"text-align: right;\">   17</td><td style=\"text-align: right;\">             7.33031e-05</td><td style=\"text-align: right;\">             0.254397 </td><td style=\"text-align: right;\">     3.71111e+06</td><td style=\"text-align: right;\">      5.18878</td><td style=\"text-align: right;\">0.0169744 </td><td style=\"text-align: right;\">      290.149</td><td style=\"text-align: right;\">0.000111715</td><td style=\"text-align: right;\">   17</td><td style=\"text-align: right;\">             5.74384e-05</td><td style=\"text-align: right;\">              0.197962</td><td style=\"text-align: right;\">     6.88974e+06</td><td style=\"text-align: right;\">     2.00394</td><td style=\"text-align: right;\">         8.96826e-05</td><td style=\"text-align: right;\">                      44.7532</td><td style=\"text-align: right;\">                     0.311241</td><td style=\"text-align: right;\">                     0.309092</td><td style=\"text-align: right;\">2.04151</td><td style=\"text-align: right;\">4.39295e-05</td><td style=\"text-align: right;\"> 1.56836e+11</td></tr>\n",
       "<tr><td style=\"text-align: right;\">22</td><td style=\"text-align: right;\">      5.1894 </td><td style=\"text-align: right;\">0.0647993 </td><td style=\"text-align: right;\">      282.169</td><td style=\"text-align: right;\">6.37628e-05</td><td style=\"text-align: right;\">    7</td><td style=\"text-align: right;\">             5.89708e-05</td><td style=\"text-align: right;\">             0.208991 </td><td style=\"text-align: right;\">216063          </td><td style=\"text-align: right;\">      5.19021</td><td style=\"text-align: right;\">0.0647603 </td><td style=\"text-align: right;\">      284.175</td><td style=\"text-align: right;\">0.000306971</td><td style=\"text-align: right;\">    7</td><td style=\"text-align: right;\">             0.000283901</td><td style=\"text-align: right;\">              0.999037</td><td style=\"text-align: right;\">221380          </td><td style=\"text-align: right;\">     2.00507</td><td style=\"text-align: right;\">         0.000284477</td><td style=\"text-align: right;\">                     141.879 </td><td style=\"text-align: right;\">                     1.00818 </td><td style=\"text-align: right;\">                     1.00107 </td><td style=\"text-align: right;\">2.40064</td><td style=\"text-align: right;\">0.000118501</td><td style=\"text-align: right;\"> 1.86817e+09</td></tr>\n",
       "<tr><td style=\"text-align: right;\">23</td><td style=\"text-align: right;\">      5.20232</td><td style=\"text-align: right;\">0.0188556 </td><td style=\"text-align: right;\">      282.17 </td><td style=\"text-align: right;\">5.43195e-05</td><td style=\"text-align: right;\">    6</td><td style=\"text-align: right;\">             5.70048e-05</td><td style=\"text-align: right;\">             0.202023 </td><td style=\"text-align: right;\">364325          </td><td style=\"text-align: right;\">      5.20196</td><td style=\"text-align: right;\">0.0186493 </td><td style=\"text-align: right;\">      284.175</td><td style=\"text-align: right;\">0.000219916</td><td style=\"text-align: right;\">    6</td><td style=\"text-align: right;\">             0.000230787</td><td style=\"text-align: right;\">              0.812132</td><td style=\"text-align: right;\">368972          </td><td style=\"text-align: right;\">     2.00477</td><td style=\"text-align: right;\">         0.000230178</td><td style=\"text-align: right;\">                     114.815 </td><td style=\"text-align: right;\">                     0.815744</td><td style=\"text-align: right;\">                     0.809989</td><td style=\"text-align: right;\">2.489  </td><td style=\"text-align: right;\">9.24784e-05</td><td style=\"text-align: right;\"> 3.98981e+09</td></tr>\n",
       "<tr><td style=\"text-align: right;\">24</td><td style=\"text-align: right;\">      5.52642</td><td style=\"text-align: right;\">0.0098742 </td><td style=\"text-align: right;\">      280.19 </td><td style=\"text-align: right;\">2.67509e-05</td><td style=\"text-align: right;\">    6</td><td style=\"text-align: right;\">             2.80733e-05</td><td style=\"text-align: right;\">             0.100194 </td><td style=\"text-align: right;\">426198          </td><td style=\"text-align: right;\">      5.52624</td><td style=\"text-align: right;\">0.00998972</td><td style=\"text-align: right;\">      282.195</td><td style=\"text-align: right;\">0.000100453</td><td style=\"text-align: right;\">    6</td><td style=\"text-align: right;\">             0.000105419</td><td style=\"text-align: right;\">              0.373567</td><td style=\"text-align: right;\">792521          </td><td style=\"text-align: right;\">     2.00473</td><td style=\"text-align: right;\">         0.000105157</td><td style=\"text-align: right;\">                      52.4546</td><td style=\"text-align: right;\">                     0.375305</td><td style=\"text-align: right;\">                     0.372639</td><td style=\"text-align: right;\">2.47784</td><td style=\"text-align: right;\">4.24389e-05</td><td style=\"text-align: right;\"> 1.86744e+10</td></tr>\n",
       "<tr><td style=\"text-align: right;\">25</td><td style=\"text-align: right;\">      5.84154</td><td style=\"text-align: right;\">0.0364779 </td><td style=\"text-align: right;\">      296.186</td><td style=\"text-align: right;\">6.9154e-05 </td><td style=\"text-align: right;\">   19</td><td style=\"text-align: right;\">             3.33312e-05</td><td style=\"text-align: right;\">             0.112535 </td><td style=\"text-align: right;\">     1.45808e+07</td><td style=\"text-align: right;\">      5.84022</td><td style=\"text-align: right;\">0.0369054 </td><td style=\"text-align: right;\">      298.19 </td><td style=\"text-align: right;\">0.000171708</td><td style=\"text-align: right;\">   19</td><td style=\"text-align: right;\">             8.27604e-05</td><td style=\"text-align: right;\">              0.277542</td><td style=\"text-align: right;\">     2.74643e+07</td><td style=\"text-align: right;\">     2.00444</td><td style=\"text-align: right;\">         8.77088e-05</td><td style=\"text-align: right;\">                      43.7573</td><td style=\"text-align: right;\">                     0.296127</td><td style=\"text-align: right;\">                     0.294137</td><td style=\"text-align: right;\">2.06533</td><td style=\"text-align: right;\">4.24672e-05</td><td style=\"text-align: right;\"> 6.46717e+11</td></tr>\n",
       "<tr><td style=\"text-align: right;\">26</td><td style=\"text-align: right;\">      5.89405</td><td style=\"text-align: right;\">0.0777927 </td><td style=\"text-align: right;\">      296.185</td><td style=\"text-align: right;\">5.02856e-05</td><td style=\"text-align: right;\">    4</td><td style=\"text-align: right;\">             8.00156e-05</td><td style=\"text-align: right;\">             0.270154 </td><td style=\"text-align: right;\">197081          </td><td style=\"text-align: right;\">      5.88218</td><td style=\"text-align: right;\">0.0850992 </td><td style=\"text-align: right;\">      298.19 </td><td style=\"text-align: right;\">0.000263464</td><td style=\"text-align: right;\">    4</td><td style=\"text-align: right;\">             0.00041923 </td><td style=\"text-align: right;\">              1.40592 </td><td style=\"text-align: right;\">405235          </td><td style=\"text-align: right;\">     2.00424</td><td style=\"text-align: right;\">         0.00041088 </td><td style=\"text-align: right;\">                     205.005 </td><td style=\"text-align: right;\">                     1.38724 </td><td style=\"text-align: right;\">                     1.37791 </td><td style=\"text-align: right;\">3.06375</td><td style=\"text-align: right;\">0.00013411 </td><td style=\"text-align: right;\"> 3.02166e+09</td></tr>\n",
       "<tr><td style=\"text-align: right;\">27</td><td style=\"text-align: right;\">      6.27153</td><td style=\"text-align: right;\">0.0104526 </td><td style=\"text-align: right;\">      284.185</td><td style=\"text-align: right;\">0.000132767</td><td style=\"text-align: right;\">    6</td><td style=\"text-align: right;\">             0.00013933 </td><td style=\"text-align: right;\">             0.490278 </td><td style=\"text-align: right;\">460674          </td><td style=\"text-align: right;\">      6.2709 </td><td style=\"text-align: right;\">0.0105554 </td><td style=\"text-align: right;\">      286.19 </td><td style=\"text-align: right;\">0.000221625</td><td style=\"text-align: right;\">    6</td><td style=\"text-align: right;\">             0.000232581</td><td style=\"text-align: right;\">              0.812682</td><td style=\"text-align: right;\">875993          </td><td style=\"text-align: right;\">     2.00447</td><td style=\"text-align: right;\">         0.000242292</td><td style=\"text-align: right;\">                     120.876 </td><td style=\"text-align: right;\">                     0.852583</td><td style=\"text-align: right;\">                     0.846611</td><td style=\"text-align: right;\">2.29724</td><td style=\"text-align: right;\">0.000105471</td><td style=\"text-align: right;\"> 8.30554e+09</td></tr>\n",
       "<tr><td style=\"text-align: right;\">28</td><td style=\"text-align: right;\">      6.52633</td><td style=\"text-align: right;\">0.0133808 </td><td style=\"text-align: right;\">      281.412</td><td style=\"text-align: right;\">6.74708e-05</td><td style=\"text-align: right;\">    5</td><td style=\"text-align: right;\">             8.37761e-05</td><td style=\"text-align: right;\">             0.297699 </td><td style=\"text-align: right;\">539380          </td><td style=\"text-align: right;\">      6.52695</td><td style=\"text-align: right;\">0.0132469 </td><td style=\"text-align: right;\">      283.418</td><td style=\"text-align: right;\">9.33007e-05</td><td style=\"text-align: right;\">    5</td><td style=\"text-align: right;\">             0.000115848</td><td style=\"text-align: right;\">              0.408754</td><td style=\"text-align: right;\">127259          </td><td style=\"text-align: right;\">     2.00563</td><td style=\"text-align: right;\">         0.000120801</td><td style=\"text-align: right;\">                      60.2306</td><td style=\"text-align: right;\">                     0.429266</td><td style=\"text-align: right;\">                     0.426228</td><td style=\"text-align: right;\">2.34599</td><td style=\"text-align: right;\">5.14924e-05</td><td style=\"text-align: right;\"> 2.47141e+09</td></tr>\n",
       "<tr><td style=\"text-align: right;\">29</td><td style=\"text-align: right;\">      6.52683</td><td style=\"text-align: right;\">0.0130135 </td><td style=\"text-align: right;\">      281.357</td><td style=\"text-align: right;\">0.000124832</td><td style=\"text-align: right;\">    9</td><td style=\"text-align: right;\">             9.59543e-05</td><td style=\"text-align: right;\">             0.341042 </td><td style=\"text-align: right;\">690404          </td><td style=\"text-align: right;\">      6.52714</td><td style=\"text-align: right;\">0.0130477 </td><td style=\"text-align: right;\">      283.361</td><td style=\"text-align: right;\">9.80926e-05</td><td style=\"text-align: right;\">    9</td><td style=\"text-align: right;\">             7.54007e-05</td><td style=\"text-align: right;\">              0.266094</td><td style=\"text-align: right;\">379990          </td><td style=\"text-align: right;\">     2.00486</td><td style=\"text-align: right;\">         0.000112698</td><td style=\"text-align: right;\">                      56.2126</td><td style=\"text-align: right;\">                     0.400554</td><td style=\"text-align: right;\">                     0.39772 </td><td style=\"text-align: right;\">2.12958</td><td style=\"text-align: right;\">5.29205e-05</td><td style=\"text-align: right;\"> 7.18039e+09</td></tr>\n",
       "<tr><td style=\"text-align: right;\">30</td><td style=\"text-align: right;\">      6.52807</td><td style=\"text-align: right;\">0.00993441</td><td style=\"text-align: right;\">      281.452</td><td style=\"text-align: right;\">0.000123922</td><td style=\"text-align: right;\">    6</td><td style=\"text-align: right;\">             0.000130048</td><td style=\"text-align: right;\">             0.462062 </td><td style=\"text-align: right;\">680330          </td><td style=\"text-align: right;\">      6.52793</td><td style=\"text-align: right;\">0.00970723</td><td style=\"text-align: right;\">      283.457</td><td style=\"text-align: right;\">0.000108967</td><td style=\"text-align: right;\">    6</td><td style=\"text-align: right;\">             0.000114354</td><td style=\"text-align: right;\">              0.403427</td><td style=\"text-align: right;\">264131          </td><td style=\"text-align: right;\">     2.00491</td><td style=\"text-align: right;\">         0.000150438</td><td style=\"text-align: right;\">                      75.0349</td><td style=\"text-align: right;\">                     0.534509</td><td style=\"text-align: right;\">                     0.530728</td><td style=\"text-align: right;\">2.23309</td><td style=\"text-align: right;\">6.73678e-05</td><td style=\"text-align: right;\"> 3.92073e+09</td></tr>\n",
       "<tr><td style=\"text-align: right;\">31</td><td style=\"text-align: right;\">      6.52815</td><td style=\"text-align: right;\">0.00995298</td><td style=\"text-align: right;\">      281.49 </td><td style=\"text-align: right;\">0.000110469</td><td style=\"text-align: right;\">    6</td><td style=\"text-align: right;\">             0.00011593 </td><td style=\"text-align: right;\">             0.411845 </td><td style=\"text-align: right;\">492055          </td><td style=\"text-align: right;\">      6.52783</td><td style=\"text-align: right;\">0.0096208 </td><td style=\"text-align: right;\">      283.494</td><td style=\"text-align: right;\">0.000255657</td><td style=\"text-align: right;\">    6</td><td style=\"text-align: right;\">             0.000268295</td><td style=\"text-align: right;\">              0.946388</td><td style=\"text-align: right;\">114129          </td><td style=\"text-align: right;\">     2.00418</td><td style=\"text-align: right;\">         0.00027043 </td><td style=\"text-align: right;\">                     134.933 </td><td style=\"text-align: right;\">                     0.96071 </td><td style=\"text-align: right;\">                     0.953918</td><td style=\"text-align: right;\">2.37849</td><td style=\"text-align: right;\">0.000113698</td><td style=\"text-align: right;\"> 1.00379e+09</td></tr>\n",
       "<tr><td style=\"text-align: right;\">32</td><td style=\"text-align: right;\">      6.5282 </td><td style=\"text-align: right;\">0.012672  </td><td style=\"text-align: right;\">      280.321</td><td style=\"text-align: right;\">0.000117916</td><td style=\"text-align: right;\">    8</td><td style=\"text-align: right;\">             9.858e-05  </td><td style=\"text-align: right;\">             0.351668 </td><td style=\"text-align: right;\">679015          </td><td style=\"text-align: right;\">      6.52815</td><td style=\"text-align: right;\">0.0125543 </td><td style=\"text-align: right;\">      282.326</td><td style=\"text-align: right;\">0.00015952 </td><td style=\"text-align: right;\">    8</td><td style=\"text-align: right;\">             0.000133362</td><td style=\"text-align: right;\">              0.472369</td><td style=\"text-align: right;\">142248          </td><td style=\"text-align: right;\">     2.00543</td><td style=\"text-align: right;\">         0.000151647</td><td style=\"text-align: right;\">                      75.6182</td><td style=\"text-align: right;\">                     0.540976</td><td style=\"text-align: right;\">                     0.537134</td><td style=\"text-align: right;\">2.16223</td><td style=\"text-align: right;\">7.01346e-05</td><td style=\"text-align: right;\"> 2.02821e+09</td></tr>\n",
       "<tr><td style=\"text-align: right;\">33</td><td style=\"text-align: right;\">      6.72712</td><td style=\"text-align: right;\">0.0137024 </td><td style=\"text-align: right;\">      289.173</td><td style=\"text-align: right;\">0.00011076 </td><td style=\"text-align: right;\">    6</td><td style=\"text-align: right;\">             0.000116236</td><td style=\"text-align: right;\">             0.401959 </td><td style=\"text-align: right;\">430350          </td><td style=\"text-align: right;\">      6.72686</td><td style=\"text-align: right;\">0.0133842 </td><td style=\"text-align: right;\">      291.177</td><td style=\"text-align: right;\">0.000170579</td><td style=\"text-align: right;\">    6</td><td style=\"text-align: right;\">             0.000179012</td><td style=\"text-align: right;\">              0.614788</td><td style=\"text-align: right;\">344002          </td><td style=\"text-align: right;\">     2.00417</td><td style=\"text-align: right;\">         0.000189241</td><td style=\"text-align: right;\">                      94.4238</td><td style=\"text-align: right;\">                     0.654423</td><td style=\"text-align: right;\">                     0.649919</td><td style=\"text-align: right;\">2.27916</td><td style=\"text-align: right;\">8.30312e-05</td><td style=\"text-align: right;\"> 4.14304e+09</td></tr>\n",
       "<tr><td style=\"text-align: right;\">34</td><td style=\"text-align: right;\">      6.72893</td><td style=\"text-align: right;\">0.014982  </td><td style=\"text-align: right;\">      288.17 </td><td style=\"text-align: right;\">1.58408e-05</td><td style=\"text-align: right;\">    5</td><td style=\"text-align: right;\">             1.96689e-05</td><td style=\"text-align: right;\">             0.0682547</td><td style=\"text-align: right;\">     1.97484e+06</td><td style=\"text-align: right;\">      6.72872</td><td style=\"text-align: right;\">0.0150185 </td><td style=\"text-align: right;\">      290.174</td><td style=\"text-align: right;\">3.04002e-05</td><td style=\"text-align: right;\">    5</td><td style=\"text-align: right;\">             3.77468e-05</td><td style=\"text-align: right;\">              0.130083</td><td style=\"text-align: right;\">     1.83663e+06</td><td style=\"text-align: right;\">     2.0042 </td><td style=\"text-align: right;\">         3.74773e-05</td><td style=\"text-align: right;\">                      18.6994</td><td style=\"text-align: right;\">                     0.130053</td><td style=\"text-align: right;\">                     0.129155</td><td style=\"text-align: right;\">2.44465</td><td style=\"text-align: right;\">1.53304e-05</td><td style=\"text-align: right;\"> 1.19804e+11</td></tr>\n",
       "<tr><td style=\"text-align: right;\">35</td><td style=\"text-align: right;\">      6.75974</td><td style=\"text-align: right;\">0.0237898 </td><td style=\"text-align: right;\">      288.169</td><td style=\"text-align: right;\">6.39506e-05</td><td style=\"text-align: right;\">    4</td><td style=\"text-align: right;\">             0.00010176 </td><td style=\"text-align: right;\">             0.353125 </td><td style=\"text-align: right;\">443544          </td><td style=\"text-align: right;\">      6.75902</td><td style=\"text-align: right;\">0.0247776 </td><td style=\"text-align: right;\">      290.173</td><td style=\"text-align: right;\">0.000264733</td><td style=\"text-align: right;\">    4</td><td style=\"text-align: right;\">             0.000421249</td><td style=\"text-align: right;\">              1.45172 </td><td style=\"text-align: right;\">395380          </td><td style=\"text-align: right;\">     2.00417</td><td style=\"text-align: right;\">         0.000408908</td><td style=\"text-align: right;\">                     204.029 </td><td style=\"text-align: right;\">                     1.41899 </td><td style=\"text-align: right;\">                     1.40919 </td><td style=\"text-align: right;\">3.00284</td><td style=\"text-align: right;\">0.000136174</td><td style=\"text-align: right;\"> 2.9035e+09 </td></tr>\n",
       "<tr><td style=\"text-align: right;\">36</td><td style=\"text-align: right;\">      6.96141</td><td style=\"text-align: right;\">0.00683357</td><td style=\"text-align: right;\">      297.549</td><td style=\"text-align: right;\">4.66844e-05</td><td style=\"text-align: right;\">    4</td><td style=\"text-align: right;\">             7.42853e-05</td><td style=\"text-align: right;\">             0.249657 </td><td style=\"text-align: right;\">131031          </td><td style=\"text-align: right;\">      6.96106</td><td style=\"text-align: right;\">0.00693855</td><td style=\"text-align: right;\">      299.553</td><td style=\"text-align: right;\">6.42194e-05</td><td style=\"text-align: right;\">    4</td><td style=\"text-align: right;\">             0.000102187</td><td style=\"text-align: right;\">              0.341132</td><td style=\"text-align: right;\">894906          </td><td style=\"text-align: right;\">     2.00441</td><td style=\"text-align: right;\">         9.9422e-05 </td><td style=\"text-align: right;\">                      49.6016</td><td style=\"text-align: right;\">                     0.334136</td><td style=\"text-align: right;\">                     0.331901</td><td style=\"text-align: right;\">2.50449</td><td style=\"text-align: right;\">3.96975e-05</td><td style=\"text-align: right;\"> 2.25431e+10</td></tr>\n",
       "<tr><td style=\"text-align: right;\">37</td><td style=\"text-align: right;\">      6.96866</td><td style=\"text-align: right;\">0.00987455</td><td style=\"text-align: right;\">      297.468</td><td style=\"text-align: right;\">4.25519e-05</td><td style=\"text-align: right;\">    4</td><td style=\"text-align: right;\">             6.77096e-05</td><td style=\"text-align: right;\">             0.22762  </td><td style=\"text-align: right;\">     2.27195e+06</td><td style=\"text-align: right;\">      6.9686 </td><td style=\"text-align: right;\">0.0100043 </td><td style=\"text-align: right;\">      299.474</td><td style=\"text-align: right;\">9.6666e-05 </td><td style=\"text-align: right;\">    4</td><td style=\"text-align: right;\">             0.000153817</td><td style=\"text-align: right;\">              0.513625</td><td style=\"text-align: right;\">471221          </td><td style=\"text-align: right;\">     2.00574</td><td style=\"text-align: right;\">         0.000144944</td><td style=\"text-align: right;\">                      72.2646</td><td style=\"text-align: right;\">                     0.487258</td><td style=\"text-align: right;\">                     0.483995</td><td style=\"text-align: right;\">2.7447 </td><td style=\"text-align: right;\">5.28086e-05</td><td style=\"text-align: right;\"> 8.92319e+09</td></tr>\n",
       "<tr><td style=\"text-align: right;\">38</td><td style=\"text-align: right;\">      6.96964</td><td style=\"text-align: right;\">0.0138328 </td><td style=\"text-align: right;\">      294.745</td><td style=\"text-align: right;\">9.07879e-05</td><td style=\"text-align: right;\">    9</td><td style=\"text-align: right;\">             6.97857e-05</td><td style=\"text-align: right;\">             0.236766 </td><td style=\"text-align: right;\">515375          </td><td style=\"text-align: right;\">      6.96901</td><td style=\"text-align: right;\">0.0141501 </td><td style=\"text-align: right;\">      296.75 </td><td style=\"text-align: right;\">0.000109641</td><td style=\"text-align: right;\">    9</td><td style=\"text-align: right;\">             8.42777e-05</td><td style=\"text-align: right;\">              0.284002</td><td style=\"text-align: right;\">701840          </td><td style=\"text-align: right;\">     2.00544</td><td style=\"text-align: right;\">         0.000100875</td><td style=\"text-align: right;\">                      50.3007</td><td style=\"text-align: right;\">                     0.342244</td><td style=\"text-align: right;\">                     0.339932</td><td style=\"text-align: right;\">2.12591</td><td style=\"text-align: right;\">4.74501e-05</td><td style=\"text-align: right;\"> 1.47911e+10</td></tr>\n",
       "<tr><td style=\"text-align: right;\">39</td><td style=\"text-align: right;\">      6.96984</td><td style=\"text-align: right;\">0.0136294 </td><td style=\"text-align: right;\">      294.66 </td><td style=\"text-align: right;\">0.000105805</td><td style=\"text-align: right;\">    9</td><td style=\"text-align: right;\">             8.13292e-05</td><td style=\"text-align: right;\">             0.27601  </td><td style=\"text-align: right;\">512653          </td><td style=\"text-align: right;\">      6.96907</td><td style=\"text-align: right;\">0.0139967 </td><td style=\"text-align: right;\">      296.666</td><td style=\"text-align: right;\">0.000104567</td><td style=\"text-align: right;\">    9</td><td style=\"text-align: right;\">             8.03769e-05</td><td style=\"text-align: right;\">              0.270934</td><td style=\"text-align: right;\">     1.07488e+06</td><td style=\"text-align: right;\">     2.00533</td><td style=\"text-align: right;\">         0.000105119</td><td style=\"text-align: right;\">                      52.4197</td><td style=\"text-align: right;\">                     0.356746</td><td style=\"text-align: right;\">                     0.354334</td><td style=\"text-align: right;\">2.11993</td><td style=\"text-align: right;\">4.9586e-05 </td><td style=\"text-align: right;\"> 2.16772e+10</td></tr>\n",
       "<tr><td style=\"text-align: right;\">40</td><td style=\"text-align: right;\">      6.971  </td><td style=\"text-align: right;\">0.0152828 </td><td style=\"text-align: right;\">      296.666</td><td style=\"text-align: right;\">0.000117653</td><td style=\"text-align: right;\">   10</td><td style=\"text-align: right;\">             8.41635e-05</td><td style=\"text-align: right;\">             0.283698 </td><td style=\"text-align: right;\">     1.15798e+06</td><td style=\"text-align: right;\">      6.97119</td><td style=\"text-align: right;\">0.0156664 </td><td style=\"text-align: right;\">      298.668</td><td style=\"text-align: right;\">0.00012139 </td><td style=\"text-align: right;\">   10</td><td style=\"text-align: right;\">             8.68375e-05</td><td style=\"text-align: right;\">              0.290749</td><td style=\"text-align: right;\">829537          </td><td style=\"text-align: right;\">     2.00221</td><td style=\"text-align: right;\">         0.000112319</td><td style=\"text-align: right;\">                      56.0976</td><td style=\"text-align: right;\">                     0.378606</td><td style=\"text-align: right;\">                     0.376068</td><td style=\"text-align: right;\">2.10107</td><td style=\"text-align: right;\">5.34582e-05</td><td style=\"text-align: right;\"> 1.55175e+10</td></tr>\n",
       "<tr><td style=\"text-align: right;\">41</td><td style=\"text-align: right;\">      6.97119</td><td style=\"text-align: right;\">0.010037  </td><td style=\"text-align: right;\">      294.525</td><td style=\"text-align: right;\">0.000107834</td><td style=\"text-align: right;\">    6</td><td style=\"text-align: right;\">             0.000113165</td><td style=\"text-align: right;\">             0.384229 </td><td style=\"text-align: right;\">     2.58695e+06</td><td style=\"text-align: right;\">      6.97108</td><td style=\"text-align: right;\">0.0100142 </td><td style=\"text-align: right;\">      296.53 </td><td style=\"text-align: right;\">8.72111e-05</td><td style=\"text-align: right;\">    6</td><td style=\"text-align: right;\">             9.15224e-05</td><td style=\"text-align: right;\">              0.308645</td><td style=\"text-align: right;\">     5.56541e+06</td><td style=\"text-align: right;\">     2.00508</td><td style=\"text-align: right;\">         0.000126906</td><td style=\"text-align: right;\">                      63.292 </td><td style=\"text-align: right;\">                     0.430884</td><td style=\"text-align: right;\">                     0.42797 </td><td style=\"text-align: right;\">2.24142</td><td style=\"text-align: right;\">5.66185e-05</td><td style=\"text-align: right;\"> 9.82966e+10</td></tr>\n",
       "<tr><td style=\"text-align: right;\">42</td><td style=\"text-align: right;\">      6.97125</td><td style=\"text-align: right;\">0.0153179 </td><td style=\"text-align: right;\">      294.702</td><td style=\"text-align: right;\">8.26817e-05</td><td style=\"text-align: right;\">   10</td><td style=\"text-align: right;\">             5.91469e-05</td><td style=\"text-align: right;\">             0.200701 </td><td style=\"text-align: right;\">     1.77704e+06</td><td style=\"text-align: right;\">      6.97098</td><td style=\"text-align: right;\">0.0152349 </td><td style=\"text-align: right;\">      296.707</td><td style=\"text-align: right;\">7.96424e-05</td><td style=\"text-align: right;\">   10</td><td style=\"text-align: right;\">             5.69727e-05</td><td style=\"text-align: right;\">              0.192017</td><td style=\"text-align: right;\">     3.23785e+06</td><td style=\"text-align: right;\">     2.00518</td><td style=\"text-align: right;\">         7.62777e-05</td><td style=\"text-align: right;\">                      38.0404</td><td style=\"text-align: right;\">                     0.25883 </td><td style=\"text-align: right;\">                     0.257081</td><td style=\"text-align: right;\">2.10113</td><td style=\"text-align: right;\">3.63031e-05</td><td style=\"text-align: right;\"> 8.91892e+10</td></tr>\n",
       "<tr><td style=\"text-align: right;\">43</td><td style=\"text-align: right;\">      6.97139</td><td style=\"text-align: right;\">0.012651  </td><td style=\"text-align: right;\">      297.685</td><td style=\"text-align: right;\">0.000133214</td><td style=\"text-align: right;\">    8</td><td style=\"text-align: right;\">             0.00011137 </td><td style=\"text-align: right;\">             0.37412  </td><td style=\"text-align: right;\">478251          </td><td style=\"text-align: right;\">      6.97116</td><td style=\"text-align: right;\">0.0124589 </td><td style=\"text-align: right;\">      299.688</td><td style=\"text-align: right;\">0.000152601</td><td style=\"text-align: right;\">    8</td><td style=\"text-align: right;\">             0.000127578</td><td style=\"text-align: right;\">              0.425702</td><td style=\"text-align: right;\">303765          </td><td style=\"text-align: right;\">     2.00247</td><td style=\"text-align: right;\">         0.000153869</td><td style=\"text-align: right;\">                      76.8394</td><td style=\"text-align: right;\">                     0.516884</td><td style=\"text-align: right;\">                     0.51343 </td><td style=\"text-align: right;\">2.14846</td><td style=\"text-align: right;\">7.16181e-05</td><td style=\"text-align: right;\"> 4.24146e+09</td></tr>\n",
       "<tr><td style=\"text-align: right;\">44</td><td style=\"text-align: right;\">      6.97175</td><td style=\"text-align: right;\">0.0143609 </td><td style=\"text-align: right;\">      294.214</td><td style=\"text-align: right;\">4.94206e-05</td><td style=\"text-align: right;\">    7</td><td style=\"text-align: right;\">             4.57064e-05</td><td style=\"text-align: right;\">             0.155351 </td><td style=\"text-align: right;\">     4.71826e+07</td><td style=\"text-align: right;\">      6.97276</td><td style=\"text-align: right;\">0.0155315 </td><td style=\"text-align: right;\">      296.218</td><td style=\"text-align: right;\">0.000232239</td><td style=\"text-align: right;\">    7</td><td style=\"text-align: right;\">             0.000214785</td><td style=\"text-align: right;\">              0.725092</td><td style=\"text-align: right;\">     3.34547e+07</td><td style=\"text-align: right;\">     2.00365</td><td style=\"text-align: right;\">         0.000215257</td><td style=\"text-align: right;\">                     107.432 </td><td style=\"text-align: right;\">                     0.731632</td><td style=\"text-align: right;\">                     0.726684</td><td style=\"text-align: right;\">2.39858</td><td style=\"text-align: right;\">8.97435e-05</td><td style=\"text-align: right;\"> 3.72781e+11</td></tr>\n",
       "<tr><td style=\"text-align: right;\">45</td><td style=\"text-align: right;\">      6.97264</td><td style=\"text-align: right;\">0.0338217 </td><td style=\"text-align: right;\">      294.828</td><td style=\"text-align: right;\">5.59134e-05</td><td style=\"text-align: right;\">    4</td><td style=\"text-align: right;\">             8.89708e-05</td><td style=\"text-align: right;\">             0.301771 </td><td style=\"text-align: right;\">149195          </td><td style=\"text-align: right;\">      6.96766</td><td style=\"text-align: right;\">0.0327289 </td><td style=\"text-align: right;\">      296.834</td><td style=\"text-align: right;\">0.000192588</td><td style=\"text-align: right;\">    4</td><td style=\"text-align: right;\">             0.000306451</td><td style=\"text-align: right;\">              1.0324  </td><td style=\"text-align: right;\">134561          </td><td style=\"text-align: right;\">     2.00546</td><td style=\"text-align: right;\">         0.000294719</td><td style=\"text-align: right;\">                     146.958 </td><td style=\"text-align: right;\">                     0.999628</td><td style=\"text-align: right;\">                     0.992875</td><td style=\"text-align: right;\">2.93924</td><td style=\"text-align: right;\">0.00010027 </td><td style=\"text-align: right;\"> 1.34199e+09</td></tr>\n",
       "<tr><td style=\"text-align: right;\">46</td><td style=\"text-align: right;\">      6.97283</td><td style=\"text-align: right;\">0.0175109 </td><td style=\"text-align: right;\">      294.296</td><td style=\"text-align: right;\">0.000113525</td><td style=\"text-align: right;\">   13</td><td style=\"text-align: right;\">             6.86023e-05</td><td style=\"text-align: right;\">             0.233106 </td><td style=\"text-align: right;\">927061          </td><td style=\"text-align: right;\">      6.97245</td><td style=\"text-align: right;\">0.0178809 </td><td style=\"text-align: right;\">      296.301</td><td style=\"text-align: right;\">8.89144e-05</td><td style=\"text-align: right;\">   13</td><td style=\"text-align: right;\">             5.37304e-05</td><td style=\"text-align: right;\">              0.181337</td><td style=\"text-align: right;\">     2.30778e+06</td><td style=\"text-align: right;\">     2.00444</td><td style=\"text-align: right;\">         8.27947e-05</td><td style=\"text-align: right;\">                      41.3057</td><td style=\"text-align: right;\">                     0.281331</td><td style=\"text-align: right;\">                     0.279428</td><td style=\"text-align: right;\">2.07019</td><td style=\"text-align: right;\">3.99939e-05</td><td style=\"text-align: right;\"> 5.77033e+10</td></tr>\n",
       "<tr><td style=\"text-align: right;\">47</td><td style=\"text-align: right;\">      6.97298</td><td style=\"text-align: right;\">0.0181086 </td><td style=\"text-align: right;\">      294.611</td><td style=\"text-align: right;\">8.97921e-05</td><td style=\"text-align: right;\">   13</td><td style=\"text-align: right;\">             5.42608e-05</td><td style=\"text-align: right;\">             0.184178 </td><td style=\"text-align: right;\">     4.12271e+06</td><td style=\"text-align: right;\">      6.97263</td><td style=\"text-align: right;\">0.0181164 </td><td style=\"text-align: right;\">      296.617</td><td style=\"text-align: right;\">0.000155142</td><td style=\"text-align: right;\">   13</td><td style=\"text-align: right;\">             9.37511e-05</td><td style=\"text-align: right;\">              0.316068</td><td style=\"text-align: right;\">     8.62985e+06</td><td style=\"text-align: right;\">     2.00583</td><td style=\"text-align: right;\">         0.000103973</td><td style=\"text-align: right;\">                      51.8351</td><td style=\"text-align: right;\">                     0.352915</td><td style=\"text-align: right;\">                     0.350528</td><td style=\"text-align: right;\">2.09134</td><td style=\"text-align: right;\">4.97158e-05</td><td style=\"text-align: right;\"> 1.73584e+11</td></tr>\n",
       "<tr><td style=\"text-align: right;\">48</td><td style=\"text-align: right;\">      6.97351</td><td style=\"text-align: right;\">0.0188043 </td><td style=\"text-align: right;\">      295.301</td><td style=\"text-align: right;\">8.68608e-05</td><td style=\"text-align: right;\">   13</td><td style=\"text-align: right;\">             5.24895e-05</td><td style=\"text-align: right;\">             0.177749 </td><td style=\"text-align: right;\">822546          </td><td style=\"text-align: right;\">      6.97305</td><td style=\"text-align: right;\">0.0190694 </td><td style=\"text-align: right;\">      297.305</td><td style=\"text-align: right;\">0.000136198</td><td style=\"text-align: right;\">   13</td><td style=\"text-align: right;\">             8.23037e-05</td><td style=\"text-align: right;\">              0.276832</td><td style=\"text-align: right;\">     1.40708e+06</td><td style=\"text-align: right;\">     2.00451</td><td style=\"text-align: right;\">         9.33465e-05</td><td style=\"text-align: right;\">                      46.5682</td><td style=\"text-align: right;\">                     0.316107</td><td style=\"text-align: right;\">                     0.313975</td><td style=\"text-align: right;\">2.0835 </td><td style=\"text-align: right;\">4.48028e-05</td><td style=\"text-align: right;\"> 3.14061e+10</td></tr>\n",
       "<tr><td style=\"text-align: right;\">49</td><td style=\"text-align: right;\">      6.97358</td><td style=\"text-align: right;\">0.0165225 </td><td style=\"text-align: right;\">      297.468</td><td style=\"text-align: right;\">3.27313e-05</td><td style=\"text-align: right;\">    4</td><td style=\"text-align: right;\">             5.20828e-05</td><td style=\"text-align: right;\">             0.175087 </td><td style=\"text-align: right;\">     1.90392e+06</td><td style=\"text-align: right;\">      6.97366</td><td style=\"text-align: right;\">0.0169116 </td><td style=\"text-align: right;\">      299.474</td><td style=\"text-align: right;\">5.08816e-05</td><td style=\"text-align: right;\">    4</td><td style=\"text-align: right;\">             8.0964e-05 </td><td style=\"text-align: right;\">              0.270355</td><td style=\"text-align: right;\">436749          </td><td style=\"text-align: right;\">     2.00576</td><td style=\"text-align: right;\">         7.7216e-05 </td><td style=\"text-align: right;\">                      38.4971</td><td style=\"text-align: right;\">                     0.259578</td><td style=\"text-align: right;\">                     0.257839</td><td style=\"text-align: right;\">2.55258</td><td style=\"text-align: right;\">3.02501e-05</td><td style=\"text-align: right;\"> 1.44379e+10</td></tr>\n",
       "<tr><td style=\"text-align: right;\">50</td><td style=\"text-align: right;\">      6.9741 </td><td style=\"text-align: right;\">0.019139  </td><td style=\"text-align: right;\">      294.434</td><td style=\"text-align: right;\">0.00016372 </td><td style=\"text-align: right;\">   14</td><td style=\"text-align: right;\">             9.45294e-05</td><td style=\"text-align: right;\">             0.321055 </td><td style=\"text-align: right;\">     2.48285e+06</td><td style=\"text-align: right;\">      6.97361</td><td style=\"text-align: right;\">0.0188956 </td><td style=\"text-align: right;\">      296.439</td><td style=\"text-align: right;\">0.000112499</td><td style=\"text-align: right;\">   14</td><td style=\"text-align: right;\">             6.49548e-05</td><td style=\"text-align: right;\">              0.219117</td><td style=\"text-align: right;\">     5.95237e+06</td><td style=\"text-align: right;\">     2.0054 </td><td style=\"text-align: right;\">         0.000109816</td><td style=\"text-align: right;\">                      54.7601</td><td style=\"text-align: right;\">                     0.372973</td><td style=\"text-align: right;\">                     0.37045 </td><td style=\"text-align: right;\">2.06847</td><td style=\"text-align: right;\">5.30905e-05</td><td style=\"text-align: right;\"> 1.12118e+11</td></tr>\n",
       "<tr><td style=\"text-align: right;\">51</td><td style=\"text-align: right;\">      6.97463</td><td style=\"text-align: right;\">0.0496675 </td><td style=\"text-align: right;\">      294.377</td><td style=\"text-align: right;\">5.12916e-05</td><td style=\"text-align: right;\">    4</td><td style=\"text-align: right;\">             8.16164e-05</td><td style=\"text-align: right;\">             0.277251 </td><td style=\"text-align: right;\">547752          </td><td style=\"text-align: right;\">      6.97092</td><td style=\"text-align: right;\">0.0485959 </td><td style=\"text-align: right;\">      296.382</td><td style=\"text-align: right;\">0.000491796</td><td style=\"text-align: right;\">    4</td><td style=\"text-align: right;\">             0.000782557</td><td style=\"text-align: right;\">              2.64036 </td><td style=\"text-align: right;\">     1.36896e+06</td><td style=\"text-align: right;\">     2.00537</td><td style=\"text-align: right;\">         0.00077741 </td><td style=\"text-align: right;\">                     387.665 </td><td style=\"text-align: right;\">                     2.64087 </td><td style=\"text-align: right;\">                     2.623   </td><td style=\"text-align: right;\">3.14446</td><td style=\"text-align: right;\">0.000247232</td><td style=\"text-align: right;\"> 5.53717e+09</td></tr>\n",
       "<tr><td style=\"text-align: right;\">52</td><td style=\"text-align: right;\">      6.97537</td><td style=\"text-align: right;\">0.0161248 </td><td style=\"text-align: right;\">      295.378</td><td style=\"text-align: right;\">0.000106016</td><td style=\"text-align: right;\">    9</td><td style=\"text-align: right;\">             8.14911e-05</td><td style=\"text-align: right;\">             0.275887 </td><td style=\"text-align: right;\">     3.87778e+06</td><td style=\"text-align: right;\">      6.97505</td><td style=\"text-align: right;\">0.016123  </td><td style=\"text-align: right;\">      297.383</td><td style=\"text-align: right;\">0.000335301</td><td style=\"text-align: right;\">    9</td><td style=\"text-align: right;\">             0.000257735</td><td style=\"text-align: right;\">              0.866675</td><td style=\"text-align: right;\">     8.50533e+06</td><td style=\"text-align: right;\">     2.00511</td><td style=\"text-align: right;\">         0.00026273 </td><td style=\"text-align: right;\">                     131.03  </td><td style=\"text-align: right;\">                     0.889468</td><td style=\"text-align: right;\">                     0.883471</td><td style=\"text-align: right;\">2.24133</td><td style=\"text-align: right;\">0.000117221</td><td style=\"text-align: right;\"> 7.25584e+10</td></tr>\n",
       "<tr><td style=\"text-align: right;\">53</td><td style=\"text-align: right;\">      6.98025</td><td style=\"text-align: right;\">0.0196814 </td><td style=\"text-align: right;\">      294.828</td><td style=\"text-align: right;\">2.97726e-05</td><td style=\"text-align: right;\">    4</td><td style=\"text-align: right;\">             4.73749e-05</td><td style=\"text-align: right;\">             0.160686 </td><td style=\"text-align: right;\">279219          </td><td style=\"text-align: right;\">      6.97958</td><td style=\"text-align: right;\">0.0199617 </td><td style=\"text-align: right;\">      296.834</td><td style=\"text-align: right;\">0.000107994</td><td style=\"text-align: right;\">    4</td><td style=\"text-align: right;\">             0.000171843</td><td style=\"text-align: right;\">              0.57892 </td><td style=\"text-align: right;\">281578          </td><td style=\"text-align: right;\">     2.00585</td><td style=\"text-align: right;\">         0.000165719</td><td style=\"text-align: right;\">                      82.6176</td><td style=\"text-align: right;\">                     0.562085</td><td style=\"text-align: right;\">                     0.558287</td><td style=\"text-align: right;\">2.95865</td><td style=\"text-align: right;\">5.60116e-05</td><td style=\"text-align: right;\"> 5.02714e+09</td></tr>\n",
       "<tr><td style=\"text-align: right;\">54</td><td style=\"text-align: right;\">      6.98966</td><td style=\"text-align: right;\">0.033579  </td><td style=\"text-align: right;\">      294.702</td><td style=\"text-align: right;\">0.000110998</td><td style=\"text-align: right;\">    6</td><td style=\"text-align: right;\">             0.000116485</td><td style=\"text-align: right;\">             0.395263 </td><td style=\"text-align: right;\">412965          </td><td style=\"text-align: right;\">      6.98729</td><td style=\"text-align: right;\">0.034884  </td><td style=\"text-align: right;\">      296.707</td><td style=\"text-align: right;\">0.000103639</td><td style=\"text-align: right;\">    6</td><td style=\"text-align: right;\">             0.000108763</td><td style=\"text-align: right;\">              0.366566</td><td style=\"text-align: right;\">701677          </td><td style=\"text-align: right;\">     2.00531</td><td style=\"text-align: right;\">         0.000138225</td><td style=\"text-align: right;\">                      68.9297</td><td style=\"text-align: right;\">                     0.469034</td><td style=\"text-align: right;\">                     0.465864</td><td style=\"text-align: right;\">2.22956</td><td style=\"text-align: right;\">6.19967e-05</td><td style=\"text-align: right;\"> 1.1318e+10 </td></tr>\n",
       "<tr><td style=\"text-align: right;\">55</td><td style=\"text-align: right;\">      6.99812</td><td style=\"text-align: right;\">0.0445394 </td><td style=\"text-align: right;\">      294.613</td><td style=\"text-align: right;\">3.52019e-05</td><td style=\"text-align: right;\">    4</td><td style=\"text-align: right;\">             5.60141e-05</td><td style=\"text-align: right;\">             0.190128 </td><td style=\"text-align: right;\">223424          </td><td style=\"text-align: right;\">      6.99788</td><td style=\"text-align: right;\">0.0451899 </td><td style=\"text-align: right;\">      296.617</td><td style=\"text-align: right;\">0.000303344</td><td style=\"text-align: right;\">    4</td><td style=\"text-align: right;\">             0.000482688</td><td style=\"text-align: right;\">              1.62731 </td><td style=\"text-align: right;\">478289          </td><td style=\"text-align: right;\">     2.00492</td><td style=\"text-align: right;\">         0.000478798</td><td style=\"text-align: right;\">                     238.812 </td><td style=\"text-align: right;\">                     1.62518 </td><td style=\"text-align: right;\">                     1.61419 </td><td style=\"text-align: right;\">3.13575</td><td style=\"text-align: right;\">0.00015269 </td><td style=\"text-align: right;\"> 3.13242e+09</td></tr>\n",
       "<tr><td style=\"text-align: right;\">56</td><td style=\"text-align: right;\">      7.02648</td><td style=\"text-align: right;\">0.0551618 </td><td style=\"text-align: right;\">      295.21 </td><td style=\"text-align: right;\">0.000254892</td><td style=\"text-align: right;\">   40</td><td style=\"text-align: right;\">             8.15184e-05</td><td style=\"text-align: right;\">             0.276137 </td><td style=\"text-align: right;\">     9.56788e+06</td><td style=\"text-align: right;\">      7.02655</td><td style=\"text-align: right;\">0.0561763 </td><td style=\"text-align: right;\">      297.215</td><td style=\"text-align: right;\">0.000394482</td><td style=\"text-align: right;\">   40</td><td style=\"text-align: right;\">             0.000126161</td><td style=\"text-align: right;\">              0.424479</td><td style=\"text-align: right;\">     1.54307e+07</td><td style=\"text-align: right;\">     2.00448</td><td style=\"text-align: right;\">         0.000148236</td><td style=\"text-align: right;\">                      73.9524</td><td style=\"text-align: right;\">                     0.502136</td><td style=\"text-align: right;\">                     0.49875 </td><td style=\"text-align: right;\">1.99616</td><td style=\"text-align: right;\">7.42606e-05</td><td style=\"text-align: right;\"> 2.07791e+11</td></tr>\n",
       "<tr><td style=\"text-align: right;\">57</td><td style=\"text-align: right;\">      7.11275</td><td style=\"text-align: right;\">0.106349  </td><td style=\"text-align: right;\">      294.206</td><td style=\"text-align: right;\">0.000206926</td><td style=\"text-align: right;\">   80</td><td style=\"text-align: right;\">             4.60491e-05</td><td style=\"text-align: right;\">             0.15652  </td><td style=\"text-align: right;\">     1.6771e+07 </td><td style=\"text-align: right;\">      7.11478</td><td style=\"text-align: right;\">0.10683   </td><td style=\"text-align: right;\">      296.211</td><td style=\"text-align: right;\">0.000419747</td><td style=\"text-align: right;\">   80</td><td style=\"text-align: right;\">             9.341e-05  </td><td style=\"text-align: right;\">              0.31535 </td><td style=\"text-align: right;\">     3.00694e+07</td><td style=\"text-align: right;\">     2.00455</td><td style=\"text-align: right;\">         0.000103637</td><td style=\"text-align: right;\">                      51.7008</td><td style=\"text-align: right;\">                     0.352259</td><td style=\"text-align: right;\">                     0.349875</td><td style=\"text-align: right;\">1.98076</td><td style=\"text-align: right;\">5.23218e-05</td><td style=\"text-align: right;\"> 5.74701e+11</td></tr>\n",
       "<tr><td style=\"text-align: right;\">58</td><td style=\"text-align: right;\">      7.17681</td><td style=\"text-align: right;\">0.0146601 </td><td style=\"text-align: right;\">      282.17 </td><td style=\"text-align: right;\">8.06197e-05</td><td style=\"text-align: right;\">    5</td><td style=\"text-align: right;\">             0.000100103</td><td style=\"text-align: right;\">             0.35476  </td><td style=\"text-align: right;\">388374          </td><td style=\"text-align: right;\">      7.17684</td><td style=\"text-align: right;\">0.0146471 </td><td style=\"text-align: right;\">      284.174</td><td style=\"text-align: right;\">0.000199859</td><td style=\"text-align: right;\">    5</td><td style=\"text-align: right;\">             0.000248157</td><td style=\"text-align: right;\">              0.873257</td><td style=\"text-align: right;\">662846          </td><td style=\"text-align: right;\">     2.00437</td><td style=\"text-align: right;\">         0.000244   </td><td style=\"text-align: right;\">                     121.734 </td><td style=\"text-align: right;\">                     0.864728</td><td style=\"text-align: right;\">                     0.858629</td><td style=\"text-align: right;\">2.53172</td><td style=\"text-align: right;\">9.63774e-05</td><td style=\"text-align: right;\"> 6.87761e+09</td></tr>\n",
       "<tr><td style=\"text-align: right;\">59</td><td style=\"text-align: right;\">      7.17995</td><td style=\"text-align: right;\">0.0129439 </td><td style=\"text-align: right;\">      283.173</td><td style=\"text-align: right;\">4.71628e-05</td><td style=\"text-align: right;\">    4</td><td style=\"text-align: right;\">             7.50466e-05</td><td style=\"text-align: right;\">             0.26502  </td><td style=\"text-align: right;\"> 63986.7        </td><td style=\"text-align: right;\">      7.18029</td><td style=\"text-align: right;\">0.0128635 </td><td style=\"text-align: right;\">      285.177</td><td style=\"text-align: right;\">0.00012937 </td><td style=\"text-align: right;\">    4</td><td style=\"text-align: right;\">             0.000205857</td><td style=\"text-align: right;\">              0.721856</td><td style=\"text-align: right;\"> 94855.5        </td><td style=\"text-align: right;\">     2.00383</td><td style=\"text-align: right;\">         0.000195547</td><td style=\"text-align: right;\">                      97.5868</td><td style=\"text-align: right;\">                     0.690557</td><td style=\"text-align: right;\">                     0.685705</td><td style=\"text-align: right;\">2.84022</td><td style=\"text-align: right;\">6.88494e-05</td><td style=\"text-align: right;\"> 1.37773e+09</td></tr>\n",
       "<tr><td style=\"text-align: right;\">60</td><td style=\"text-align: right;\">      7.55264</td><td style=\"text-align: right;\">0.0187898 </td><td style=\"text-align: right;\">      280.104</td><td style=\"text-align: right;\">7.38961e-05</td><td style=\"text-align: right;\">   15</td><td style=\"text-align: right;\">             4.09223e-05</td><td style=\"text-align: right;\">             0.146097 </td><td style=\"text-align: right;\">     6.33166e+06</td><td style=\"text-align: right;\">      7.55235</td><td style=\"text-align: right;\">0.0187335 </td><td style=\"text-align: right;\">      282.109</td><td style=\"text-align: right;\">9.41523e-05</td><td style=\"text-align: right;\">   15</td><td style=\"text-align: right;\">             5.21398e-05</td><td style=\"text-align: right;\">              0.184822</td><td style=\"text-align: right;\">     5.61029e+06</td><td style=\"text-align: right;\">     2.00433</td><td style=\"text-align: right;\">         6.34641e-05</td><td style=\"text-align: right;\">                      31.6635</td><td style=\"text-align: right;\">                     0.226573</td><td style=\"text-align: right;\">                     0.224963</td><td style=\"text-align: right;\">2.05363</td><td style=\"text-align: right;\">3.09034e-05</td><td style=\"text-align: right;\"> 1.81543e+11</td></tr>\n",
       "<tr><td style=\"text-align: right;\">61</td><td style=\"text-align: right;\">      7.55338</td><td style=\"text-align: right;\">0.0276035 </td><td style=\"text-align: right;\">      281.107</td><td style=\"text-align: right;\">6.4269e-05 </td><td style=\"text-align: right;\">    6</td><td style=\"text-align: right;\">             6.74462e-05</td><td style=\"text-align: right;\">             0.239931 </td><td style=\"text-align: right;\">269609          </td><td style=\"text-align: right;\">      7.55216</td><td style=\"text-align: right;\">0.0275827 </td><td style=\"text-align: right;\">      283.112</td><td style=\"text-align: right;\">0.000243063</td><td style=\"text-align: right;\">    6</td><td style=\"text-align: right;\">             0.000255079</td><td style=\"text-align: right;\">              0.900982</td><td style=\"text-align: right;\">211067          </td><td style=\"text-align: right;\">     2.00451</td><td style=\"text-align: right;\">         0.000254439</td><td style=\"text-align: right;\">                     126.933 </td><td style=\"text-align: right;\">                     0.905133</td><td style=\"text-align: right;\">                     0.898725</td><td style=\"text-align: right;\">2.47895</td><td style=\"text-align: right;\">0.00010264 </td><td style=\"text-align: right;\"> 2.05638e+09</td></tr>\n",
       "<tr><td style=\"text-align: right;\">62</td><td style=\"text-align: right;\">      7.55382</td><td style=\"text-align: right;\">0.0164172 </td><td style=\"text-align: right;\">      281.108</td><td style=\"text-align: right;\">0.000115711</td><td style=\"text-align: right;\">    8</td><td style=\"text-align: right;\">             9.67365e-05</td><td style=\"text-align: right;\">             0.344126 </td><td style=\"text-align: right;\">593150          </td><td style=\"text-align: right;\">      7.5535 </td><td style=\"text-align: right;\">0.0163231 </td><td style=\"text-align: right;\">      283.112</td><td style=\"text-align: right;\">0.000160301</td><td style=\"text-align: right;\">    8</td><td style=\"text-align: right;\">             0.000134015</td><td style=\"text-align: right;\">              0.473365</td><td style=\"text-align: right;\">465025          </td><td style=\"text-align: right;\">     2.00397</td><td style=\"text-align: right;\">         0.000151322</td><td style=\"text-align: right;\">                      75.5111</td><td style=\"text-align: right;\">                     0.538307</td><td style=\"text-align: right;\">                     0.534497</td><td style=\"text-align: right;\">2.16491</td><td style=\"text-align: right;\">6.98976e-05</td><td style=\"text-align: right;\"> 6.65295e+09</td></tr>\n",
       "<tr><td style=\"text-align: right;\">63</td><td style=\"text-align: right;\">      7.64404</td><td style=\"text-align: right;\">0.0820206 </td><td style=\"text-align: right;\">      288.168</td><td style=\"text-align: right;\">0.000213375</td><td style=\"text-align: right;\">   18</td><td style=\"text-align: right;\">             0.000106109</td><td style=\"text-align: right;\">             0.368218 </td><td style=\"text-align: right;\">210706          </td><td style=\"text-align: right;\">      7.64396</td><td style=\"text-align: right;\">0.0814921 </td><td style=\"text-align: right;\">      290.173</td><td style=\"text-align: right;\">0.000459981</td><td style=\"text-align: right;\">   18</td><td style=\"text-align: right;\">             0.000228743</td><td style=\"text-align: right;\">              0.788299</td><td style=\"text-align: right;\">202963          </td><td style=\"text-align: right;\">     2.00462</td><td style=\"text-align: right;\">         0.000246672</td><td style=\"text-align: right;\">                     123.052 </td><td style=\"text-align: right;\">                     0.855999</td><td style=\"text-align: right;\">                     0.850086</td><td style=\"text-align: right;\">2.06393</td><td style=\"text-align: right;\">0.000119515</td><td style=\"text-align: right;\"> 1.69822e+09</td></tr>\n",
       "<tr><td style=\"text-align: right;\">64</td><td style=\"text-align: right;\">      7.68468</td><td style=\"text-align: right;\">0.0479931 </td><td style=\"text-align: right;\">      292.191</td><td style=\"text-align: right;\">7.59668e-05</td><td style=\"text-align: right;\">    5</td><td style=\"text-align: right;\">             9.43253e-05</td><td style=\"text-align: right;\">             0.322821 </td><td style=\"text-align: right;\">424619          </td><td style=\"text-align: right;\">      7.67748</td><td style=\"text-align: right;\">0.0488178 </td><td style=\"text-align: right;\">      294.196</td><td style=\"text-align: right;\">0.00021273 </td><td style=\"text-align: right;\">    5</td><td style=\"text-align: right;\">             0.000264139</td><td style=\"text-align: right;\">              0.897834</td><td style=\"text-align: right;\">759499          </td><td style=\"text-align: right;\">     2.00533</td><td style=\"text-align: right;\">         0.000259619</td><td style=\"text-align: right;\">                     129.465 </td><td style=\"text-align: right;\">                     0.888528</td><td style=\"text-align: right;\">                     0.882471</td><td style=\"text-align: right;\">2.56998</td><td style=\"text-align: right;\">0.00010102 </td><td style=\"text-align: right;\"> 7.51831e+09</td></tr>\n",
       "<tr><td style=\"text-align: right;\">65</td><td style=\"text-align: right;\">      7.68762</td><td style=\"text-align: right;\">0.0165694 </td><td style=\"text-align: right;\">      293.194</td><td style=\"text-align: right;\">6.88278e-05</td><td style=\"text-align: right;\">    4</td><td style=\"text-align: right;\">             0.00010952 </td><td style=\"text-align: right;\">             0.373542 </td><td style=\"text-align: right;\">303650          </td><td style=\"text-align: right;\">      7.68618</td><td style=\"text-align: right;\">0.0166436 </td><td style=\"text-align: right;\">      295.199</td><td style=\"text-align: right;\">9.60708e-05</td><td style=\"text-align: right;\">    4</td><td style=\"text-align: right;\">             0.00015287 </td><td style=\"text-align: right;\">              0.517855</td><td style=\"text-align: right;\">487760          </td><td style=\"text-align: right;\">     2.00441</td><td style=\"text-align: right;\">         0.000148294</td><td style=\"text-align: right;\">                      73.9841</td><td style=\"text-align: right;\">                     0.505789</td><td style=\"text-align: right;\">                     0.502354</td><td style=\"text-align: right;\">2.5096 </td><td style=\"text-align: right;\">5.90908e-05</td><td style=\"text-align: right;\"> 8.25442e+09</td></tr>\n",
       "<tr><td style=\"text-align: right;\">66</td><td style=\"text-align: right;\">      7.6878 </td><td style=\"text-align: right;\">0.0126278 </td><td style=\"text-align: right;\">      292.191</td><td style=\"text-align: right;\">3.73753e-05</td><td style=\"text-align: right;\">    6</td><td style=\"text-align: right;\">             3.9223e-05 </td><td style=\"text-align: right;\">             0.134238 </td><td style=\"text-align: right;\">     2.68218e+06</td><td style=\"text-align: right;\">      7.68662</td><td style=\"text-align: right;\">0.0124727 </td><td style=\"text-align: right;\">      294.195</td><td style=\"text-align: right;\">7.25275e-05</td><td style=\"text-align: right;\">    6</td><td style=\"text-align: right;\">             7.6113e-05 </td><td style=\"text-align: right;\">              0.258716</td><td style=\"text-align: right;\">     4.6773e+06 </td><td style=\"text-align: right;\">     2.00444</td><td style=\"text-align: right;\">         7.77501e-05</td><td style=\"text-align: right;\">                      38.789 </td><td style=\"text-align: right;\">                     0.266094</td><td style=\"text-align: right;\">                     0.264281</td><td style=\"text-align: right;\">2.33417</td><td style=\"text-align: right;\">3.33095e-05</td><td style=\"text-align: right;\"> 1.40419e+11</td></tr>\n",
       "<tr><td style=\"text-align: right;\">67</td><td style=\"text-align: right;\">      8.01374</td><td style=\"text-align: right;\">0.0262537 </td><td style=\"text-align: right;\">      280.154</td><td style=\"text-align: right;\">0.000144134</td><td style=\"text-align: right;\">   11</td><td style=\"text-align: right;\">             9.68303e-05</td><td style=\"text-align: right;\">             0.345632 </td><td style=\"text-align: right;\">531073          </td><td style=\"text-align: right;\">      8.01376</td><td style=\"text-align: right;\">0.0263602 </td><td style=\"text-align: right;\">      282.159</td><td style=\"text-align: right;\">0.000208461</td><td style=\"text-align: right;\">   11</td><td style=\"text-align: right;\">             0.000140046</td><td style=\"text-align: right;\">              0.496337</td><td style=\"text-align: right;\">979395          </td><td style=\"text-align: right;\">     2.00465</td><td style=\"text-align: right;\">         0.000160681</td><td style=\"text-align: right;\">                      80.1543</td><td style=\"text-align: right;\">                     0.573545</td><td style=\"text-align: right;\">                     0.56947 </td><td style=\"text-align: right;\">2.10276</td><td style=\"text-align: right;\">7.64141e-05</td><td style=\"text-align: right;\"> 1.28169e+10</td></tr>\n",
       "<tr><td style=\"text-align: right;\">68</td><td style=\"text-align: right;\">      8.43223</td><td style=\"text-align: right;\">0.025002  </td><td style=\"text-align: right;\">      280.154</td><td style=\"text-align: right;\">9.46811e-05</td><td style=\"text-align: right;\">    7</td><td style=\"text-align: right;\">             8.75654e-05</td><td style=\"text-align: right;\">             0.312562 </td><td style=\"text-align: right;\">152875          </td><td style=\"text-align: right;\">      8.43283</td><td style=\"text-align: right;\">0.0246665 </td><td style=\"text-align: right;\">      282.158</td><td style=\"text-align: right;\">0.000290479</td><td style=\"text-align: right;\">    7</td><td style=\"text-align: right;\">             0.000268648</td><td style=\"text-align: right;\">              0.952118</td><td style=\"text-align: right;\">279618          </td><td style=\"text-align: right;\">     2.00484</td><td style=\"text-align: right;\">         0.000271082</td><td style=\"text-align: right;\">                     135.214 </td><td style=\"text-align: right;\">                     0.967618</td><td style=\"text-align: right;\">                     0.960743</td><td style=\"text-align: right;\">2.34752</td><td style=\"text-align: right;\">0.000115476</td><td style=\"text-align: right;\"> 2.42145e+09</td></tr>\n",
       "<tr><td style=\"text-align: right;\">69</td><td style=\"text-align: right;\">      8.44235</td><td style=\"text-align: right;\">0.0238142 </td><td style=\"text-align: right;\">      280.154</td><td style=\"text-align: right;\">5.16541e-05</td><td style=\"text-align: right;\">    4</td><td style=\"text-align: right;\">             8.21932e-05</td><td style=\"text-align: right;\">             0.293386 </td><td style=\"text-align: right;\"> 98200.3        </td><td style=\"text-align: right;\">      8.44227</td><td style=\"text-align: right;\">0.0238165 </td><td style=\"text-align: right;\">      282.158</td><td style=\"text-align: right;\">0.000268223</td><td style=\"text-align: right;\">    4</td><td style=\"text-align: right;\">             0.000426803</td><td style=\"text-align: right;\">              1.51264 </td><td style=\"text-align: right;\">176371          </td><td style=\"text-align: right;\">     2.00417</td><td style=\"text-align: right;\">         0.00041817 </td><td style=\"text-align: right;\">                     208.65  </td><td style=\"text-align: right;\">                     1.49264 </td><td style=\"text-align: right;\">                     1.48204 </td><td style=\"text-align: right;\">3.06182</td><td style=\"text-align: right;\">0.000136576</td><td style=\"text-align: right;\"> 1.29138e+09</td></tr>\n",
       "<tr><td style=\"text-align: right;\">70</td><td style=\"text-align: right;\">      8.46045</td><td style=\"text-align: right;\">0.0199663 </td><td style=\"text-align: right;\">      280.155</td><td style=\"text-align: right;\">6.17808e-05</td><td style=\"text-align: right;\">    4</td><td style=\"text-align: right;\">             9.8307e-05 </td><td style=\"text-align: right;\">             0.350903 </td><td style=\"text-align: right;\"> 86192.8        </td><td style=\"text-align: right;\">      8.45978</td><td style=\"text-align: right;\">0.0203001 </td><td style=\"text-align: right;\">      282.159</td><td style=\"text-align: right;\">0.000204164</td><td style=\"text-align: right;\">    4</td><td style=\"text-align: right;\">             0.00032487 </td><td style=\"text-align: right;\">              1.15137 </td><td style=\"text-align: right;\">160156          </td><td style=\"text-align: right;\">     2.00388</td><td style=\"text-align: right;\">         0.000311732</td><td style=\"text-align: right;\">                     155.564 </td><td style=\"text-align: right;\">                     1.11271 </td><td style=\"text-align: right;\">                     1.10481 </td><td style=\"text-align: right;\">2.92285</td><td style=\"text-align: right;\">0.000106653</td><td style=\"text-align: right;\"> 1.50165e+09</td></tr>\n",
       "<tr><td style=\"text-align: right;\">71</td><td style=\"text-align: right;\">      8.95204</td><td style=\"text-align: right;\">0.0142519 </td><td style=\"text-align: right;\">      292.191</td><td style=\"text-align: right;\">0.000101765</td><td style=\"text-align: right;\">    7</td><td style=\"text-align: right;\">             9.41174e-05</td><td style=\"text-align: right;\">             0.32211  </td><td style=\"text-align: right;\">365071          </td><td style=\"text-align: right;\">      8.95233</td><td style=\"text-align: right;\">0.0144439 </td><td style=\"text-align: right;\">      294.195</td><td style=\"text-align: right;\">0.000174928</td><td style=\"text-align: right;\">    7</td><td style=\"text-align: right;\">             0.000161782</td><td style=\"text-align: right;\">              0.549912</td><td style=\"text-align: right;\">690181          </td><td style=\"text-align: right;\">     2.0049 </td><td style=\"text-align: right;\">         0.00017129 </td><td style=\"text-align: right;\">                      85.4354</td><td style=\"text-align: right;\">                     0.586225</td><td style=\"text-align: right;\">                     0.58223 </td><td style=\"text-align: right;\">2.23934</td><td style=\"text-align: right;\">7.6491e-05 </td><td style=\"text-align: right;\"> 9.02304e+09</td></tr>\n",
       "<tr><td style=\"text-align: right;\">72</td><td style=\"text-align: right;\">      9.62319</td><td style=\"text-align: right;\">0.00960741</td><td style=\"text-align: right;\">      290.269</td><td style=\"text-align: right;\">0.000100941</td><td style=\"text-align: right;\">    6</td><td style=\"text-align: right;\">             0.000105931</td><td style=\"text-align: right;\">             0.364942 </td><td style=\"text-align: right;\">     5.29424e+06</td><td style=\"text-align: right;\">      9.62283</td><td style=\"text-align: right;\">0.00964096</td><td style=\"text-align: right;\">      292.275</td><td style=\"text-align: right;\">0.000362703</td><td style=\"text-align: right;\">    6</td><td style=\"text-align: right;\">             0.000380634</td><td style=\"text-align: right;\">              1.30231 </td><td style=\"text-align: right;\">118118          </td><td style=\"text-align: right;\">     2.0053 </td><td style=\"text-align: right;\">         0.000379757</td><td style=\"text-align: right;\">                     189.376 </td><td style=\"text-align: right;\">                     1.30829 </td><td style=\"text-align: right;\">                     1.29931 </td><td style=\"text-align: right;\">2.47076</td><td style=\"text-align: right;\">0.0001537  </td><td style=\"text-align: right;\"> 7.68495e+08</td></tr>\n",
       "<tr><td style=\"text-align: right;\">73</td><td style=\"text-align: right;\">     14.4359 </td><td style=\"text-align: right;\">0.273446  </td><td style=\"text-align: right;\">      288.922</td><td style=\"text-align: right;\">5.34683e-05</td><td style=\"text-align: right;\">    7</td><td style=\"text-align: right;\">             4.94499e-05</td><td style=\"text-align: right;\">             0.171153 </td><td style=\"text-align: right;\"> 93771          </td><td style=\"text-align: right;\">     14.424  </td><td style=\"text-align: right;\">0.26835   </td><td style=\"text-align: right;\">      290.925</td><td style=\"text-align: right;\">0.000310646</td><td style=\"text-align: right;\">    7</td><td style=\"text-align: right;\">             0.0002873  </td><td style=\"text-align: right;\">              0.987538</td><td style=\"text-align: right;\">133649          </td><td style=\"text-align: right;\">     2.00348</td><td style=\"text-align: right;\">         0.00028762 </td><td style=\"text-align: right;\">                     143.56  </td><td style=\"text-align: right;\">                     0.995495</td><td style=\"text-align: right;\">                     0.988639</td><td style=\"text-align: right;\">2.41414</td><td style=\"text-align: right;\">0.00011914 </td><td style=\"text-align: right;\"> 1.12178e+09</td></tr>\n",
       "<tr><td style=\"text-align: right;\">74</td><td style=\"text-align: right;\">     14.9588 </td><td style=\"text-align: right;\">0.638084  </td><td style=\"text-align: right;\">      288.923</td><td style=\"text-align: right;\">0.000375482</td><td style=\"text-align: right;\">  232</td><td style=\"text-align: right;\">             4.85708e-05</td><td style=\"text-align: right;\">             0.16811  </td><td style=\"text-align: right;\">     3.32767e+06</td><td style=\"text-align: right;\">     14.9361 </td><td style=\"text-align: right;\">0.667155  </td><td style=\"text-align: right;\">      290.925</td><td style=\"text-align: right;\">0.000396671</td><td style=\"text-align: right;\">  232</td><td style=\"text-align: right;\">             5.13117e-05</td><td style=\"text-align: right;\">              0.176374</td><td style=\"text-align: right;\">     4.51146e+06</td><td style=\"text-align: right;\">     2.00265</td><td style=\"text-align: right;\">         7.04691e-05</td><td style=\"text-align: right;\">                      35.188 </td><td style=\"text-align: right;\">                     0.243903</td><td style=\"text-align: right;\">                     0.242224</td><td style=\"text-align: right;\">1.96513</td><td style=\"text-align: right;\">3.58598e-05</td><td style=\"text-align: right;\"> 1.25808e+11</td></tr>\n",
       "<tr><td style=\"text-align: right;\">75</td><td style=\"text-align: right;\">     14.9645 </td><td style=\"text-align: right;\">0.21695   </td><td style=\"text-align: right;\">      288.922</td><td style=\"text-align: right;\">2.95355e-05</td><td style=\"text-align: right;\">    4</td><td style=\"text-align: right;\">             4.69976e-05</td><td style=\"text-align: right;\">             0.162666 </td><td style=\"text-align: right;\"> 58089.3        </td><td style=\"text-align: right;\">     14.9714 </td><td style=\"text-align: right;\">0.219799  </td><td style=\"text-align: right;\">      290.926</td><td style=\"text-align: right;\">0.000486005</td><td style=\"text-align: right;\">    4</td><td style=\"text-align: right;\">             0.000773343</td><td style=\"text-align: right;\">              2.65822 </td><td style=\"text-align: right;\"> 76899.4        </td><td style=\"text-align: right;\">     2.00399</td><td style=\"text-align: right;\">         0.000771566</td><td style=\"text-align: right;\">                     385.015 </td><td style=\"text-align: right;\">                     2.6705  </td><td style=\"text-align: right;\">                     2.65211 </td><td style=\"text-align: right;\">3.16929</td><td style=\"text-align: right;\">0.000243451</td><td style=\"text-align: right;\"> 3.15872e+08</td></tr>\n",
       "<tr><td style=\"text-align: right;\">76</td><td style=\"text-align: right;\">     15.0547 </td><td style=\"text-align: right;\">0.176758  </td><td style=\"text-align: right;\">      288.924</td><td style=\"text-align: right;\">3.84089e-05</td><td style=\"text-align: right;\">    4</td><td style=\"text-align: right;\">             6.11171e-05</td><td style=\"text-align: right;\">             0.211534 </td><td style=\"text-align: right;\"> 64650.6        </td><td style=\"text-align: right;\">     15.0499 </td><td style=\"text-align: right;\">0.176901  </td><td style=\"text-align: right;\">      290.926</td><td style=\"text-align: right;\">0.000147706</td><td style=\"text-align: right;\">    4</td><td style=\"text-align: right;\">             0.000235034</td><td style=\"text-align: right;\">              0.807883</td><td style=\"text-align: right;\"> 76968.5        </td><td style=\"text-align: right;\">     2.00211</td><td style=\"text-align: right;\">         0.000227336</td><td style=\"text-align: right;\">                     113.549 </td><td style=\"text-align: right;\">                     0.786838</td><td style=\"text-align: right;\">                     0.781423</td><td style=\"text-align: right;\">2.97914</td><td style=\"text-align: right;\">7.63093e-05</td><td style=\"text-align: right;\"> 1.00864e+09</td></tr>\n",
       "<tr><td style=\"text-align: right;\">77</td><td style=\"text-align: right;\">     15.4967 </td><td style=\"text-align: right;\">0.183775  </td><td style=\"text-align: right;\">      288.922</td><td style=\"text-align: right;\">2.70808e-05</td><td style=\"text-align: right;\">    5</td><td style=\"text-align: right;\">             3.36252e-05</td><td style=\"text-align: right;\">             0.116382 </td><td style=\"text-align: right;\"> 74008.8        </td><td style=\"text-align: right;\">     15.5001 </td><td style=\"text-align: right;\">0.184569  </td><td style=\"text-align: right;\">      290.925</td><td style=\"text-align: right;\">0.000477972</td><td style=\"text-align: right;\">    5</td><td style=\"text-align: right;\">             0.000593481</td><td style=\"text-align: right;\">              2.03998 </td><td style=\"text-align: right;\"> 96283          </td><td style=\"text-align: right;\">     2.0033 </td><td style=\"text-align: right;\">         0.00059294 </td><td style=\"text-align: right;\">                     295.982 </td><td style=\"text-align: right;\">                     2.05225 </td><td style=\"text-align: right;\">                     2.03812 </td><td style=\"text-align: right;\">2.76947</td><td style=\"text-align: right;\">0.000214099</td><td style=\"text-align: right;\"> 4.49714e+08</td></tr>\n",
       "<tr><td style=\"text-align: right;\">78</td><td style=\"text-align: right;\">     15.7612 </td><td style=\"text-align: right;\">0.118781  </td><td style=\"text-align: right;\">      288.921</td><td style=\"text-align: right;\">4.29677e-05</td><td style=\"text-align: right;\">    4</td><td style=\"text-align: right;\">             6.83711e-05</td><td style=\"text-align: right;\">             0.236643 </td><td style=\"text-align: right;\"> 57461.4        </td><td style=\"text-align: right;\">     15.7639 </td><td style=\"text-align: right;\">0.117793  </td><td style=\"text-align: right;\">      290.925</td><td style=\"text-align: right;\">0.000336709</td><td style=\"text-align: right;\">    4</td><td style=\"text-align: right;\">             0.000535779</td><td style=\"text-align: right;\">              1.84164 </td><td style=\"text-align: right;\"> 75528.9        </td><td style=\"text-align: right;\">     2.00375</td><td style=\"text-align: right;\">         0.000530615</td><td style=\"text-align: right;\">                     264.811 </td><td style=\"text-align: right;\">                     1.83654 </td><td style=\"text-align: right;\">                     1.82389 </td><td style=\"text-align: right;\">3.12642</td><td style=\"text-align: right;\">0.00016972 </td><td style=\"text-align: right;\"> 4.45021e+08</td></tr>\n",
       "</tbody>\n",
       "</table>"
      ],
      "text/plain": [
       "<IPython.core.display.HTML object>"
      ]
     },
     "metadata": {},
     "output_type": "display_data"
    }
   ],
   "source": [
    "SummaryDF=SummaryClusters(SignalsMat=SignalsMat,ModList=ModList)\n",
    "ShowDF(SummaryDF)"
   ]
  },
  {
   "cell_type": "code",
   "execution_count": 23,
   "id": "2ce101fc",
   "metadata": {
    "ExecuteTime": {
     "end_time": "2023-04-11T12:41:59.040562Z",
     "start_time": "2023-04-11T12:41:59.026172Z"
    }
   },
   "outputs": [],
   "source": [
    "SumSum=SummaryDF[['AverageRT_1','AverageMZ_1','Difference','ConfidenceInterval']]"
   ]
  },
  {
   "cell_type": "code",
   "execution_count": 30,
   "id": "cf24d1f2",
   "metadata": {
    "ExecuteTime": {
     "end_time": "2023-04-11T12:46:02.172371Z",
     "start_time": "2023-04-11T12:46:02.168202Z"
    }
   },
   "outputs": [
    {
     "name": "stderr",
     "output_type": "stream",
     "text": [
      "/home/edwin/anaconda3/lib/python3.7/site-packages/ipykernel_launcher.py:2: SettingWithCopyWarning: \n",
      "A value is trying to be set on a copy of a slice from a DataFrame.\n",
      "Try using .loc[row_indexer,col_indexer] = value instead\n",
      "\n",
      "See the caveats in the documentation: https://pandas.pydata.org/pandas-docs/stable/user_guide/indexing.html#returning-a-view-versus-a-copy\n",
      "  \n"
     ]
    }
   ],
   "source": [
    "TheoricalDifO=2.0042449932959006\n",
    "SumSum['DeltaDif']=1000*abs(SumSum['Difference']-TheoricalDifO)"
   ]
  },
  {
   "cell_type": "code",
   "execution_count": 32,
   "id": "d314fe65",
   "metadata": {
    "ExecuteTime": {
     "end_time": "2023-04-11T12:46:17.822135Z",
     "start_time": "2023-04-11T12:46:17.818966Z"
    }
   },
   "outputs": [],
   "source": [
    "FilDifTheo=SumSum['DeltaDif']/1000<SumSum['ConfidenceInterval']"
   ]
  },
  {
   "cell_type": "code",
   "execution_count": 37,
   "id": "7da9dd19",
   "metadata": {
    "ExecuteTime": {
     "end_time": "2023-04-11T12:51:52.946175Z",
     "start_time": "2023-04-11T12:51:52.938414Z"
    }
   },
   "outputs": [],
   "source": [
    "FilDifTheo2=SumSum['DeltaDif']<0.15"
   ]
  },
  {
   "cell_type": "code",
   "execution_count": 38,
   "id": "643b2458",
   "metadata": {
    "ExecuteTime": {
     "end_time": "2023-04-11T12:51:54.076533Z",
     "start_time": "2023-04-11T12:51:54.067864Z"
    },
    "scrolled": true
   },
   "outputs": [
    {
     "data": {
      "text/html": [
       "<table>\n",
       "<thead>\n",
       "<tr><th style=\"text-align: right;\">  </th><th style=\"text-align: right;\">  AverageRT_1</th><th style=\"text-align: right;\">  AverageMZ_1</th><th style=\"text-align: right;\">  Difference</th><th style=\"text-align: right;\">  ConfidenceInterval</th><th style=\"text-align: right;\">  DeltaDif</th></tr>\n",
       "</thead>\n",
       "<tbody>\n",
       "<tr><td style=\"text-align: right;\"> 3</td><td style=\"text-align: right;\">     0.924898</td><td style=\"text-align: right;\">      162.112</td><td style=\"text-align: right;\">     2.00412</td><td style=\"text-align: right;\">         0.000212134</td><td style=\"text-align: right;\">0.127575  </td></tr>\n",
       "<tr><td style=\"text-align: right;\"> 4</td><td style=\"text-align: right;\">     5.93285 </td><td style=\"text-align: right;\">      167.07 </td><td style=\"text-align: right;\">     2.00439</td><td style=\"text-align: right;\">         0.000182771</td><td style=\"text-align: right;\">0.142125  </td></tr>\n",
       "<tr><td style=\"text-align: right;\"> 5</td><td style=\"text-align: right;\">     3.21617 </td><td style=\"text-align: right;\">      172.096</td><td style=\"text-align: right;\">     2.0042 </td><td style=\"text-align: right;\">         0.000110744</td><td style=\"text-align: right;\">0.0424202 </td></tr>\n",
       "<tr><td style=\"text-align: right;\"> 8</td><td style=\"text-align: right;\">     7.87231 </td><td style=\"text-align: right;\">      181.105</td><td style=\"text-align: right;\">     2.00424</td><td style=\"text-align: right;\">         0.000406013</td><td style=\"text-align: right;\">0.00447522</td></tr>\n",
       "<tr><td style=\"text-align: right;\"> 9</td><td style=\"text-align: right;\">     3.2407  </td><td style=\"text-align: right;\">      183.052</td><td style=\"text-align: right;\">     2.00437</td><td style=\"text-align: right;\">         0.000318679</td><td style=\"text-align: right;\">0.126761  </td></tr>\n",
       "<tr><td style=\"text-align: right;\">10</td><td style=\"text-align: right;\">     5.87639 </td><td style=\"text-align: right;\">      189.052</td><td style=\"text-align: right;\">     2.00422</td><td style=\"text-align: right;\">         0.000334428</td><td style=\"text-align: right;\">0.0298909 </td></tr>\n",
       "<tr><td style=\"text-align: right;\">13</td><td style=\"text-align: right;\">     0.874283</td><td style=\"text-align: right;\">      208.106</td><td style=\"text-align: right;\">     2.00415</td><td style=\"text-align: right;\">         0.000130832</td><td style=\"text-align: right;\">0.099519  </td></tr>\n",
       "<tr><td style=\"text-align: right;\">14</td><td style=\"text-align: right;\">     0.872785</td><td style=\"text-align: right;\">      210.111</td><td style=\"text-align: right;\">     2.00415</td><td style=\"text-align: right;\">         0.000150171</td><td style=\"text-align: right;\">0.0990648 </td></tr>\n",
       "<tr><td style=\"text-align: right;\">15</td><td style=\"text-align: right;\">     5.93184 </td><td style=\"text-align: right;\">      210.112</td><td style=\"text-align: right;\">     2.00427</td><td style=\"text-align: right;\">         5.88169e-05</td><td style=\"text-align: right;\">0.0266852 </td></tr>\n",
       "<tr><td style=\"text-align: right;\">19</td><td style=\"text-align: right;\">     3.48305 </td><td style=\"text-align: right;\">      225.073</td><td style=\"text-align: right;\">     2.00423</td><td style=\"text-align: right;\">         0.000309067</td><td style=\"text-align: right;\">0.016991  </td></tr>\n",
       "<tr><td style=\"text-align: right;\">20</td><td style=\"text-align: right;\">     7.55151 </td><td style=\"text-align: right;\">      226.096</td><td style=\"text-align: right;\">     2.00433</td><td style=\"text-align: right;\">         6.82471e-05</td><td style=\"text-align: right;\">0.0855647 </td></tr>\n",
       "<tr><td style=\"text-align: right;\">23</td><td style=\"text-align: right;\">     3.88108 </td><td style=\"text-align: right;\">      238.144</td><td style=\"text-align: right;\">     2.00439</td><td style=\"text-align: right;\">         0.000366564</td><td style=\"text-align: right;\">0.14684   </td></tr>\n",
       "<tr><td style=\"text-align: right;\">25</td><td style=\"text-align: right;\">     3.45709 </td><td style=\"text-align: right;\">      240.159</td><td style=\"text-align: right;\">     2.00414</td><td style=\"text-align: right;\">         0.000111819</td><td style=\"text-align: right;\">0.102359  </td></tr>\n",
       "<tr><td style=\"text-align: right;\">28</td><td style=\"text-align: right;\">     5.90842 </td><td style=\"text-align: right;\">      243.141</td><td style=\"text-align: right;\">     2.00428</td><td style=\"text-align: right;\">         6.76228e-05</td><td style=\"text-align: right;\">0.0366977 </td></tr>\n",
       "<tr><td style=\"text-align: right;\">30</td><td style=\"text-align: right;\">     0.960507</td><td style=\"text-align: right;\">      246.133</td><td style=\"text-align: right;\">     2.00423</td><td style=\"text-align: right;\">         0.000489847</td><td style=\"text-align: right;\">0.0178681 </td></tr>\n",
       "<tr><td style=\"text-align: right;\">39</td><td style=\"text-align: right;\">     4.12167 </td><td style=\"text-align: right;\">      258.122</td><td style=\"text-align: right;\">     2.00429</td><td style=\"text-align: right;\">         7.84955e-05</td><td style=\"text-align: right;\">0.0469791 </td></tr>\n",
       "<tr><td style=\"text-align: right;\">40</td><td style=\"text-align: right;\">     3.81735 </td><td style=\"text-align: right;\">      258.158</td><td style=\"text-align: right;\">     2.00418</td><td style=\"text-align: right;\">         0.000154605</td><td style=\"text-align: right;\">0.0607187 </td></tr>\n",
       "<tr><td style=\"text-align: right;\">47</td><td style=\"text-align: right;\">     5.59606 </td><td style=\"text-align: right;\">      268.192</td><td style=\"text-align: right;\">     2.0041 </td><td style=\"text-align: right;\">         0.000289954</td><td style=\"text-align: right;\">0.14487   </td></tr>\n",
       "<tr><td style=\"text-align: right;\">55</td><td style=\"text-align: right;\">     5.38701 </td><td style=\"text-align: right;\">      270.395</td><td style=\"text-align: right;\">     2.00412</td><td style=\"text-align: right;\">         0.000568766</td><td style=\"text-align: right;\">0.126597  </td></tr>\n",
       "<tr><td style=\"text-align: right;\">59</td><td style=\"text-align: right;\">     5.39412 </td><td style=\"text-align: right;\">      270.434</td><td style=\"text-align: right;\">     2.00413</td><td style=\"text-align: right;\">         0.000150101</td><td style=\"text-align: right;\">0.118109  </td></tr>\n",
       "<tr><td style=\"text-align: right;\">63</td><td style=\"text-align: right;\">     3.60395 </td><td style=\"text-align: right;\">      274.165</td><td style=\"text-align: right;\">     2.00428</td><td style=\"text-align: right;\">         9.52566e-05</td><td style=\"text-align: right;\">0.0302812 </td></tr>\n",
       "<tr><td style=\"text-align: right;\">67</td><td style=\"text-align: right;\">     7.54874 </td><td style=\"text-align: right;\">      275.149</td><td style=\"text-align: right;\">     2.00428</td><td style=\"text-align: right;\">         0.000209802</td><td style=\"text-align: right;\">0.0397601 </td></tr>\n",
       "<tr><td style=\"text-align: right;\">68</td><td style=\"text-align: right;\">     3.60103 </td><td style=\"text-align: right;\">      275.168</td><td style=\"text-align: right;\">     2.00418</td><td style=\"text-align: right;\">         0.000192031</td><td style=\"text-align: right;\">0.0627969 </td></tr>\n",
       "<tr><td style=\"text-align: right;\">70</td><td style=\"text-align: right;\">     8.95632 </td><td style=\"text-align: right;\">      275.183</td><td style=\"text-align: right;\">     2.00435</td><td style=\"text-align: right;\">         0.00033892 </td><td style=\"text-align: right;\">0.10418   </td></tr>\n",
       "<tr><td style=\"text-align: right;\">71</td><td style=\"text-align: right;\">     3.68364 </td><td style=\"text-align: right;\">      276.169</td><td style=\"text-align: right;\">     2.00415</td><td style=\"text-align: right;\">         0.000207438</td><td style=\"text-align: right;\">0.0997274 </td></tr>\n",
       "<tr><td style=\"text-align: right;\">73</td><td style=\"text-align: right;\">     7.55244 </td><td style=\"text-align: right;\">      278.1  </td><td style=\"text-align: right;\">     2.00425</td><td style=\"text-align: right;\">         6.93198e-05</td><td style=\"text-align: right;\">0.00474671</td></tr>\n",
       "<tr><td style=\"text-align: right;\">76</td><td style=\"text-align: right;\">     5.21646 </td><td style=\"text-align: right;\">      279.091</td><td style=\"text-align: right;\">     2.00418</td><td style=\"text-align: right;\">         0.00121716 </td><td style=\"text-align: right;\">0.0600393 </td></tr>\n",
       "<tr><td style=\"text-align: right;\">82</td><td style=\"text-align: right;\">     7.55264 </td><td style=\"text-align: right;\">      280.104</td><td style=\"text-align: right;\">     2.00433</td><td style=\"text-align: right;\">         6.34641e-05</td><td style=\"text-align: right;\">0.0879662 </td></tr>\n",
       "<tr><td style=\"text-align: right;\">87</td><td style=\"text-align: right;\">     6.52815 </td><td style=\"text-align: right;\">      281.49 </td><td style=\"text-align: right;\">     2.00418</td><td style=\"text-align: right;\">         0.00027043 </td><td style=\"text-align: right;\">0.0618987 </td></tr>\n",
       "<tr><td style=\"text-align: right;\">88</td><td style=\"text-align: right;\">     7.17681 </td><td style=\"text-align: right;\">      282.17 </td><td style=\"text-align: right;\">     2.00437</td><td style=\"text-align: right;\">         0.000244   </td><td style=\"text-align: right;\">0.120742  </td></tr>\n",
       "<tr><td style=\"text-align: right;\">89</td><td style=\"text-align: right;\">     5.16551 </td><td style=\"text-align: right;\">      282.17 </td><td style=\"text-align: right;\">     2.00435</td><td style=\"text-align: right;\">         0.000162837</td><td style=\"text-align: right;\">0.109112  </td></tr>\n",
       "<tr><td style=\"text-align: right;\">93</td><td style=\"text-align: right;\">     5.1387  </td><td style=\"text-align: right;\">      283.173</td><td style=\"text-align: right;\">     2.00428</td><td style=\"text-align: right;\">         9.03423e-05</td><td style=\"text-align: right;\">0.0323751 </td></tr>\n",
       "<tr><td style=\"text-align: right;\">94</td><td style=\"text-align: right;\">     3.15867 </td><td style=\"text-align: right;\">      283.174</td><td style=\"text-align: right;\">     2.00425</td><td style=\"text-align: right;\">         9.25237e-05</td><td style=\"text-align: right;\">0.00315176</td></tr>\n",
       "<tr><td style=\"text-align: right;\">97</td><td style=\"text-align: right;\">     3.99052 </td><td style=\"text-align: right;\">      284.186</td><td style=\"text-align: right;\">     2.00432</td><td style=\"text-align: right;\">         0.000174764</td><td style=\"text-align: right;\">0.0746743 </td></tr>\n",
       "</tbody>\n",
       "</table>"
      ],
      "text/plain": [
       "<IPython.core.display.HTML object>"
      ]
     },
     "metadata": {},
     "output_type": "display_data"
    }
   ],
   "source": [
    "ShowDF(SumSum.loc[FilDifTheo2])"
   ]
  },
  {
   "cell_type": "code",
   "execution_count": 33,
   "id": "2af56eb8",
   "metadata": {
    "ExecuteTime": {
     "end_time": "2023-04-11T12:46:19.577045Z",
     "start_time": "2023-04-11T12:46:19.562239Z"
    },
    "scrolled": true
   },
   "outputs": [
    {
     "data": {
      "text/html": [
       "<div>\n",
       "<style scoped>\n",
       "    .dataframe tbody tr th:only-of-type {\n",
       "        vertical-align: middle;\n",
       "    }\n",
       "\n",
       "    .dataframe tbody tr th {\n",
       "        vertical-align: top;\n",
       "    }\n",
       "\n",
       "    .dataframe thead th {\n",
       "        text-align: right;\n",
       "    }\n",
       "</style>\n",
       "<table border=\"1\" class=\"dataframe\">\n",
       "  <thead>\n",
       "    <tr style=\"text-align: right;\">\n",
       "      <th></th>\n",
       "      <th>AverageRT_1</th>\n",
       "      <th>AverageMZ_1</th>\n",
       "      <th>Difference</th>\n",
       "      <th>ConfidenceInterval</th>\n",
       "      <th>DeltaDif</th>\n",
       "    </tr>\n",
       "  </thead>\n",
       "  <tbody>\n",
       "    <tr>\n",
       "      <th>0</th>\n",
       "      <td>0.503937</td>\n",
       "      <td>158.964247</td>\n",
       "      <td>2.004089</td>\n",
       "      <td>0.000584</td>\n",
       "      <td>0.156467</td>\n",
       "    </tr>\n",
       "    <tr>\n",
       "      <th>2</th>\n",
       "      <td>0.892362</td>\n",
       "      <td>162.111893</td>\n",
       "      <td>2.004418</td>\n",
       "      <td>0.000377</td>\n",
       "      <td>0.172643</td>\n",
       "    </tr>\n",
       "    <tr>\n",
       "      <th>3</th>\n",
       "      <td>0.924898</td>\n",
       "      <td>162.112098</td>\n",
       "      <td>2.004117</td>\n",
       "      <td>0.000212</td>\n",
       "      <td>0.127575</td>\n",
       "    </tr>\n",
       "    <tr>\n",
       "      <th>4</th>\n",
       "      <td>5.932845</td>\n",
       "      <td>167.069722</td>\n",
       "      <td>2.004387</td>\n",
       "      <td>0.000183</td>\n",
       "      <td>0.142125</td>\n",
       "    </tr>\n",
       "    <tr>\n",
       "      <th>5</th>\n",
       "      <td>3.216174</td>\n",
       "      <td>172.096478</td>\n",
       "      <td>2.004203</td>\n",
       "      <td>0.000111</td>\n",
       "      <td>0.042420</td>\n",
       "    </tr>\n",
       "    <tr>\n",
       "      <th>8</th>\n",
       "      <td>7.872307</td>\n",
       "      <td>181.104525</td>\n",
       "      <td>2.004241</td>\n",
       "      <td>0.000406</td>\n",
       "      <td>0.004475</td>\n",
       "    </tr>\n",
       "    <tr>\n",
       "      <th>9</th>\n",
       "      <td>3.240703</td>\n",
       "      <td>183.051506</td>\n",
       "      <td>2.004372</td>\n",
       "      <td>0.000319</td>\n",
       "      <td>0.126761</td>\n",
       "    </tr>\n",
       "    <tr>\n",
       "      <th>10</th>\n",
       "      <td>5.876390</td>\n",
       "      <td>189.052010</td>\n",
       "      <td>2.004215</td>\n",
       "      <td>0.000334</td>\n",
       "      <td>0.029891</td>\n",
       "    </tr>\n",
       "    <tr>\n",
       "      <th>13</th>\n",
       "      <td>0.874283</td>\n",
       "      <td>208.106406</td>\n",
       "      <td>2.004145</td>\n",
       "      <td>0.000131</td>\n",
       "      <td>0.099519</td>\n",
       "    </tr>\n",
       "    <tr>\n",
       "      <th>14</th>\n",
       "      <td>0.872785</td>\n",
       "      <td>210.110602</td>\n",
       "      <td>2.004146</td>\n",
       "      <td>0.000150</td>\n",
       "      <td>0.099065</td>\n",
       "    </tr>\n",
       "    <tr>\n",
       "      <th>15</th>\n",
       "      <td>5.931844</td>\n",
       "      <td>210.112172</td>\n",
       "      <td>2.004272</td>\n",
       "      <td>0.000059</td>\n",
       "      <td>0.026685</td>\n",
       "    </tr>\n",
       "    <tr>\n",
       "      <th>19</th>\n",
       "      <td>3.483049</td>\n",
       "      <td>225.073319</td>\n",
       "      <td>2.004228</td>\n",
       "      <td>0.000309</td>\n",
       "      <td>0.016991</td>\n",
       "    </tr>\n",
       "    <tr>\n",
       "      <th>23</th>\n",
       "      <td>3.881084</td>\n",
       "      <td>238.143898</td>\n",
       "      <td>2.004392</td>\n",
       "      <td>0.000367</td>\n",
       "      <td>0.146840</td>\n",
       "    </tr>\n",
       "    <tr>\n",
       "      <th>25</th>\n",
       "      <td>3.457086</td>\n",
       "      <td>240.159468</td>\n",
       "      <td>2.004143</td>\n",
       "      <td>0.000112</td>\n",
       "      <td>0.102359</td>\n",
       "    </tr>\n",
       "    <tr>\n",
       "      <th>28</th>\n",
       "      <td>5.908418</td>\n",
       "      <td>243.141454</td>\n",
       "      <td>2.004282</td>\n",
       "      <td>0.000068</td>\n",
       "      <td>0.036698</td>\n",
       "    </tr>\n",
       "    <tr>\n",
       "      <th>30</th>\n",
       "      <td>0.960507</td>\n",
       "      <td>246.133105</td>\n",
       "      <td>2.004227</td>\n",
       "      <td>0.000490</td>\n",
       "      <td>0.017868</td>\n",
       "    </tr>\n",
       "    <tr>\n",
       "      <th>32</th>\n",
       "      <td>3.169354</td>\n",
       "      <td>250.143543</td>\n",
       "      <td>2.004711</td>\n",
       "      <td>0.000485</td>\n",
       "      <td>0.465954</td>\n",
       "    </tr>\n",
       "    <tr>\n",
       "      <th>38</th>\n",
       "      <td>4.041090</td>\n",
       "      <td>258.122025</td>\n",
       "      <td>2.004427</td>\n",
       "      <td>0.000303</td>\n",
       "      <td>0.181957</td>\n",
       "    </tr>\n",
       "    <tr>\n",
       "      <th>39</th>\n",
       "      <td>4.121667</td>\n",
       "      <td>258.122474</td>\n",
       "      <td>2.004292</td>\n",
       "      <td>0.000078</td>\n",
       "      <td>0.046979</td>\n",
       "    </tr>\n",
       "    <tr>\n",
       "      <th>40</th>\n",
       "      <td>3.817348</td>\n",
       "      <td>258.158226</td>\n",
       "      <td>2.004184</td>\n",
       "      <td>0.000155</td>\n",
       "      <td>0.060719</td>\n",
       "    </tr>\n",
       "    <tr>\n",
       "      <th>43</th>\n",
       "      <td>7.877691</td>\n",
       "      <td>260.164783</td>\n",
       "      <td>2.004414</td>\n",
       "      <td>0.000196</td>\n",
       "      <td>0.169437</td>\n",
       "    </tr>\n",
       "    <tr>\n",
       "      <th>47</th>\n",
       "      <td>5.596058</td>\n",
       "      <td>268.192249</td>\n",
       "      <td>2.004100</td>\n",
       "      <td>0.000290</td>\n",
       "      <td>0.144870</td>\n",
       "    </tr>\n",
       "    <tr>\n",
       "      <th>51</th>\n",
       "      <td>5.513304</td>\n",
       "      <td>269.408130</td>\n",
       "      <td>2.004043</td>\n",
       "      <td>0.000237</td>\n",
       "      <td>0.202466</td>\n",
       "    </tr>\n",
       "    <tr>\n",
       "      <th>53</th>\n",
       "      <td>5.418269</td>\n",
       "      <td>269.426597</td>\n",
       "      <td>2.004431</td>\n",
       "      <td>0.000275</td>\n",
       "      <td>0.186075</td>\n",
       "    </tr>\n",
       "    <tr>\n",
       "      <th>55</th>\n",
       "      <td>5.387012</td>\n",
       "      <td>270.394545</td>\n",
       "      <td>2.004118</td>\n",
       "      <td>0.000569</td>\n",
       "      <td>0.126597</td>\n",
       "    </tr>\n",
       "    <tr>\n",
       "      <th>59</th>\n",
       "      <td>5.394124</td>\n",
       "      <td>270.434294</td>\n",
       "      <td>2.004127</td>\n",
       "      <td>0.000150</td>\n",
       "      <td>0.118109</td>\n",
       "    </tr>\n",
       "    <tr>\n",
       "      <th>60</th>\n",
       "      <td>5.390368</td>\n",
       "      <td>270.548071</td>\n",
       "      <td>2.004041</td>\n",
       "      <td>0.000211</td>\n",
       "      <td>0.204065</td>\n",
       "    </tr>\n",
       "    <tr>\n",
       "      <th>61</th>\n",
       "      <td>3.370137</td>\n",
       "      <td>274.164291</td>\n",
       "      <td>2.004617</td>\n",
       "      <td>0.000387</td>\n",
       "      <td>0.372179</td>\n",
       "    </tr>\n",
       "    <tr>\n",
       "      <th>62</th>\n",
       "      <td>3.191109</td>\n",
       "      <td>274.164658</td>\n",
       "      <td>2.004584</td>\n",
       "      <td>0.000437</td>\n",
       "      <td>0.338999</td>\n",
       "    </tr>\n",
       "    <tr>\n",
       "      <th>63</th>\n",
       "      <td>3.603952</td>\n",
       "      <td>274.165110</td>\n",
       "      <td>2.004275</td>\n",
       "      <td>0.000095</td>\n",
       "      <td>0.030281</td>\n",
       "    </tr>\n",
       "    <tr>\n",
       "      <th>67</th>\n",
       "      <td>7.548742</td>\n",
       "      <td>275.148942</td>\n",
       "      <td>2.004285</td>\n",
       "      <td>0.000210</td>\n",
       "      <td>0.039760</td>\n",
       "    </tr>\n",
       "    <tr>\n",
       "      <th>68</th>\n",
       "      <td>3.601030</td>\n",
       "      <td>275.168487</td>\n",
       "      <td>2.004182</td>\n",
       "      <td>0.000192</td>\n",
       "      <td>0.062797</td>\n",
       "    </tr>\n",
       "    <tr>\n",
       "      <th>70</th>\n",
       "      <td>8.956317</td>\n",
       "      <td>275.183343</td>\n",
       "      <td>2.004349</td>\n",
       "      <td>0.000339</td>\n",
       "      <td>0.104180</td>\n",
       "    </tr>\n",
       "    <tr>\n",
       "      <th>71</th>\n",
       "      <td>3.683636</td>\n",
       "      <td>276.169301</td>\n",
       "      <td>2.004145</td>\n",
       "      <td>0.000207</td>\n",
       "      <td>0.099727</td>\n",
       "    </tr>\n",
       "    <tr>\n",
       "      <th>73</th>\n",
       "      <td>7.552442</td>\n",
       "      <td>278.100113</td>\n",
       "      <td>2.004250</td>\n",
       "      <td>0.000069</td>\n",
       "      <td>0.004747</td>\n",
       "    </tr>\n",
       "    <tr>\n",
       "      <th>74</th>\n",
       "      <td>7.870963</td>\n",
       "      <td>278.175382</td>\n",
       "      <td>2.004469</td>\n",
       "      <td>0.000249</td>\n",
       "      <td>0.224234</td>\n",
       "    </tr>\n",
       "    <tr>\n",
       "      <th>76</th>\n",
       "      <td>5.216459</td>\n",
       "      <td>279.091240</td>\n",
       "      <td>2.004185</td>\n",
       "      <td>0.001217</td>\n",
       "      <td>0.060039</td>\n",
       "    </tr>\n",
       "    <tr>\n",
       "      <th>78</th>\n",
       "      <td>6.411111</td>\n",
       "      <td>279.120165</td>\n",
       "      <td>2.004399</td>\n",
       "      <td>0.000462</td>\n",
       "      <td>0.153686</td>\n",
       "    </tr>\n",
       "    <tr>\n",
       "      <th>87</th>\n",
       "      <td>6.528149</td>\n",
       "      <td>281.489744</td>\n",
       "      <td>2.004183</td>\n",
       "      <td>0.000270</td>\n",
       "      <td>0.061899</td>\n",
       "    </tr>\n",
       "    <tr>\n",
       "      <th>88</th>\n",
       "      <td>7.176806</td>\n",
       "      <td>282.169971</td>\n",
       "      <td>2.004366</td>\n",
       "      <td>0.000244</td>\n",
       "      <td>0.120742</td>\n",
       "    </tr>\n",
       "    <tr>\n",
       "      <th>89</th>\n",
       "      <td>5.165513</td>\n",
       "      <td>282.170218</td>\n",
       "      <td>2.004354</td>\n",
       "      <td>0.000163</td>\n",
       "      <td>0.109112</td>\n",
       "    </tr>\n",
       "    <tr>\n",
       "      <th>93</th>\n",
       "      <td>5.138698</td>\n",
       "      <td>283.173341</td>\n",
       "      <td>2.004277</td>\n",
       "      <td>0.000090</td>\n",
       "      <td>0.032375</td>\n",
       "    </tr>\n",
       "    <tr>\n",
       "      <th>94</th>\n",
       "      <td>3.158673</td>\n",
       "      <td>283.173522</td>\n",
       "      <td>2.004248</td>\n",
       "      <td>0.000093</td>\n",
       "      <td>0.003152</td>\n",
       "    </tr>\n",
       "    <tr>\n",
       "      <th>96</th>\n",
       "      <td>6.268806</td>\n",
       "      <td>284.185473</td>\n",
       "      <td>2.004410</td>\n",
       "      <td>0.000301</td>\n",
       "      <td>0.164993</td>\n",
       "    </tr>\n",
       "    <tr>\n",
       "      <th>97</th>\n",
       "      <td>3.990521</td>\n",
       "      <td>284.185613</td>\n",
       "      <td>2.004320</td>\n",
       "      <td>0.000175</td>\n",
       "      <td>0.074674</td>\n",
       "    </tr>\n",
       "  </tbody>\n",
       "</table>\n",
       "</div>"
      ],
      "text/plain": [
       "    AverageRT_1  AverageMZ_1  Difference  ConfidenceInterval  DeltaDif\n",
       "0      0.503937   158.964247    2.004089            0.000584  0.156467\n",
       "2      0.892362   162.111893    2.004418            0.000377  0.172643\n",
       "3      0.924898   162.112098    2.004117            0.000212  0.127575\n",
       "4      5.932845   167.069722    2.004387            0.000183  0.142125\n",
       "5      3.216174   172.096478    2.004203            0.000111  0.042420\n",
       "8      7.872307   181.104525    2.004241            0.000406  0.004475\n",
       "9      3.240703   183.051506    2.004372            0.000319  0.126761\n",
       "10     5.876390   189.052010    2.004215            0.000334  0.029891\n",
       "13     0.874283   208.106406    2.004145            0.000131  0.099519\n",
       "14     0.872785   210.110602    2.004146            0.000150  0.099065\n",
       "15     5.931844   210.112172    2.004272            0.000059  0.026685\n",
       "19     3.483049   225.073319    2.004228            0.000309  0.016991\n",
       "23     3.881084   238.143898    2.004392            0.000367  0.146840\n",
       "25     3.457086   240.159468    2.004143            0.000112  0.102359\n",
       "28     5.908418   243.141454    2.004282            0.000068  0.036698\n",
       "30     0.960507   246.133105    2.004227            0.000490  0.017868\n",
       "32     3.169354   250.143543    2.004711            0.000485  0.465954\n",
       "38     4.041090   258.122025    2.004427            0.000303  0.181957\n",
       "39     4.121667   258.122474    2.004292            0.000078  0.046979\n",
       "40     3.817348   258.158226    2.004184            0.000155  0.060719\n",
       "43     7.877691   260.164783    2.004414            0.000196  0.169437\n",
       "47     5.596058   268.192249    2.004100            0.000290  0.144870\n",
       "51     5.513304   269.408130    2.004043            0.000237  0.202466\n",
       "53     5.418269   269.426597    2.004431            0.000275  0.186075\n",
       "55     5.387012   270.394545    2.004118            0.000569  0.126597\n",
       "59     5.394124   270.434294    2.004127            0.000150  0.118109\n",
       "60     5.390368   270.548071    2.004041            0.000211  0.204065\n",
       "61     3.370137   274.164291    2.004617            0.000387  0.372179\n",
       "62     3.191109   274.164658    2.004584            0.000437  0.338999\n",
       "63     3.603952   274.165110    2.004275            0.000095  0.030281\n",
       "67     7.548742   275.148942    2.004285            0.000210  0.039760\n",
       "68     3.601030   275.168487    2.004182            0.000192  0.062797\n",
       "70     8.956317   275.183343    2.004349            0.000339  0.104180\n",
       "71     3.683636   276.169301    2.004145            0.000207  0.099727\n",
       "73     7.552442   278.100113    2.004250            0.000069  0.004747\n",
       "74     7.870963   278.175382    2.004469            0.000249  0.224234\n",
       "76     5.216459   279.091240    2.004185            0.001217  0.060039\n",
       "78     6.411111   279.120165    2.004399            0.000462  0.153686\n",
       "87     6.528149   281.489744    2.004183            0.000270  0.061899\n",
       "88     7.176806   282.169971    2.004366            0.000244  0.120742\n",
       "89     5.165513   282.170218    2.004354            0.000163  0.109112\n",
       "93     5.138698   283.173341    2.004277            0.000090  0.032375\n",
       "94     3.158673   283.173522    2.004248            0.000093  0.003152\n",
       "96     6.268806   284.185473    2.004410            0.000301  0.164993\n",
       "97     3.990521   284.185613    2.004320            0.000175  0.074674"
      ]
     },
     "execution_count": 33,
     "metadata": {},
     "output_type": "execute_result"
    }
   ],
   "source": [
    "SumSum.loc[FilDifTheo]"
   ]
  },
  {
   "cell_type": "code",
   "execution_count": 41,
   "id": "74a2693e",
   "metadata": {
    "ExecuteTime": {
     "end_time": "2023-04-11T12:52:38.597984Z",
     "start_time": "2023-04-11T12:52:38.582150Z"
    }
   },
   "outputs": [
    {
     "data": {
      "text/plain": [
       "45"
      ]
     },
     "execution_count": 41,
     "metadata": {},
     "output_type": "execute_result"
    }
   ],
   "source": [
    "len(SumSum.loc[FilDifTheo])"
   ]
  },
  {
   "cell_type": "code",
   "execution_count": 11,
   "id": "6abe131c",
   "metadata": {
    "ExecuteTime": {
     "end_time": "2023-04-11T12:12:24.760277Z",
     "start_time": "2023-04-11T12:12:24.751476Z"
    }
   },
   "outputs": [],
   "source": [
    "Tressure=2.00415 #Expected\n",
    "Dif=2.00457 #Distribution\n",
    "ci=5.88169e-05"
   ]
  },
  {
   "cell_type": "code",
   "execution_count": 12,
   "id": "ebbf2242",
   "metadata": {
    "ExecuteTime": {
     "end_time": "2023-04-11T12:12:24.785684Z",
     "start_time": "2023-04-11T12:12:24.774207Z"
    }
   },
   "outputs": [
    {
     "name": "stdout",
     "output_type": "stream",
     "text": [
      "2.0045111831 2.0046288169000004\n"
     ]
    }
   ],
   "source": [
    "print(Dif-ci,Dif+ci)"
   ]
  },
  {
   "cell_type": "code",
   "execution_count": 17,
   "id": "09eab20a",
   "metadata": {
    "ExecuteTime": {
     "end_time": "2023-04-11T12:35:18.837456Z",
     "start_time": "2023-04-11T12:35:18.824358Z"
    }
   },
   "outputs": [
    {
     "data": {
      "text/plain": [
       "2.0042449932959006"
      ]
     },
     "execution_count": 17,
     "metadata": {},
     "output_type": "execute_result"
    }
   ],
   "source": [
    "l=15.9949146195717\n",
    "h=17.9991596128676 \n"
   ]
  },
  {
   "cell_type": "code",
   "execution_count": 14,
   "id": "16b0dd9c",
   "metadata": {
    "ExecuteTime": {
     "end_time": "2023-04-11T12:12:25.586003Z",
     "start_time": "2023-04-11T12:12:24.837778Z"
    },
    "scrolled": false
   },
   "outputs": [
    {
     "data": {
      "image/png": "[encoded data removed]",
      "text/plain": [
       "<Figure size 640x480 with 1 Axes>"
      ]
     },
     "metadata": {},
     "output_type": "display_data"
    }
   ],
   "source": [
    "#plt.xlim([4,5])\n",
    "#plt.ylim([280,350])\n",
    "plt.plot(SignalsMat[:,7],SignalsMat[:,0],'b.',label='AllData')\n",
    "plt.plot(SummaryDF['AverageRT_1'],SummaryDF['AverageMZ_1'],'ko',label='Centroids for each cluster')\n",
    "plt.legend()\n",
    "plt.show()\n",
    "#Black dots are the current value for dogecoin\n"
   ]
  },
  {
   "cell_type": "code",
   "execution_count": 15,
   "id": "56546d88",
   "metadata": {
    "ExecuteTime": {
     "end_time": "2023-04-11T12:12:26.280659Z",
     "start_time": "2023-04-11T12:12:25.599070Z"
    },
    "scrolled": false
   },
   "outputs": [
    {
     "data": {
      "image/png": "[encoded data removed]",
      "text/plain": [
       "<Figure size 640x480 with 1 Axes>"
      ]
     },
     "metadata": {},
     "output_type": "display_data"
    }
   ],
   "source": [
    "plt.xlim([0,17.5])\n",
    "plt.ylim([50,600])\n",
    "plt.plot(SignalsMat[:,7],SignalsMat[:,0],'b.',label='AllData')\n",
    "#plt.plot(Mean_RTVec,Mean_mzVec,'ko',label='Centroids for each cluster')\n",
    "plt.legend()\n",
    "plt.show()\n",
    "#Black dots are the current value for dogecoin\n"
   ]
  },
  {
   "cell_type": "code",
   "execution_count": 8,
   "id": "3f7f95b4",
   "metadata": {
    "ExecuteTime": {
     "end_time": "2023-04-17T08:12:41.747465Z",
     "start_time": "2023-04-17T08:12:41.721710Z"
    },
    "scrolled": true
   },
   "outputs": [
    {
     "name": "stdout",
     "output_type": "stream",
     "text": [
      "279 294.2962576059195 6.974133344796998\n",
      "352 294.2062366485596 7.291384589672089\n"
     ]
    }
   ],
   "source": [
    "mzTarget=294.2062\n",
    "deltamzT=0.1\n",
    "for x in np.arange(len(ModList)):\n",
    "    modNet=list(set(ModList[x]))\n",
    "    mz=np.mean(SignalsMat[modNet,0])\n",
    "    rt=np.mean(SignalsMat[modNet,-2])\n",
    "    if len(modNet)>10 and abs(mz-mzTarget)<deltamzT:\n",
    "        print(x,mz,rt)\n",
    "        #ShowDF(pd.DataFrame(SignalsMat[modNet,:]))\n",
    "        \n",
    "minInt=1e4\n",
    "minMZ=1e-3\n",
    "mzTarget=278.2120\n",
    "FirstSpec=True\n",
    "for spectrum in DataSet:\n",
    "    RawData=np.array(spectrum.get_peaks()).T\n",
    "    RawFil=np.where(RawData[:,1]>minInt)[0]\n",
    "    RT=spectrum.getRT()/60\n",
    "    FilData=RawData[RawFil,:].copy()\n",
    "    DifmzVec=abs(FilData[:,0]-mzTarget)\n",
    "    ChoseFil=np.where(DifmzVec<minMZ)[0]\n",
    "    Chose=FilData[ChoseFil,:]        \n",
    "    if len(Chose)>0:\n",
    "        minDif=max(Chose[:,1])\n",
    "        MaxLoc=\n",
    "        \n",
    "        lChose=len(Chose)\n",
    "        Chose=np.c_[Chose,RT*np.ones(lChose)].copy()\n",
    "       # print(RT)\n",
    "        if FirstSpec:\n",
    "            Crom=Chose.copy()\n",
    "            FirstSpec=False\n",
    "        else:\n",
    "            Crom=np.r_[Crom,Chose]\n",
    "            \n",
    "plt.xlim([6.2,7])\n",
    "plt.plot(Crom[:,2],Crom[:,1],'.')\n",
    "\n",
    "\n",
    "Module=ModList[279].copy()\n",
    "#Module.extend(ModList[352])\n",
    "#Module.extend(ModList[810])\n",
    "modNet=list(set(Module))\n",
    "whatever=pd.DataFrame(SignalsMat[modNet,:])\n",
    "#ShowDF(whatever)\n",
    "\n",
    "print('Heavy and light O')\n",
    "plt.plot(whatever[7],whatever[5],'.')\n",
    "plt.plot(whatever[7],whatever[6],'k.')\n",
    "plt.show()\n",
    "\n",
    "print('just the ratio 18O/total')\n",
    "plt.plot(whatever[7],whatever[6]/(whatever[5]+whatever[6]),'.')\n",
    "plt.show()\n",
    "\n",
    "print('Histogram for the ratio 18O/total')\n",
    "plt.hist(whatever[6]/(whatever[5]+whatever[6]),bins=100)\n",
    "plt.show()            "
   ]
  }
 ],
 "metadata": {
  "kernelspec": {
   "display_name": "Python 3 (ipykernel)",
   "language": "python",
   "name": "python3"
  },
  "language_info": {
   "codemirror_mode": {
    "name": "ipython",
    "version": 3
   },
   "file_extension": ".py",
   "mimetype": "text/x-python",
   "name": "python",
   "nbconvert_exporter": "python",
   "pygments_lexer": "ipython3",
   "version": "3.7.13"
  }
 },
 "nbformat": 4,
 "nbformat_minor": 5
}
